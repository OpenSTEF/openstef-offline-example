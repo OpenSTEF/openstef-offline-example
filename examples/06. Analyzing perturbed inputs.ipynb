{
 "cells": [
  {
   "cell_type": "markdown",
   "id": "bfb2e5f7-c103-4df7-ab35-beaf55859d36",
   "metadata": {},
   "source": [
    "# Analyzing pertubed inputs\n",
    "\n",
    "In this notebook, we are evaluating how modifications of the inputdata affect the accuracy of the forecasting model.\n",
    "To this end, the `train_pipeline_common` function is used from OpenSTEF, which allows detailed modifications of the input data.\n",
    "\n",
    "As an example, this notebook investigates how maintenance affects forecasting the load on a single transformer.\n",
    "Maintenance is simulated by multiplying the load by  0 (the transformer is turned off), or a factor of 2 (another transformer at the station is turned off, increasing the load on this transformer).\n",
    "Here, we consider two cases;\n",
    "- Maintenance in the train set\n",
    "- Maintenance in the T-.. features.\n",
    "\n",
    "\n",
    "This notebook can be addapted to perform other analyses where modifications on the inputdata need to be made."
   ]
  },
  {
   "cell_type": "code",
   "execution_count": null,
   "id": "f11a388c-2616-4746-9cd8-fca36aa70af8",
   "metadata": {},
   "outputs": [],
   "source": [
    "import pandas as pd\n",
    "import numpy as np\n",
    "from datetime import timedelta\n",
    "from tqdm.notebook import tqdm\n",
    "import plotly.express as px\n",
    "\n",
    "# Set plotly as the default pandas plotting backend\n",
    "pd.options.plotting.backend = 'plotly'\n",
    "import plotly.io as pio\n",
    "pio.renderers.default = \"plotly_mimetype+notebook\"\n",
    "\n",
    "# Import required stuff from OpenSTEF\n",
    "from openstef.data_classes.prediction_job import PredictionJobDataClass\n",
    "from openstef.data_classes.model_specifications import ModelSpecificationDataClass\n",
    "\n",
    "from openstef.metrics.figure import plot_feature_importance\n",
    "from openstef.pipeline.train_model import train_pipeline_common"
   ]
  },
  {
   "cell_type": "markdown",
   "id": "6ea90778-982e-40fe-a40e-915e3609027c",
   "metadata": {},
   "source": [
    "## Load data from csv and inspect"
   ]
  },
  {
   "cell_type": "code",
   "execution_count": null,
   "id": "64b87b8e-8938-42a4-a12b-00a341d7a5d0",
   "metadata": {},
   "outputs": [],
   "source": [
    "load_feat_df = pd.read_csv('data/get_model_input_pid_435.csv', parse_dates=True, index_col=0)\n",
    "# drop last two days since load here is na\n",
    "load_feat_df = load_feat_df.iloc[:-196, :]\n",
    "load_feat_df[['load']].plot()\n",
    "load_feat_df.head()\n"
   ]
  },
  {
   "cell_type": "code",
   "execution_count": null,
   "id": "056e54fc-86d5-4de4-b239-f83df699dbfd",
   "metadata": {},
   "outputs": [],
   "source": [
    "# Specify shared specs\n",
    "test_days = 2\n",
    "# define properties of training/prediction. We call this a 'prediction_job'\n",
    "pj = PredictionJobDataClass(\n",
    "    id=1,\n",
    "    model='xgb',\n",
    "    quantiles=[50],\n",
    "    horizon_minutes=24*60,\n",
    "    save_train_forecasts=True, # so in the train set, the model is also evaluated.\n",
    "    # Required arguments which are not meaningful in an analyses\n",
    "    forecast_type=\"demand\",\n",
    "    lat=52.0,\n",
    "    lon=5.0,\n",
    "    resolution_minutes=15,\n",
    "    name=\"Example\", \n",
    "       )"
   ]
  },
  {
   "cell_type": "markdown",
   "id": "aff67473-4577-4f83-82e1-27b951e33f12",
   "metadata": {},
   "source": [
    "## Example on using train pipeline to train a model and generate a forecast"
   ]
  },
  {
   "cell_type": "code",
   "execution_count": null,
   "id": "c3b8bb8e-c64e-4c00-993c-08f0fba1bd51",
   "metadata": {},
   "outputs": [],
   "source": [
    "test_indices = load_feat_df[load_feat_df.index>(load_feat_df.index.max()-timedelta(days=test_days))] # last `test_day` days\n",
    "\n",
    "model, report, train_data, validation_data, test_data = train_pipeline_common(\n",
    "    pj,\n",
    "    ModelSpecificationDataClass(id=pj['id']),\n",
    "    load_feat_df,\n",
    "    [pj.horizon_minutes/60.],\n",
    "    test_data_predefined=test_indices,\n",
    ")"
   ]
  },
  {
   "cell_type": "code",
   "execution_count": null,
   "id": "ebf50f50-1db3-46cc-9a25-a2fecad8ca33",
   "metadata": {},
   "outputs": [],
   "source": [
    "test_data[['load','forecast']].plot()\n",
    "fig = train_data.resample('15T').mean()[['load','forecast']].plot()\n",
    "fig.update_traces(connectgaps=False)\n"
   ]
  },
  {
   "cell_type": "code",
   "execution_count": null,
   "id": "70772a68",
   "metadata": {},
   "outputs": [],
   "source": [
    "plot_feature_importance(model.feature_importance_dataframe)\n",
    "# Note that gaps in the trainset are due to that data being in the validation set used for early stopping."
   ]
  },
  {
   "cell_type": "code",
   "execution_count": null,
   "id": "4ad3c6d3-d89f-4675-ae96-42bd8b66c717",
   "metadata": {},
   "outputs": [],
   "source": [
    "def add_kpi(df: pd.DataFrame(columns=['load','forecast']), kpi_df: pd.DataFrame, identifier: dict[str, [float, str]]) -> pd.DataFrame:\n",
    "    \"\"\"calculate kpis and add to kpi_df\"\"\"\n",
    "    abs_err = test_data[['load','forecast']].diff(axis=1).iloc[:,1].abs()\n",
    "    kpi = dict(\n",
    "        mae=abs_err.mean()/1_000_000,\n",
    "        rmae=abs_err.mean()/(test_data.load.max()-test_data.load.min()),\n",
    "    )\n",
    "    kpi.update(identifier)\n",
    "    kpi_df = pd.concat([kpi_df, pd.DataFrame(kpi, index=[len(kpi_df)])])\n",
    "    return kpi_df"
   ]
  },
  {
   "cell_type": "code",
   "execution_count": null,
   "id": "f98a48f6-0759-4783-b97f-932e3edd11bf",
   "metadata": {},
   "outputs": [],
   "source": [
    "kpi_df = pd.DataFrame()\n",
    "n_simulations = 60 # increase this to increase the number of simulations\n",
    "# Now, let's simulate n days of maintenance; half off, half high\n",
    "n_days_modified_options = [0,2,4,6,12,18]\n",
    "for i in tqdm(range(10)):\n",
    "    # Sample dates to simulate maintenance\n",
    "    n_days_modified=np.random.choice(n_days_modified_options)\n",
    "    all_days = [date for date in load_feat_df.index.date if date < (test_data.index.min()-timedelta(days=2)).date()] # also not final 2 days of train set, so it doesn't affect most important features of testset\n",
    "    mod_days = np.random.choice(all_days, n_days_modified, replace=False)\n",
    "    \n",
    "    # Modify load\n",
    "    mod_df = load_feat_df.copy(deep=True)\n",
    "    mod_df.loc[[x for x in mod_df.index if x.date() in mod_days[::2]],'load'] = 0\n",
    "    mod_df.loc[[x for x in mod_df.index if x.date() in mod_days[1::2]],'load'] *= 2\n",
    "    \n",
    "    # Train and evaluate model\n",
    "    model, report, train_data, validation_data, test_data = train_pipeline_common(\n",
    "        pj,\n",
    "        ModelSpecificationDataClass(id=pj['id']),\n",
    "        mod_df,\n",
    "        [pj.horizon_minutes/60.],\n",
    "        test_data_predefined=test_indices,\n",
    "    )\n",
    "\n",
    "    # Calculate metric\n",
    "    kpi_df = add_kpi(test_data[['load','forecast']], kpi_df=kpi_df, identifier=dict(n_days_modified=n_days_modified))\n",
    "    \n",
    "    #Plot the first 10 testsets\n",
    "    if i<10:\n",
    "        print(mod_days)\n",
    "        fig = pd.concat([train_data[['load','forecast']], validation_data[['load', 'forecast']], test_data[['load','forecast']]],\n",
    "                  axis=0).sort_index().resample('15T').mean().plot()\n",
    "        fig.add_annotation(dict(x=train_data.index.max(), showarrow=False, text='End of train'))\n",
    "        fig.update_traces(connectgaps=False)\n",
    "        # Add highlighted areas of interest\n",
    "        for date in mod_days:\n",
    "            fig.add_shape(\n",
    "                type=\"rect\",\n",
    "                x0=date,\n",
    "                x1=date+timedelta(days=1),\n",
    "                y0=0,\n",
    "                y1=1,\n",
    "                yref='paper',\n",
    "                fillcolor=\"green\",\n",
    "                opacity=0.2,\n",
    "            )\n",
    "        fig.show()\n",
    "            "
   ]
  },
  {
   "cell_type": "code",
   "execution_count": null,
   "id": "882c2203-a01a-4616-bc77-49fc6c960b2a",
   "metadata": {},
   "outputs": [],
   "source": [
    "# Plot KPIs\n",
    "fig = px.box(kpi_df, x=\"n_days_modified\", y=\"rmae\")\n",
    "fig.update_layout(yaxis=dict(rangemode='tozero'), width=300, height=300, margin=dict(t=0,b=0,l=0,r=0))\n",
    "fig.show()"
   ]
  },
  {
   "cell_type": "markdown",
   "id": "64e1abbc-c017-41e0-a70b-0495e907ed04",
   "metadata": {},
   "source": [
    "## Repeat, but now with the maintenance after training, but before the days under examination\n",
    "Specify last 4 days of testing, apply maintenance on first two days and evaluate performance on last 2"
   ]
  },
  {
   "cell_type": "code",
   "execution_count": null,
   "id": "1d1a01fd-9053-4297-b145-5bda306bd096",
   "metadata": {},
   "outputs": [],
   "source": [
    "non_train_indices = load_feat_df[load_feat_df.index>(load_feat_df.index.max()-timedelta(days=4))]\n",
    "maintenance_indices = non_train_indices[:non_train_indices.index.min()+timedelta(days=2)]\n",
    "test_indices = non_train_indices[maintenance_indices.index.max():]"
   ]
  },
  {
   "cell_type": "code",
   "execution_count": null,
   "id": "a3434605-b201-4162-a90b-fcab30fb9c42",
   "metadata": {
    "tags": []
   },
   "outputs": [],
   "source": [
    "kpi_t2d_df = pd.DataFrame()\n",
    "n_days_simulation = 40 # Increase to make this more extensive\n",
    "\n",
    "# Now, let's simulate n days of maintenance; after training and before forecast.\n",
    "# 0<=n<=2, and maintenance causes load of either 0 or double\n",
    "for i in tqdm(range(n_days_simulation)):\n",
    "    # Sample which days to apply maintenance\n",
    "    options = [(0,0),(0,1),(0,2),(1,0),(1,1),(2,0)] #n_days_high, n_days_low\n",
    "    modification = options[np.random.choice(range(len(options)), size=1)[0]] \n",
    "    all_days = load_feat_df[~load_feat_df.index.isin(maintenance_indices)].index.date\n",
    "    high_days = np.random.choice(list(set(maintenance_indices.index.date)), modification[0], replace=False)\n",
    "    low_days = np.random.choice(list(set(maintenance_indices.index.date).difference(high_days)), modification[1], replace=False)\n",
    "    \n",
    "    # Modify load\n",
    "    mod_df = load_feat_df.copy(deep=True)\n",
    "    mod_df.loc[[x for x in mod_df.index if x.date() in low_days],'load'] = 0\n",
    "    mod_df.loc[[x for x in mod_df.index if x.date() in high_days],'load'] *= 2\n",
    "    \n",
    "    # Train and evaluate model\n",
    "    model, report, train_data, validation_data, test_data = train_pipeline_common(\n",
    "        pj,\n",
    "        ModelSpecificationDataClass(id=pj['id']),\n",
    "        mod_df,\n",
    "        [pj.horizon_minutes/60.],\n",
    "        test_data_predefined=non_train_indices, # last 4 days\n",
    "    )\n",
    "\n",
    "    # Calculate error only over test_indices: last two days\n",
    "    kpi_t2d_df = add_kpi(test_data.loc[test_indices.index.min():test_indices.index.max(),['load','forecast']],\n",
    "                     kpi_df=kpi_t2d_df, \n",
    "                     identifier=dict(mod=str(modification)))\n",
    "    \n",
    "    #Plot the first 10 testsets\n",
    "    if i<10:\n",
    "        print(modification)\n",
    "        fig = test_data[['load','forecast']].resample('15T').mean().plot()\n",
    "        fig.update_traces(connectgaps=False)\n",
    "    "
   ]
  },
  {
   "cell_type": "code",
   "execution_count": null,
   "id": "0c7d0d2d-0e7c-4024-b02a-ef8d5ae48df4",
   "metadata": {},
   "outputs": [],
   "source": [
    "fig = px.box(kpi_t2d_df, x=\"mod\", y=\"rmae\")\n",
    "fig.update_layout(yaxis=dict(rangemode='tozero'), width=300, height=300, margin=dict(t=0,b=0,l=0,r=0))\n",
    "fig.show()"
   ]
  }
 ],
 "metadata": {
  "kernelspec": {
   "display_name": "Python 3 (ipykernel)",
   "language": "python",
   "name": "python3"
  },
  "language_info": {
   "codemirror_mode": {
    "name": "ipython",
    "version": 3
   },
   "file_extension": ".py",
   "mimetype": "text/x-python",
   "name": "python",
   "nbconvert_exporter": "python",
   "pygments_lexer": "ipython3",
   "version": "3.9.16"
  }
 },
 "nbformat": 4,
 "nbformat_minor": 5
}
