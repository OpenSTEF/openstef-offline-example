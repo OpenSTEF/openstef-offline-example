{
 "cells": [
  {
   "cell_type": "markdown",
   "id": "86f4286a",
   "metadata": {
    "ExecuteTime": {
     "end_time": "2021-08-25T08:05:09.191375Z",
     "start_time": "2021-08-25T08:05:09.185368Z"
    }
   },
   "source": [
    "# Example to train a model\n",
    "Using the openstf tasks"
   ]
  },
  {
   "cell_type": "code",
   "execution_count": 1,
   "id": "b58cb655",
   "metadata": {
    "ExecuteTime": {
     "end_time": "2022-02-09T16:32:13.735781Z",
     "start_time": "2022-02-09T16:32:07.431216Z"
    }
   },
   "outputs": [
    {
     "name": "stdout",
     "output_type": "stream",
     "text": [
      "2023-01-26 16:19:07 [info     ] Proloaf not available, setting constructor to None\n"
     ]
    }
   ],
   "source": [
    "import pandas as pd\n",
    "import IPython\n",
    "from openstef.pipeline.train_model import train_model_pipeline\n",
    "from openstef.pipeline.create_forecast import create_forecast_pipeline\n",
    "from openstef.metrics import metrics\n",
    "from openstef.data_classes.prediction_job import PredictionJobDataClass"
   ]
  },
  {
   "cell_type": "code",
   "execution_count": 34,
   "id": "6a062d66",
   "metadata": {
    "ExecuteTime": {
     "end_time": "2022-02-09T16:32:17.007177Z",
     "start_time": "2022-02-09T16:32:16.772982Z"
    }
   },
   "outputs": [],
   "source": [
    "# define properties of training/prediction. We call this a 'prediction_job'\n",
    "pj=dict(id=287,\n",
    "        model='xgb',\n",
    "        quantiles=[0.05, 0.1, 0.3, 0.5, 0.7, 0.9, 0.95],\n",
    "        name=\"backtest\",\n",
    "        forecast_type=\"demand\",\n",
    "        lat=52.0,\n",
    "        lon=5.0,\n",
    "        horizon_minutes=47*60,\n",
    "        description=\"description\",\n",
    "        resolution_minutes=15,\n",
    "        hyper_params={}, # Note, this should become optional\n",
    "        feature_names=None, # Note, this should become optional\n",
    "       )\n",
    "\n",
    "pj  = PredictionJobDataClass(**pj)\n",
    "\n",
    "# Load input data\n",
    "input_data = pd.read_csv('data/get_model_input_pid_287.csv', index_col='index', parse_dates=True)\n",
    "# Last 200 rows are empty, remove them\n",
    "input_data = input_data.iloc[:-200,:]\n",
    "\n",
    "# Split in training and forecasting data\n",
    "train_data = input_data.iloc[:-200,:] # everything except last 200 rows (~ 48 hours)\n",
    "test_indices = input_data.iloc[-200:,:].index # last 200 rows"
   ]
  },
  {
   "cell_type": "code",
   "execution_count": 3,
   "id": "7b44f2c5",
   "metadata": {
    "ExecuteTime": {
     "end_time": "2022-02-09T16:32:17.957518Z",
     "start_time": "2022-02-09T16:32:17.911765Z"
    },
    "scrolled": true
   },
   "outputs": [
    {
     "data": {
      "text/html": [
       "<div>\n",
       "<style scoped>\n",
       "    .dataframe tbody tr th:only-of-type {\n",
       "        vertical-align: middle;\n",
       "    }\n",
       "\n",
       "    .dataframe tbody tr th {\n",
       "        vertical-align: top;\n",
       "    }\n",
       "\n",
       "    .dataframe thead th {\n",
       "        text-align: right;\n",
       "    }\n",
       "</style>\n",
       "<table border=\"1\" class=\"dataframe\">\n",
       "  <thead>\n",
       "    <tr style=\"text-align: right;\">\n",
       "      <th></th>\n",
       "      <th>load</th>\n",
       "      <th>APX</th>\n",
       "      <th>clouds</th>\n",
       "      <th>radiation</th>\n",
       "      <th>temp</th>\n",
       "      <th>winddeg</th>\n",
       "      <th>windspeed</th>\n",
       "      <th>windspeed_100m</th>\n",
       "      <th>pressure</th>\n",
       "      <th>humidity</th>\n",
       "      <th>...</th>\n",
       "      <th>sjv_E1A</th>\n",
       "      <th>sjv_E1B</th>\n",
       "      <th>sjv_E1C</th>\n",
       "      <th>sjv_E2A</th>\n",
       "      <th>sjv_E2B</th>\n",
       "      <th>sjv_E3A</th>\n",
       "      <th>sjv_E3B</th>\n",
       "      <th>sjv_E3C</th>\n",
       "      <th>sjv_E3D</th>\n",
       "      <th>sjv_E4A</th>\n",
       "    </tr>\n",
       "    <tr>\n",
       "      <th>index</th>\n",
       "      <th></th>\n",
       "      <th></th>\n",
       "      <th></th>\n",
       "      <th></th>\n",
       "      <th></th>\n",
       "      <th></th>\n",
       "      <th></th>\n",
       "      <th></th>\n",
       "      <th></th>\n",
       "      <th></th>\n",
       "      <th></th>\n",
       "      <th></th>\n",
       "      <th></th>\n",
       "      <th></th>\n",
       "      <th></th>\n",
       "      <th></th>\n",
       "      <th></th>\n",
       "      <th></th>\n",
       "      <th></th>\n",
       "      <th></th>\n",
       "      <th></th>\n",
       "    </tr>\n",
       "  </thead>\n",
       "  <tbody>\n",
       "    <tr>\n",
       "      <th>2020-10-02 09:45:00+00:00</th>\n",
       "      <td>3.310000</td>\n",
       "      <td>NaN</td>\n",
       "      <td>NaN</td>\n",
       "      <td>NaN</td>\n",
       "      <td>NaN</td>\n",
       "      <td>NaN</td>\n",
       "      <td>NaN</td>\n",
       "      <td>NaN</td>\n",
       "      <td>NaN</td>\n",
       "      <td>NaN</td>\n",
       "      <td>...</td>\n",
       "      <td>NaN</td>\n",
       "      <td>NaN</td>\n",
       "      <td>NaN</td>\n",
       "      <td>NaN</td>\n",
       "      <td>NaN</td>\n",
       "      <td>NaN</td>\n",
       "      <td>NaN</td>\n",
       "      <td>NaN</td>\n",
       "      <td>NaN</td>\n",
       "      <td>NaN</td>\n",
       "    </tr>\n",
       "    <tr>\n",
       "      <th>2020-10-02 10:00:00+00:00</th>\n",
       "      <td>2.620000</td>\n",
       "      <td>34.0</td>\n",
       "      <td>99.758911</td>\n",
       "      <td>1.552899e+06</td>\n",
       "      <td>16.449036</td>\n",
       "      <td>154.711456</td>\n",
       "      <td>3.527778</td>\n",
       "      <td>9.349441</td>\n",
       "      <td>99453.476562</td>\n",
       "      <td>0.686240</td>\n",
       "      <td>...</td>\n",
       "      <td>0.000031</td>\n",
       "      <td>0.000030</td>\n",
       "      <td>0.000029</td>\n",
       "      <td>0.000033</td>\n",
       "      <td>0.000032</td>\n",
       "      <td>0.000061</td>\n",
       "      <td>0.000048</td>\n",
       "      <td>0.000048</td>\n",
       "      <td>0.000031</td>\n",
       "      <td>0.0</td>\n",
       "    </tr>\n",
       "    <tr>\n",
       "      <th>2020-10-02 10:15:00+00:00</th>\n",
       "      <td>0.796667</td>\n",
       "      <td>34.0</td>\n",
       "      <td>99.819193</td>\n",
       "      <td>1.575618e+06</td>\n",
       "      <td>16.400948</td>\n",
       "      <td>157.491554</td>\n",
       "      <td>3.557639</td>\n",
       "      <td>9.232026</td>\n",
       "      <td>99416.363281</td>\n",
       "      <td>0.683780</td>\n",
       "      <td>...</td>\n",
       "      <td>0.000032</td>\n",
       "      <td>0.000030</td>\n",
       "      <td>0.000029</td>\n",
       "      <td>0.000033</td>\n",
       "      <td>0.000032</td>\n",
       "      <td>0.000060</td>\n",
       "      <td>0.000048</td>\n",
       "      <td>0.000048</td>\n",
       "      <td>0.000031</td>\n",
       "      <td>0.0</td>\n",
       "    </tr>\n",
       "    <tr>\n",
       "      <th>2020-10-02 10:30:00+00:00</th>\n",
       "      <td>0.300000</td>\n",
       "      <td>34.0</td>\n",
       "      <td>99.879475</td>\n",
       "      <td>1.598338e+06</td>\n",
       "      <td>16.352859</td>\n",
       "      <td>160.271652</td>\n",
       "      <td>3.587500</td>\n",
       "      <td>9.114612</td>\n",
       "      <td>99379.250000</td>\n",
       "      <td>0.681319</td>\n",
       "      <td>...</td>\n",
       "      <td>0.000032</td>\n",
       "      <td>0.000031</td>\n",
       "      <td>0.000029</td>\n",
       "      <td>0.000033</td>\n",
       "      <td>0.000031</td>\n",
       "      <td>0.000058</td>\n",
       "      <td>0.000048</td>\n",
       "      <td>0.000048</td>\n",
       "      <td>0.000031</td>\n",
       "      <td>0.0</td>\n",
       "    </tr>\n",
       "    <tr>\n",
       "      <th>2020-10-02 10:45:00+00:00</th>\n",
       "      <td>1.773333</td>\n",
       "      <td>34.0</td>\n",
       "      <td>99.939756</td>\n",
       "      <td>1.594736e+06</td>\n",
       "      <td>16.304771</td>\n",
       "      <td>163.051750</td>\n",
       "      <td>3.617361</td>\n",
       "      <td>8.997197</td>\n",
       "      <td>99342.136719</td>\n",
       "      <td>0.678859</td>\n",
       "      <td>...</td>\n",
       "      <td>0.000032</td>\n",
       "      <td>0.000030</td>\n",
       "      <td>0.000029</td>\n",
       "      <td>0.000032</td>\n",
       "      <td>0.000031</td>\n",
       "      <td>0.000057</td>\n",
       "      <td>0.000048</td>\n",
       "      <td>0.000048</td>\n",
       "      <td>0.000031</td>\n",
       "      <td>0.0</td>\n",
       "    </tr>\n",
       "  </tbody>\n",
       "</table>\n",
       "<p>5 rows × 25 columns</p>\n",
       "</div>"
      ],
      "text/plain": [
       "                               load   APX     clouds     radiation       temp  \\\n",
       "index                                                                           \n",
       "2020-10-02 09:45:00+00:00  3.310000   NaN        NaN           NaN        NaN   \n",
       "2020-10-02 10:00:00+00:00  2.620000  34.0  99.758911  1.552899e+06  16.449036   \n",
       "2020-10-02 10:15:00+00:00  0.796667  34.0  99.819193  1.575618e+06  16.400948   \n",
       "2020-10-02 10:30:00+00:00  0.300000  34.0  99.879475  1.598338e+06  16.352859   \n",
       "2020-10-02 10:45:00+00:00  1.773333  34.0  99.939756  1.594736e+06  16.304771   \n",
       "\n",
       "                              winddeg  windspeed  windspeed_100m  \\\n",
       "index                                                              \n",
       "2020-10-02 09:45:00+00:00         NaN        NaN             NaN   \n",
       "2020-10-02 10:00:00+00:00  154.711456   3.527778        9.349441   \n",
       "2020-10-02 10:15:00+00:00  157.491554   3.557639        9.232026   \n",
       "2020-10-02 10:30:00+00:00  160.271652   3.587500        9.114612   \n",
       "2020-10-02 10:45:00+00:00  163.051750   3.617361        8.997197   \n",
       "\n",
       "                               pressure  humidity  ...   sjv_E1A   sjv_E1B  \\\n",
       "index                                              ...                       \n",
       "2020-10-02 09:45:00+00:00           NaN       NaN  ...       NaN       NaN   \n",
       "2020-10-02 10:00:00+00:00  99453.476562  0.686240  ...  0.000031  0.000030   \n",
       "2020-10-02 10:15:00+00:00  99416.363281  0.683780  ...  0.000032  0.000030   \n",
       "2020-10-02 10:30:00+00:00  99379.250000  0.681319  ...  0.000032  0.000031   \n",
       "2020-10-02 10:45:00+00:00  99342.136719  0.678859  ...  0.000032  0.000030   \n",
       "\n",
       "                            sjv_E1C   sjv_E2A   sjv_E2B   sjv_E3A   sjv_E3B  \\\n",
       "index                                                                         \n",
       "2020-10-02 09:45:00+00:00       NaN       NaN       NaN       NaN       NaN   \n",
       "2020-10-02 10:00:00+00:00  0.000029  0.000033  0.000032  0.000061  0.000048   \n",
       "2020-10-02 10:15:00+00:00  0.000029  0.000033  0.000032  0.000060  0.000048   \n",
       "2020-10-02 10:30:00+00:00  0.000029  0.000033  0.000031  0.000058  0.000048   \n",
       "2020-10-02 10:45:00+00:00  0.000029  0.000032  0.000031  0.000057  0.000048   \n",
       "\n",
       "                            sjv_E3C   sjv_E3D  sjv_E4A  \n",
       "index                                                   \n",
       "2020-10-02 09:45:00+00:00       NaN       NaN      NaN  \n",
       "2020-10-02 10:00:00+00:00  0.000048  0.000031      0.0  \n",
       "2020-10-02 10:15:00+00:00  0.000048  0.000031      0.0  \n",
       "2020-10-02 10:30:00+00:00  0.000048  0.000031      0.0  \n",
       "2020-10-02 10:45:00+00:00  0.000048  0.000031      0.0  \n",
       "\n",
       "[5 rows x 25 columns]"
      ]
     },
     "execution_count": 3,
     "metadata": {},
     "output_type": "execute_result"
    }
   ],
   "source": [
    "train_data.head()"
   ]
  },
  {
   "cell_type": "code",
   "execution_count": 5,
   "id": "09f197a0",
   "metadata": {
    "ExecuteTime": {
     "end_time": "2022-02-09T16:32:18.774539Z",
     "start_time": "2022-02-09T16:32:18.740534Z"
    }
   },
   "outputs": [
    {
     "data": {
      "text/html": [
       "<div>\n",
       "<style scoped>\n",
       "    .dataframe tbody tr th:only-of-type {\n",
       "        vertical-align: middle;\n",
       "    }\n",
       "\n",
       "    .dataframe tbody tr th {\n",
       "        vertical-align: top;\n",
       "    }\n",
       "\n",
       "    .dataframe thead th {\n",
       "        text-align: right;\n",
       "    }\n",
       "</style>\n",
       "<table border=\"1\" class=\"dataframe\">\n",
       "  <thead>\n",
       "    <tr style=\"text-align: right;\">\n",
       "      <th></th>\n",
       "      <th>load</th>\n",
       "      <th>APX</th>\n",
       "      <th>clouds</th>\n",
       "      <th>radiation</th>\n",
       "      <th>temp</th>\n",
       "      <th>winddeg</th>\n",
       "      <th>windspeed</th>\n",
       "      <th>windspeed_100m</th>\n",
       "      <th>pressure</th>\n",
       "      <th>humidity</th>\n",
       "      <th>...</th>\n",
       "      <th>sjv_E1A</th>\n",
       "      <th>sjv_E1B</th>\n",
       "      <th>sjv_E1C</th>\n",
       "      <th>sjv_E2A</th>\n",
       "      <th>sjv_E2B</th>\n",
       "      <th>sjv_E3A</th>\n",
       "      <th>sjv_E3B</th>\n",
       "      <th>sjv_E3C</th>\n",
       "      <th>sjv_E3D</th>\n",
       "      <th>sjv_E4A</th>\n",
       "    </tr>\n",
       "    <tr>\n",
       "      <th>index</th>\n",
       "      <th></th>\n",
       "      <th></th>\n",
       "      <th></th>\n",
       "      <th></th>\n",
       "      <th></th>\n",
       "      <th></th>\n",
       "      <th></th>\n",
       "      <th></th>\n",
       "      <th></th>\n",
       "      <th></th>\n",
       "      <th></th>\n",
       "      <th></th>\n",
       "      <th></th>\n",
       "      <th></th>\n",
       "      <th></th>\n",
       "      <th></th>\n",
       "      <th></th>\n",
       "      <th></th>\n",
       "      <th></th>\n",
       "      <th></th>\n",
       "      <th></th>\n",
       "    </tr>\n",
       "  </thead>\n",
       "  <tbody>\n",
       "    <tr>\n",
       "      <th>2020-10-02 09:45:00+00:00</th>\n",
       "      <td>3.310000</td>\n",
       "      <td>NaN</td>\n",
       "      <td>NaN</td>\n",
       "      <td>NaN</td>\n",
       "      <td>NaN</td>\n",
       "      <td>NaN</td>\n",
       "      <td>NaN</td>\n",
       "      <td>NaN</td>\n",
       "      <td>NaN</td>\n",
       "      <td>NaN</td>\n",
       "      <td>...</td>\n",
       "      <td>NaN</td>\n",
       "      <td>NaN</td>\n",
       "      <td>NaN</td>\n",
       "      <td>NaN</td>\n",
       "      <td>NaN</td>\n",
       "      <td>NaN</td>\n",
       "      <td>NaN</td>\n",
       "      <td>NaN</td>\n",
       "      <td>NaN</td>\n",
       "      <td>NaN</td>\n",
       "    </tr>\n",
       "    <tr>\n",
       "      <th>2020-10-02 10:00:00+00:00</th>\n",
       "      <td>2.620000</td>\n",
       "      <td>34.0</td>\n",
       "      <td>99.758911</td>\n",
       "      <td>1.552899e+06</td>\n",
       "      <td>16.449036</td>\n",
       "      <td>154.711456</td>\n",
       "      <td>3.527778</td>\n",
       "      <td>9.349441</td>\n",
       "      <td>99453.476562</td>\n",
       "      <td>0.686240</td>\n",
       "      <td>...</td>\n",
       "      <td>0.000031</td>\n",
       "      <td>0.000030</td>\n",
       "      <td>0.000029</td>\n",
       "      <td>0.000033</td>\n",
       "      <td>0.000032</td>\n",
       "      <td>0.000061</td>\n",
       "      <td>0.000048</td>\n",
       "      <td>0.000048</td>\n",
       "      <td>0.000031</td>\n",
       "      <td>0.0</td>\n",
       "    </tr>\n",
       "    <tr>\n",
       "      <th>2020-10-02 10:15:00+00:00</th>\n",
       "      <td>0.796667</td>\n",
       "      <td>34.0</td>\n",
       "      <td>99.819193</td>\n",
       "      <td>1.575618e+06</td>\n",
       "      <td>16.400948</td>\n",
       "      <td>157.491554</td>\n",
       "      <td>3.557639</td>\n",
       "      <td>9.232026</td>\n",
       "      <td>99416.363281</td>\n",
       "      <td>0.683780</td>\n",
       "      <td>...</td>\n",
       "      <td>0.000032</td>\n",
       "      <td>0.000030</td>\n",
       "      <td>0.000029</td>\n",
       "      <td>0.000033</td>\n",
       "      <td>0.000032</td>\n",
       "      <td>0.000060</td>\n",
       "      <td>0.000048</td>\n",
       "      <td>0.000048</td>\n",
       "      <td>0.000031</td>\n",
       "      <td>0.0</td>\n",
       "    </tr>\n",
       "    <tr>\n",
       "      <th>2020-10-02 10:30:00+00:00</th>\n",
       "      <td>0.300000</td>\n",
       "      <td>34.0</td>\n",
       "      <td>99.879475</td>\n",
       "      <td>1.598338e+06</td>\n",
       "      <td>16.352859</td>\n",
       "      <td>160.271652</td>\n",
       "      <td>3.587500</td>\n",
       "      <td>9.114612</td>\n",
       "      <td>99379.250000</td>\n",
       "      <td>0.681319</td>\n",
       "      <td>...</td>\n",
       "      <td>0.000032</td>\n",
       "      <td>0.000031</td>\n",
       "      <td>0.000029</td>\n",
       "      <td>0.000033</td>\n",
       "      <td>0.000031</td>\n",
       "      <td>0.000058</td>\n",
       "      <td>0.000048</td>\n",
       "      <td>0.000048</td>\n",
       "      <td>0.000031</td>\n",
       "      <td>0.0</td>\n",
       "    </tr>\n",
       "    <tr>\n",
       "      <th>2020-10-02 10:45:00+00:00</th>\n",
       "      <td>1.773333</td>\n",
       "      <td>34.0</td>\n",
       "      <td>99.939756</td>\n",
       "      <td>1.594736e+06</td>\n",
       "      <td>16.304771</td>\n",
       "      <td>163.051750</td>\n",
       "      <td>3.617361</td>\n",
       "      <td>8.997197</td>\n",
       "      <td>99342.136719</td>\n",
       "      <td>0.678859</td>\n",
       "      <td>...</td>\n",
       "      <td>0.000032</td>\n",
       "      <td>0.000030</td>\n",
       "      <td>0.000029</td>\n",
       "      <td>0.000032</td>\n",
       "      <td>0.000031</td>\n",
       "      <td>0.000057</td>\n",
       "      <td>0.000048</td>\n",
       "      <td>0.000048</td>\n",
       "      <td>0.000031</td>\n",
       "      <td>0.0</td>\n",
       "    </tr>\n",
       "  </tbody>\n",
       "</table>\n",
       "<p>5 rows × 25 columns</p>\n",
       "</div>"
      ],
      "text/plain": [
       "                               load   APX     clouds     radiation       temp  \\\n",
       "index                                                                           \n",
       "2020-10-02 09:45:00+00:00  3.310000   NaN        NaN           NaN        NaN   \n",
       "2020-10-02 10:00:00+00:00  2.620000  34.0  99.758911  1.552899e+06  16.449036   \n",
       "2020-10-02 10:15:00+00:00  0.796667  34.0  99.819193  1.575618e+06  16.400948   \n",
       "2020-10-02 10:30:00+00:00  0.300000  34.0  99.879475  1.598338e+06  16.352859   \n",
       "2020-10-02 10:45:00+00:00  1.773333  34.0  99.939756  1.594736e+06  16.304771   \n",
       "\n",
       "                              winddeg  windspeed  windspeed_100m  \\\n",
       "index                                                              \n",
       "2020-10-02 09:45:00+00:00         NaN        NaN             NaN   \n",
       "2020-10-02 10:00:00+00:00  154.711456   3.527778        9.349441   \n",
       "2020-10-02 10:15:00+00:00  157.491554   3.557639        9.232026   \n",
       "2020-10-02 10:30:00+00:00  160.271652   3.587500        9.114612   \n",
       "2020-10-02 10:45:00+00:00  163.051750   3.617361        8.997197   \n",
       "\n",
       "                               pressure  humidity  ...   sjv_E1A   sjv_E1B  \\\n",
       "index                                              ...                       \n",
       "2020-10-02 09:45:00+00:00           NaN       NaN  ...       NaN       NaN   \n",
       "2020-10-02 10:00:00+00:00  99453.476562  0.686240  ...  0.000031  0.000030   \n",
       "2020-10-02 10:15:00+00:00  99416.363281  0.683780  ...  0.000032  0.000030   \n",
       "2020-10-02 10:30:00+00:00  99379.250000  0.681319  ...  0.000032  0.000031   \n",
       "2020-10-02 10:45:00+00:00  99342.136719  0.678859  ...  0.000032  0.000030   \n",
       "\n",
       "                            sjv_E1C   sjv_E2A   sjv_E2B   sjv_E3A   sjv_E3B  \\\n",
       "index                                                                         \n",
       "2020-10-02 09:45:00+00:00       NaN       NaN       NaN       NaN       NaN   \n",
       "2020-10-02 10:00:00+00:00  0.000029  0.000033  0.000032  0.000061  0.000048   \n",
       "2020-10-02 10:15:00+00:00  0.000029  0.000033  0.000032  0.000060  0.000048   \n",
       "2020-10-02 10:30:00+00:00  0.000029  0.000033  0.000031  0.000058  0.000048   \n",
       "2020-10-02 10:45:00+00:00  0.000029  0.000032  0.000031  0.000057  0.000048   \n",
       "\n",
       "                            sjv_E3C   sjv_E3D  sjv_E4A  \n",
       "index                                                   \n",
       "2020-10-02 09:45:00+00:00       NaN       NaN      NaN  \n",
       "2020-10-02 10:00:00+00:00  0.000048  0.000031      0.0  \n",
       "2020-10-02 10:15:00+00:00  0.000048  0.000031      0.0  \n",
       "2020-10-02 10:30:00+00:00  0.000048  0.000031      0.0  \n",
       "2020-10-02 10:45:00+00:00  0.000048  0.000031      0.0  \n",
       "\n",
       "[5 rows x 25 columns]"
      ]
     },
     "execution_count": 5,
     "metadata": {},
     "output_type": "execute_result"
    }
   ],
   "source": [
    "to_forecast_data.head()"
   ]
  },
  {
   "cell_type": "markdown",
   "id": "e0d17724",
   "metadata": {},
   "source": [
    "# Train a model\n",
    "Train a model using the high-level pipeline. Store the model and reports on training proces in ./trained_models"
   ]
  },
  {
   "cell_type": "code",
   "execution_count": 35,
   "id": "a40f7676",
   "metadata": {
    "ExecuteTime": {
     "end_time": "2022-02-09T16:32:45.902929Z",
     "start_time": "2022-02-09T16:32:30.668780Z"
    }
   },
   "outputs": [
    {
     "name": "stdout",
     "output_type": "stream",
     "text": [
      "2023-01-26 16:29:25 [debug    ] MLflow tracking uri at init= ./trained_models\n"
     ]
    },
    {
     "name": "stderr",
     "output_type": "stream",
     "text": [
      "WARNING:root:Malformed experiment '287'. Detailed error Yaml file '.\\trained_models\\287\\meta.yaml' does not exist.\n",
      "Traceback (most recent call last):\n",
      "  File \"C:\\Users\\al11943\\Anaconda3\\envs\\openstef-offline-example\\lib\\site-packages\\mlflow\\store\\tracking\\file_store.py\", line 285, in search_experiments\n",
      "    exp = self._get_experiment(exp_id, view_type)\n",
      "  File \"C:\\Users\\al11943\\Anaconda3\\envs\\openstef-offline-example\\lib\\site-packages\\mlflow\\store\\tracking\\file_store.py\", line 378, in _get_experiment\n",
      "    meta = FileStore._read_yaml(experiment_dir, FileStore.META_DATA_FILE_NAME)\n",
      "  File \"C:\\Users\\al11943\\Anaconda3\\envs\\openstef-offline-example\\lib\\site-packages\\mlflow\\store\\tracking\\file_store.py\", line 1082, in _read_yaml\n",
      "    return _read_helper(root, file_name, attempts_remaining=retries)\n",
      "  File \"C:\\Users\\al11943\\Anaconda3\\envs\\openstef-offline-example\\lib\\site-packages\\mlflow\\store\\tracking\\file_store.py\", line 1075, in _read_helper\n",
      "    result = read_yaml(root, file_name)\n",
      "  File \"C:\\Users\\al11943\\Anaconda3\\envs\\openstef-offline-example\\lib\\site-packages\\mlflow\\utils\\file_utils.py\", line 213, in read_yaml\n",
      "    raise MissingConfigException(\"Yaml file '%s' does not exist.\" % file_path)\n",
      "mlflow.exceptions.MissingConfigException: Yaml file '.\\trained_models\\287\\meta.yaml' does not exist.\n"
     ]
    },
    {
     "name": "stdout",
     "output_type": "stream",
     "text": [
      "2023-01-26 16:29:25 [warning  ] feature_modules not an attribute of the old model, using None  experiment_name=287\n",
      "2023-01-26 16:29:25 [info     ] Model successfully loaded with MLflow\n",
      "2023-01-26 16:29:25 [info     ] Found 2 values of constant load (repeated values), converted to NaN value. cleansing_step=repeated_values frac_values=0.0001798399424512184 num_values=2 pj_id=287\n",
      "2023-01-26 16:29:25 [info     ] Removed 2 NaN values           num_removed_values=2\n",
      "2023-01-26 16:29:31 [info     ] New model is better than old model, continuing with training procces\n"
     ]
    },
    {
     "name": "stderr",
     "output_type": "stream",
     "text": [
      "WARNING:root:Malformed experiment '287'. Detailed error Yaml file '.\\trained_models\\287\\meta.yaml' does not exist.\n",
      "Traceback (most recent call last):\n",
      "  File \"C:\\Users\\al11943\\Anaconda3\\envs\\openstef-offline-example\\lib\\site-packages\\mlflow\\store\\tracking\\file_store.py\", line 285, in search_experiments\n",
      "    exp = self._get_experiment(exp_id, view_type)\n",
      "  File \"C:\\Users\\al11943\\Anaconda3\\envs\\openstef-offline-example\\lib\\site-packages\\mlflow\\store\\tracking\\file_store.py\", line 378, in _get_experiment\n",
      "    meta = FileStore._read_yaml(experiment_dir, FileStore.META_DATA_FILE_NAME)\n",
      "  File \"C:\\Users\\al11943\\Anaconda3\\envs\\openstef-offline-example\\lib\\site-packages\\mlflow\\store\\tracking\\file_store.py\", line 1082, in _read_yaml\n",
      "    return _read_helper(root, file_name, attempts_remaining=retries)\n",
      "  File \"C:\\Users\\al11943\\Anaconda3\\envs\\openstef-offline-example\\lib\\site-packages\\mlflow\\store\\tracking\\file_store.py\", line 1075, in _read_helper\n",
      "    result = read_yaml(root, file_name)\n",
      "  File \"C:\\Users\\al11943\\Anaconda3\\envs\\openstef-offline-example\\lib\\site-packages\\mlflow\\utils\\file_utils.py\", line 213, in read_yaml\n",
      "    raise MissingConfigException(\"Yaml file '%s' does not exist.\" % file_path)\n",
      "mlflow.exceptions.MissingConfigException: Yaml file '.\\trained_models\\287\\meta.yaml' does not exist.\n",
      "WARNING:root:Malformed experiment '287'. Detailed error Yaml file '.\\trained_models\\287\\meta.yaml' does not exist.\n",
      "Traceback (most recent call last):\n",
      "  File \"C:\\Users\\al11943\\Anaconda3\\envs\\openstef-offline-example\\lib\\site-packages\\mlflow\\store\\tracking\\file_store.py\", line 285, in search_experiments\n",
      "    exp = self._get_experiment(exp_id, view_type)\n",
      "  File \"C:\\Users\\al11943\\Anaconda3\\envs\\openstef-offline-example\\lib\\site-packages\\mlflow\\store\\tracking\\file_store.py\", line 378, in _get_experiment\n",
      "    meta = FileStore._read_yaml(experiment_dir, FileStore.META_DATA_FILE_NAME)\n",
      "  File \"C:\\Users\\al11943\\Anaconda3\\envs\\openstef-offline-example\\lib\\site-packages\\mlflow\\store\\tracking\\file_store.py\", line 1082, in _read_yaml\n",
      "    return _read_helper(root, file_name, attempts_remaining=retries)\n",
      "  File \"C:\\Users\\al11943\\Anaconda3\\envs\\openstef-offline-example\\lib\\site-packages\\mlflow\\store\\tracking\\file_store.py\", line 1075, in _read_helper\n",
      "    result = read_yaml(root, file_name)\n",
      "  File \"C:\\Users\\al11943\\Anaconda3\\envs\\openstef-offline-example\\lib\\site-packages\\mlflow\\utils\\file_utils.py\", line 213, in read_yaml\n",
      "    raise MissingConfigException(\"Yaml file '%s' does not exist.\" % file_path)\n",
      "mlflow.exceptions.MissingConfigException: Yaml file '.\\trained_models\\287\\meta.yaml' does not exist.\n"
     ]
    },
    {
     "name": "stdout",
     "output_type": "stream",
     "text": [
      "2023-01-26 16:29:35 [info     ] Model saved with MLflow        experiment_name=287\n",
      "2023-01-26 16:29:37 [info     ] Logged figures to MLflow.\n",
      "2023-01-26 16:29:37 [info     ] Writing reports to ./trained_models\\287\n"
     ]
    },
    {
     "name": "stderr",
     "output_type": "stream",
     "text": [
      "WARNING:root:Malformed experiment '287'. Detailed error Yaml file '.\\trained_models\\287\\meta.yaml' does not exist.\n",
      "Traceback (most recent call last):\n",
      "  File \"C:\\Users\\al11943\\Anaconda3\\envs\\openstef-offline-example\\lib\\site-packages\\mlflow\\store\\tracking\\file_store.py\", line 285, in search_experiments\n",
      "    exp = self._get_experiment(exp_id, view_type)\n",
      "  File \"C:\\Users\\al11943\\Anaconda3\\envs\\openstef-offline-example\\lib\\site-packages\\mlflow\\store\\tracking\\file_store.py\", line 378, in _get_experiment\n",
      "    meta = FileStore._read_yaml(experiment_dir, FileStore.META_DATA_FILE_NAME)\n",
      "  File \"C:\\Users\\al11943\\Anaconda3\\envs\\openstef-offline-example\\lib\\site-packages\\mlflow\\store\\tracking\\file_store.py\", line 1082, in _read_yaml\n",
      "    return _read_helper(root, file_name, attempts_remaining=retries)\n",
      "  File \"C:\\Users\\al11943\\Anaconda3\\envs\\openstef-offline-example\\lib\\site-packages\\mlflow\\store\\tracking\\file_store.py\", line 1075, in _read_helper\n",
      "    result = read_yaml(root, file_name)\n",
      "  File \"C:\\Users\\al11943\\Anaconda3\\envs\\openstef-offline-example\\lib\\site-packages\\mlflow\\utils\\file_utils.py\", line 213, in read_yaml\n",
      "    raise MissingConfigException(\"Yaml file '%s' does not exist.\" % file_path)\n",
      "mlflow.exceptions.MissingConfigException: Yaml file '.\\trained_models\\287\\meta.yaml' does not exist.\n"
     ]
    }
   ],
   "source": [
    "models = train_model_pipeline(\n",
    "    pj,\n",
    "    train_data,\n",
    "    check_old_model_age=False,\n",
    "    mlflow_tracking_uri=\"./trained_models\",\n",
    "    artifact_folder=\"./trained_models\",\n",
    "    )"
   ]
  },
  {
   "cell_type": "markdown",
   "id": "7209dca5",
   "metadata": {},
   "source": [
    "You can find the trained model in ./trained_models, along with reports on the training process"
   ]
  },
  {
   "cell_type": "code",
   "execution_count": 36,
   "id": "31d29013",
   "metadata": {
    "ExecuteTime": {
     "end_time": "2022-02-09T16:34:36.372856Z",
     "start_time": "2022-02-09T16:34:36.351854Z"
    }
   },
   "outputs": [
    {
     "name": "stderr",
     "output_type": "stream",
     "text": [
      "C:\\Users\\al11943\\Anaconda3\\envs\\openstef-offline-example\\lib\\site-packages\\IPython\\core\\display.py:431: UserWarning:\n",
      "\n",
      "Consider using IPython.display.IFrame instead\n",
      "\n"
     ]
    },
    {
     "data": {
      "text/html": [
       "<iframe src=./trained_models/287/Predictor0.25.html width=800 height=400></iframe><iframe src=./trained_models/287/Predictor47.0.html width=800 height=400></iframe><iframe src=./trained_models/287/weight_plot.html width=800 height=400></iframe>"
      ],
      "text/plain": [
       "<IPython.core.display.HTML object>"
      ]
     },
     "execution_count": 36,
     "metadata": {},
     "output_type": "execute_result"
    }
   ],
   "source": [
    "## Inspect local files\n",
    "IPython.display.HTML(f\"<iframe src=./trained_models/{pj['id']}/Predictor0.25.html width=800 height=400></iframe>\"\n",
    "                     f\"<iframe src=./trained_models/{pj['id']}/Predictor47.0.html width=800 height=400></iframe>\"\n",
    "                     f\"<iframe src=./trained_models/{pj['id']}/weight_plot.html width=800 height=400></iframe>\")"
   ]
  },
  {
   "cell_type": "code",
   "execution_count": 37,
   "id": "d4513acb",
   "metadata": {},
   "outputs": [
    {
     "name": "stdout",
     "output_type": "stream",
     "text": [
      "2023-01-26 16:29:39 [debug    ] MLflow tracking uri at init= ./trained_models\n"
     ]
    },
    {
     "name": "stderr",
     "output_type": "stream",
     "text": [
      "WARNING:root:Malformed experiment '287'. Detailed error Yaml file '.\\trained_models\\287\\meta.yaml' does not exist.\n",
      "Traceback (most recent call last):\n",
      "  File \"C:\\Users\\al11943\\Anaconda3\\envs\\openstef-offline-example\\lib\\site-packages\\mlflow\\store\\tracking\\file_store.py\", line 285, in search_experiments\n",
      "    exp = self._get_experiment(exp_id, view_type)\n",
      "  File \"C:\\Users\\al11943\\Anaconda3\\envs\\openstef-offline-example\\lib\\site-packages\\mlflow\\store\\tracking\\file_store.py\", line 378, in _get_experiment\n",
      "    meta = FileStore._read_yaml(experiment_dir, FileStore.META_DATA_FILE_NAME)\n",
      "  File \"C:\\Users\\al11943\\Anaconda3\\envs\\openstef-offline-example\\lib\\site-packages\\mlflow\\store\\tracking\\file_store.py\", line 1082, in _read_yaml\n",
      "    return _read_helper(root, file_name, attempts_remaining=retries)\n",
      "  File \"C:\\Users\\al11943\\Anaconda3\\envs\\openstef-offline-example\\lib\\site-packages\\mlflow\\store\\tracking\\file_store.py\", line 1075, in _read_helper\n",
      "    result = read_yaml(root, file_name)\n",
      "  File \"C:\\Users\\al11943\\Anaconda3\\envs\\openstef-offline-example\\lib\\site-packages\\mlflow\\utils\\file_utils.py\", line 213, in read_yaml\n",
      "    raise MissingConfigException(\"Yaml file '%s' does not exist.\" % file_path)\n",
      "mlflow.exceptions.MissingConfigException: Yaml file '.\\trained_models\\287\\meta.yaml' does not exist.\n"
     ]
    },
    {
     "name": "stdout",
     "output_type": "stream",
     "text": [
      "2023-01-26 16:29:39 [warning  ] feature_modules not an attribute of the old model, using None  experiment_name=287\n",
      "2023-01-26 16:29:39 [info     ] Model successfully loaded with MLflow\n",
      "2023-01-26 16:29:39 [info     ] Found 202 values of constant load (repeated values), converted to NaN value. cleansing_step=repeated_values frac_values=0.01784294673615405 num_values=202 pj_id=287\n",
      "2023-01-26 16:29:41 [info     ] Postproces in preparation of storing\n"
     ]
    },
    {
     "name": "stderr",
     "output_type": "stream",
     "text": [
      "C:\\Users\\al11943\\Anaconda3\\envs\\openstef-offline-example\\lib\\site-packages\\openstef\\model\\confidence_interval_applicator.py:146: RuntimeWarning:\n",
      "\n",
      "overflow encountered in exp\n",
      "\n"
     ]
    }
   ],
   "source": [
    "import numpy as np\n",
    "realised = input_data.loc[test_indices, 'load'].copy(deep=True)\n",
    "to_forecast_data = input_data.copy(deep=True)\n",
    "to_forecast_data.loc[test_indices, 'load'] = np.nan\n",
    "\n",
    "# Make a forecast\n",
    "forecast = create_forecast_pipeline(pj, to_forecast_data, mlflow_tracking_uri=\"./trained_models\",)"
   ]
  },
  {
   "cell_type": "code",
   "execution_count": 49,
   "id": "a2c61b59-c055-433a-b5e3-1dc8831ab2d5",
   "metadata": {},
   "outputs": [],
   "source": [
    "# Add realised to forecast\n",
    "forecast['load'] = realised"
   ]
  },
  {
   "cell_type": "code",
   "execution_count": 51,
   "id": "e942a5bb",
   "metadata": {},
   "outputs": [
    {
     "data": {
      "text/html": [
       "        <script type=\"text/javascript\">\n",
       "        window.PlotlyConfig = {MathJaxConfig: 'local'};\n",
       "        if (window.MathJax && window.MathJax.Hub && window.MathJax.Hub.Config) {window.MathJax.Hub.Config({SVG: {font: \"STIX-Web\"}});}\n",
       "        if (typeof require !== 'undefined') {\n",
       "        require.undef(\"plotly\");\n",
       "        requirejs.config({\n",
       "            paths: {\n",
       "                'plotly': ['https://cdn.plot.ly/plotly-2.16.1.min']\n",
       "            }\n",
       "        });\n",
       "        require(['plotly'], function(Plotly) {\n",
       "            window._Plotly = Plotly;\n",
       "        });\n",
       "        }\n",
       "        </script>\n",
       "        "
      ]
     },
     "metadata": {},
     "output_type": "display_data"
    },
    {
     "data": {
      "application/vnd.plotly.v1+json": {
       "config": {
        "linkText": "Export to plot.ly",
        "plotlyServerURL": "https://plot.ly",
        "showLink": true
       },
       "data": [
        {
         "line": {
          "color": "rgba(255, 153, 51, 1.0)",
          "dash": "solid",
          "shape": "linear",
          "width": 1.3
         },
         "mode": "lines",
         "name": "forecast",
         "text": "",
         "type": "scatter",
         "x": [
          "2021-01-26 06:00:00+00:00",
          "2021-01-26 06:15:00+00:00",
          "2021-01-26 06:30:00+00:00",
          "2021-01-26 06:45:00+00:00",
          "2021-01-26 07:00:00+00:00",
          "2021-01-26 07:15:00+00:00",
          "2021-01-26 07:30:00+00:00",
          "2021-01-26 07:45:00+00:00",
          "2021-01-26 08:00:00+00:00",
          "2021-01-26 08:15:00+00:00",
          "2021-01-26 08:30:00+00:00",
          "2021-01-26 08:45:00+00:00",
          "2021-01-26 09:00:00+00:00",
          "2021-01-26 09:15:00+00:00",
          "2021-01-26 09:30:00+00:00",
          "2021-01-26 09:45:00+00:00",
          "2021-01-26 10:00:00+00:00",
          "2021-01-26 10:15:00+00:00",
          "2021-01-26 10:30:00+00:00",
          "2021-01-26 10:45:00+00:00",
          "2021-01-26 11:00:00+00:00",
          "2021-01-26 11:15:00+00:00",
          "2021-01-26 11:30:00+00:00",
          "2021-01-26 11:45:00+00:00",
          "2021-01-26 12:00:00+00:00",
          "2021-01-26 12:15:00+00:00",
          "2021-01-26 12:30:00+00:00",
          "2021-01-26 12:45:00+00:00",
          "2021-01-26 13:00:00+00:00",
          "2021-01-26 13:15:00+00:00",
          "2021-01-26 13:30:00+00:00",
          "2021-01-26 13:45:00+00:00",
          "2021-01-26 14:00:00+00:00",
          "2021-01-26 14:15:00+00:00",
          "2021-01-26 14:30:00+00:00",
          "2021-01-26 14:45:00+00:00",
          "2021-01-26 15:00:00+00:00",
          "2021-01-26 15:15:00+00:00",
          "2021-01-26 15:30:00+00:00",
          "2021-01-26 15:45:00+00:00",
          "2021-01-26 16:00:00+00:00",
          "2021-01-26 16:15:00+00:00",
          "2021-01-26 16:30:00+00:00",
          "2021-01-26 16:45:00+00:00",
          "2021-01-26 17:00:00+00:00",
          "2021-01-26 17:15:00+00:00",
          "2021-01-26 17:30:00+00:00",
          "2021-01-26 17:45:00+00:00",
          "2021-01-26 18:00:00+00:00",
          "2021-01-26 18:15:00+00:00",
          "2021-01-26 18:30:00+00:00",
          "2021-01-26 18:45:00+00:00",
          "2021-01-26 19:00:00+00:00",
          "2021-01-26 19:15:00+00:00",
          "2021-01-26 19:30:00+00:00",
          "2021-01-26 19:45:00+00:00",
          "2021-01-26 20:00:00+00:00",
          "2021-01-26 20:15:00+00:00",
          "2021-01-26 20:30:00+00:00",
          "2021-01-26 20:45:00+00:00",
          "2021-01-26 21:00:00+00:00",
          "2021-01-26 21:15:00+00:00",
          "2021-01-26 21:30:00+00:00",
          "2021-01-26 21:45:00+00:00",
          "2021-01-26 22:00:00+00:00",
          "2021-01-26 22:15:00+00:00",
          "2021-01-26 22:30:00+00:00",
          "2021-01-26 22:45:00+00:00",
          "2021-01-26 23:00:00+00:00",
          "2021-01-26 23:15:00+00:00",
          "2021-01-26 23:30:00+00:00",
          "2021-01-26 23:45:00+00:00",
          "2021-01-27 00:00:00+00:00",
          "2021-01-27 00:15:00+00:00",
          "2021-01-27 00:30:00+00:00",
          "2021-01-27 00:45:00+00:00",
          "2021-01-27 01:00:00+00:00",
          "2021-01-27 01:15:00+00:00",
          "2021-01-27 01:30:00+00:00",
          "2021-01-27 01:45:00+00:00",
          "2021-01-27 02:00:00+00:00",
          "2021-01-27 02:15:00+00:00",
          "2021-01-27 02:30:00+00:00",
          "2021-01-27 02:45:00+00:00",
          "2021-01-27 03:00:00+00:00",
          "2021-01-27 03:15:00+00:00",
          "2021-01-27 03:30:00+00:00",
          "2021-01-27 03:45:00+00:00",
          "2021-01-27 04:00:00+00:00",
          "2021-01-27 04:15:00+00:00",
          "2021-01-27 04:30:00+00:00",
          "2021-01-27 04:45:00+00:00",
          "2021-01-27 05:00:00+00:00",
          "2021-01-27 05:15:00+00:00",
          "2021-01-27 05:30:00+00:00",
          "2021-01-27 05:45:00+00:00",
          "2021-01-27 06:00:00+00:00",
          "2021-01-27 06:15:00+00:00",
          "2021-01-27 06:30:00+00:00",
          "2021-01-27 06:45:00+00:00",
          "2021-01-27 07:00:00+00:00",
          "2021-01-27 07:15:00+00:00",
          "2021-01-27 07:30:00+00:00",
          "2021-01-27 07:45:00+00:00",
          "2021-01-27 08:00:00+00:00",
          "2021-01-27 08:15:00+00:00",
          "2021-01-27 08:30:00+00:00",
          "2021-01-27 08:45:00+00:00",
          "2021-01-27 09:00:00+00:00",
          "2021-01-27 09:15:00+00:00",
          "2021-01-27 09:30:00+00:00",
          "2021-01-27 09:45:00+00:00",
          "2021-01-27 10:00:00+00:00",
          "2021-01-27 10:15:00+00:00",
          "2021-01-27 10:30:00+00:00",
          "2021-01-27 10:45:00+00:00",
          "2021-01-27 11:00:00+00:00",
          "2021-01-27 11:15:00+00:00",
          "2021-01-27 11:30:00+00:00",
          "2021-01-27 11:45:00+00:00",
          "2021-01-27 12:00:00+00:00",
          "2021-01-27 12:15:00+00:00",
          "2021-01-27 12:30:00+00:00",
          "2021-01-27 12:45:00+00:00",
          "2021-01-27 13:00:00+00:00",
          "2021-01-27 13:15:00+00:00",
          "2021-01-27 13:30:00+00:00",
          "2021-01-27 13:45:00+00:00",
          "2021-01-27 14:00:00+00:00",
          "2021-01-27 14:15:00+00:00",
          "2021-01-27 14:30:00+00:00",
          "2021-01-27 14:45:00+00:00",
          "2021-01-27 15:00:00+00:00",
          "2021-01-27 15:15:00+00:00",
          "2021-01-27 15:30:00+00:00",
          "2021-01-27 15:45:00+00:00",
          "2021-01-27 16:00:00+00:00",
          "2021-01-27 16:15:00+00:00",
          "2021-01-27 16:30:00+00:00",
          "2021-01-27 16:45:00+00:00",
          "2021-01-27 17:00:00+00:00",
          "2021-01-27 17:15:00+00:00",
          "2021-01-27 17:30:00+00:00",
          "2021-01-27 17:45:00+00:00",
          "2021-01-27 18:00:00+00:00",
          "2021-01-27 18:15:00+00:00",
          "2021-01-27 18:30:00+00:00",
          "2021-01-27 18:45:00+00:00",
          "2021-01-27 19:00:00+00:00",
          "2021-01-27 19:15:00+00:00",
          "2021-01-27 19:30:00+00:00",
          "2021-01-27 19:45:00+00:00",
          "2021-01-27 20:00:00+00:00",
          "2021-01-27 20:15:00+00:00",
          "2021-01-27 20:30:00+00:00",
          "2021-01-27 20:45:00+00:00",
          "2021-01-27 21:00:00+00:00",
          "2021-01-27 21:15:00+00:00",
          "2021-01-27 21:30:00+00:00",
          "2021-01-27 21:45:00+00:00",
          "2021-01-27 22:00:00+00:00",
          "2021-01-27 22:15:00+00:00",
          "2021-01-27 22:30:00+00:00",
          "2021-01-27 22:45:00+00:00",
          "2021-01-27 23:00:00+00:00",
          "2021-01-27 23:15:00+00:00",
          "2021-01-27 23:30:00+00:00",
          "2021-01-27 23:45:00+00:00",
          "2021-01-28 00:00:00+00:00",
          "2021-01-28 00:15:00+00:00",
          "2021-01-28 00:30:00+00:00",
          "2021-01-28 00:45:00+00:00",
          "2021-01-28 01:00:00+00:00",
          "2021-01-28 01:15:00+00:00",
          "2021-01-28 01:30:00+00:00",
          "2021-01-28 01:45:00+00:00",
          "2021-01-28 02:00:00+00:00",
          "2021-01-28 02:15:00+00:00",
          "2021-01-28 02:30:00+00:00",
          "2021-01-28 02:45:00+00:00",
          "2021-01-28 03:00:00+00:00",
          "2021-01-28 03:15:00+00:00",
          "2021-01-28 03:30:00+00:00",
          "2021-01-28 03:45:00+00:00",
          "2021-01-28 04:00:00+00:00",
          "2021-01-28 04:15:00+00:00",
          "2021-01-28 04:30:00+00:00",
          "2021-01-28 04:45:00+00:00",
          "2021-01-28 05:00:00+00:00",
          "2021-01-28 05:15:00+00:00",
          "2021-01-28 05:30:00+00:00",
          "2021-01-28 05:45:00+00:00",
          "2021-01-28 06:00:00+00:00",
          "2021-01-28 06:15:00+00:00",
          "2021-01-28 06:30:00+00:00",
          "2021-01-28 06:45:00+00:00",
          "2021-01-28 07:00:00+00:00",
          "2021-01-28 07:15:00+00:00",
          "2021-01-28 07:30:00+00:00",
          "2021-01-28 07:45:00+00:00"
         ],
         "y": [
          5.7265777587890625,
          5.807075023651123,
          6.515839099884033,
          6.764468669891357,
          6.794139385223389,
          6.933159351348877,
          6.8320746421813965,
          7.005271911621094,
          7.102944850921631,
          6.040571689605713,
          7.23453950881958,
          6.403243064880371,
          5.11594820022583,
          4.99355936050415,
          3.9594180583953857,
          4.542677879333496,
          3.974069595336914,
          3.72611403465271,
          3.334385633468628,
          3.309945583343506,
          2.6552257537841797,
          3.842151641845703,
          4.980408668518066,
          3.2581849098205566,
          3.280472755432129,
          3.8953285217285156,
          3.802854299545288,
          3.7776572704315186,
          3.7374348640441895,
          3.672590970993042,
          3.7789807319641113,
          4.5328826904296875,
          4.674026012420654,
          5.342170715332031,
          5.7249908447265625,
          5.99857759475708,
          6.590664863586426,
          6.795464038848877,
          7.23877477645874,
          7.826727867126465,
          8.519221305847168,
          9.08476448059082,
          9.442055702209473,
          9.390564918518066,
          9.115853309631348,
          8.73070240020752,
          8.53494930267334,
          8.319609642028809,
          8.144363403320312,
          7.939908981323242,
          7.9333815574646,
          7.803290843963623,
          7.926164150238037,
          7.616722106933594,
          7.2621331214904785,
          7.215178489685059,
          7.025825500488281,
          6.808337688446045,
          6.628271579742432,
          6.6862077713012695,
          6.556239604949951,
          6.547192096710205,
          6.108096599578857,
          6.2826151847839355,
          6.323385715484619,
          5.6011962890625,
          5.652232646942139,
          5.572085857391357,
          5.0997748374938965,
          5.001247406005859,
          5.014894962310791,
          4.6793293952941895,
          4.400374889373779,
          4.542769908905029,
          4.904607772827148,
          4.3651041984558105,
          4.621443271636963,
          4.538910388946533,
          4.4742255210876465,
          4.6516947746276855,
          4.288120746612549,
          4.196014881134033,
          4.522374153137207,
          4.534011363983154,
          4.489568710327148,
          4.315762519836426,
          4.196014881134033,
          4.196014881134033,
          4.196014881134033,
          4.349257469177246,
          4.288201332092285,
          4.4288506507873535,
          5.033524036407471,
          5.335606575012207,
          5.5173845291137695,
          5.79224967956543,
          5.8988471031188965,
          6.59114408493042,
          6.662781238555908,
          6.662781238555908,
          6.73807430267334,
          6.889052391052246,
          6.976181983947754,
          7.011514186859131,
          7.011514186859131,
          6.732588291168213,
          6.6697282791137695,
          6.727475643157959,
          6.617595195770264,
          6.420608043670654,
          5.508017539978027,
          5.37849235534668,
          5.677746295928955,
          4.939523220062256,
          5.0245361328125,
          5.102200984954834,
          5.138599395751953,
          5.198728561401367,
          5.497921943664551,
          5.349914073944092,
          5.824352741241455,
          4.825361251831055,
          4.747696399688721,
          5.067760944366455,
          4.278448581695557,
          4.64805269241333,
          6.049856185913086,
          6.010903358459473,
          6.496803283691406,
          6.744929790496826,
          6.559673309326172,
          6.438569068908691,
          6.867306709289551,
          6.518153667449951,
          7.348032474517822,
          7.930341720581055,
          8.254324913024902,
          8.769536018371582,
          9.549171447753906,
          9.538448333740234,
          9.547208786010742,
          8.75790023803711,
          8.676352500915527,
          8.403692245483398,
          8.108268737792969,
          7.981427192687988,
          7.610559463500977,
          7.610559463500977,
          7.75674295425415,
          7.735141754150391,
          7.464214324951172,
          7.209676742553711,
          6.842939853668213,
          6.685119152069092,
          6.596867561340332,
          6.422781944274902,
          6.489933013916016,
          6.1395487785339355,
          6.000697612762451,
          5.698687553405762,
          5.548312664031982,
          5.074631214141846,
          5.388397693634033,
          5.323365211486816,
          5.337012767791748,
          5.031562328338623,
          4.858107089996338,
          4.9067583084106445,
          4.733303070068359,
          4.333064079284668,
          4.475806713104248,
          4.414751052856445,
          4.414751052856445,
          4.267797470092773,
          4.3092522621154785,
          4.21360969543457,
          4.1912713050842285,
          4.1567792892456055,
          4.1472063064575195,
          4.217864513397217,
          4.284609794616699,
          4.236569404602051,
          4.101937294006348,
          4.229738712310791,
          4.101937294006348,
          4.158768177032471,
          4.211019039154053,
          4.465880393981934,
          4.642585277557373,
          5.408139705657959,
          5.408139705657959,
          5.901290416717529,
          5.688965797424316,
          5.801691055297852,
          6.555696487426758,
          6.709784984588623,
          6.966378688812256,
          7.037532806396484,
          7.117074012756348,
          7.140352725982666
         ]
        },
        {
         "line": {
          "color": "rgba(55, 128, 191, 1.0)",
          "dash": "solid",
          "shape": "linear",
          "width": 1.3
         },
         "mode": "lines",
         "name": "load",
         "text": "",
         "type": "scatter",
         "x": [
          "2021-01-26 06:00:00+00:00",
          "2021-01-26 06:15:00+00:00",
          "2021-01-26 06:30:00+00:00",
          "2021-01-26 06:45:00+00:00",
          "2021-01-26 07:00:00+00:00",
          "2021-01-26 07:15:00+00:00",
          "2021-01-26 07:30:00+00:00",
          "2021-01-26 07:45:00+00:00",
          "2021-01-26 08:00:00+00:00",
          "2021-01-26 08:15:00+00:00",
          "2021-01-26 08:30:00+00:00",
          "2021-01-26 08:45:00+00:00",
          "2021-01-26 09:00:00+00:00",
          "2021-01-26 09:15:00+00:00",
          "2021-01-26 09:30:00+00:00",
          "2021-01-26 09:45:00+00:00",
          "2021-01-26 10:00:00+00:00",
          "2021-01-26 10:15:00+00:00",
          "2021-01-26 10:30:00+00:00",
          "2021-01-26 10:45:00+00:00",
          "2021-01-26 11:00:00+00:00",
          "2021-01-26 11:15:00+00:00",
          "2021-01-26 11:30:00+00:00",
          "2021-01-26 11:45:00+00:00",
          "2021-01-26 12:00:00+00:00",
          "2021-01-26 12:15:00+00:00",
          "2021-01-26 12:30:00+00:00",
          "2021-01-26 12:45:00+00:00",
          "2021-01-26 13:00:00+00:00",
          "2021-01-26 13:15:00+00:00",
          "2021-01-26 13:30:00+00:00",
          "2021-01-26 13:45:00+00:00",
          "2021-01-26 14:00:00+00:00",
          "2021-01-26 14:15:00+00:00",
          "2021-01-26 14:30:00+00:00",
          "2021-01-26 14:45:00+00:00",
          "2021-01-26 15:00:00+00:00",
          "2021-01-26 15:15:00+00:00",
          "2021-01-26 15:30:00+00:00",
          "2021-01-26 15:45:00+00:00",
          "2021-01-26 16:00:00+00:00",
          "2021-01-26 16:15:00+00:00",
          "2021-01-26 16:30:00+00:00",
          "2021-01-26 16:45:00+00:00",
          "2021-01-26 17:00:00+00:00",
          "2021-01-26 17:15:00+00:00",
          "2021-01-26 17:30:00+00:00",
          "2021-01-26 17:45:00+00:00",
          "2021-01-26 18:00:00+00:00",
          "2021-01-26 18:15:00+00:00",
          "2021-01-26 18:30:00+00:00",
          "2021-01-26 18:45:00+00:00",
          "2021-01-26 19:00:00+00:00",
          "2021-01-26 19:15:00+00:00",
          "2021-01-26 19:30:00+00:00",
          "2021-01-26 19:45:00+00:00",
          "2021-01-26 20:00:00+00:00",
          "2021-01-26 20:15:00+00:00",
          "2021-01-26 20:30:00+00:00",
          "2021-01-26 20:45:00+00:00",
          "2021-01-26 21:00:00+00:00",
          "2021-01-26 21:15:00+00:00",
          "2021-01-26 21:30:00+00:00",
          "2021-01-26 21:45:00+00:00",
          "2021-01-26 22:00:00+00:00",
          "2021-01-26 22:15:00+00:00",
          "2021-01-26 22:30:00+00:00",
          "2021-01-26 22:45:00+00:00",
          "2021-01-26 23:00:00+00:00",
          "2021-01-26 23:15:00+00:00",
          "2021-01-26 23:30:00+00:00",
          "2021-01-26 23:45:00+00:00",
          "2021-01-27 00:00:00+00:00",
          "2021-01-27 00:15:00+00:00",
          "2021-01-27 00:30:00+00:00",
          "2021-01-27 00:45:00+00:00",
          "2021-01-27 01:00:00+00:00",
          "2021-01-27 01:15:00+00:00",
          "2021-01-27 01:30:00+00:00",
          "2021-01-27 01:45:00+00:00",
          "2021-01-27 02:00:00+00:00",
          "2021-01-27 02:15:00+00:00",
          "2021-01-27 02:30:00+00:00",
          "2021-01-27 02:45:00+00:00",
          "2021-01-27 03:00:00+00:00",
          "2021-01-27 03:15:00+00:00",
          "2021-01-27 03:30:00+00:00",
          "2021-01-27 03:45:00+00:00",
          "2021-01-27 04:00:00+00:00",
          "2021-01-27 04:15:00+00:00",
          "2021-01-27 04:30:00+00:00",
          "2021-01-27 04:45:00+00:00",
          "2021-01-27 05:00:00+00:00",
          "2021-01-27 05:15:00+00:00",
          "2021-01-27 05:30:00+00:00",
          "2021-01-27 05:45:00+00:00",
          "2021-01-27 06:00:00+00:00",
          "2021-01-27 06:15:00+00:00",
          "2021-01-27 06:30:00+00:00",
          "2021-01-27 06:45:00+00:00",
          "2021-01-27 07:00:00+00:00",
          "2021-01-27 07:15:00+00:00",
          "2021-01-27 07:30:00+00:00",
          "2021-01-27 07:45:00+00:00",
          "2021-01-27 08:00:00+00:00",
          "2021-01-27 08:15:00+00:00",
          "2021-01-27 08:30:00+00:00",
          "2021-01-27 08:45:00+00:00",
          "2021-01-27 09:00:00+00:00",
          "2021-01-27 09:15:00+00:00",
          "2021-01-27 09:30:00+00:00",
          "2021-01-27 09:45:00+00:00",
          "2021-01-27 10:00:00+00:00",
          "2021-01-27 10:15:00+00:00",
          "2021-01-27 10:30:00+00:00",
          "2021-01-27 10:45:00+00:00",
          "2021-01-27 11:00:00+00:00",
          "2021-01-27 11:15:00+00:00",
          "2021-01-27 11:30:00+00:00",
          "2021-01-27 11:45:00+00:00",
          "2021-01-27 12:00:00+00:00",
          "2021-01-27 12:15:00+00:00",
          "2021-01-27 12:30:00+00:00",
          "2021-01-27 12:45:00+00:00",
          "2021-01-27 13:00:00+00:00",
          "2021-01-27 13:15:00+00:00",
          "2021-01-27 13:30:00+00:00",
          "2021-01-27 13:45:00+00:00",
          "2021-01-27 14:00:00+00:00",
          "2021-01-27 14:15:00+00:00",
          "2021-01-27 14:30:00+00:00",
          "2021-01-27 14:45:00+00:00",
          "2021-01-27 15:00:00+00:00",
          "2021-01-27 15:15:00+00:00",
          "2021-01-27 15:30:00+00:00",
          "2021-01-27 15:45:00+00:00",
          "2021-01-27 16:00:00+00:00",
          "2021-01-27 16:15:00+00:00",
          "2021-01-27 16:30:00+00:00",
          "2021-01-27 16:45:00+00:00",
          "2021-01-27 17:00:00+00:00",
          "2021-01-27 17:15:00+00:00",
          "2021-01-27 17:30:00+00:00",
          "2021-01-27 17:45:00+00:00",
          "2021-01-27 18:00:00+00:00",
          "2021-01-27 18:15:00+00:00",
          "2021-01-27 18:30:00+00:00",
          "2021-01-27 18:45:00+00:00",
          "2021-01-27 19:00:00+00:00",
          "2021-01-27 19:15:00+00:00",
          "2021-01-27 19:30:00+00:00",
          "2021-01-27 19:45:00+00:00",
          "2021-01-27 20:00:00+00:00",
          "2021-01-27 20:15:00+00:00",
          "2021-01-27 20:30:00+00:00",
          "2021-01-27 20:45:00+00:00",
          "2021-01-27 21:00:00+00:00",
          "2021-01-27 21:15:00+00:00",
          "2021-01-27 21:30:00+00:00",
          "2021-01-27 21:45:00+00:00",
          "2021-01-27 22:00:00+00:00",
          "2021-01-27 22:15:00+00:00",
          "2021-01-27 22:30:00+00:00",
          "2021-01-27 22:45:00+00:00",
          "2021-01-27 23:00:00+00:00",
          "2021-01-27 23:15:00+00:00",
          "2021-01-27 23:30:00+00:00",
          "2021-01-27 23:45:00+00:00",
          "2021-01-28 00:00:00+00:00",
          "2021-01-28 00:15:00+00:00",
          "2021-01-28 00:30:00+00:00",
          "2021-01-28 00:45:00+00:00",
          "2021-01-28 01:00:00+00:00",
          "2021-01-28 01:15:00+00:00",
          "2021-01-28 01:30:00+00:00",
          "2021-01-28 01:45:00+00:00",
          "2021-01-28 02:00:00+00:00",
          "2021-01-28 02:15:00+00:00",
          "2021-01-28 02:30:00+00:00",
          "2021-01-28 02:45:00+00:00",
          "2021-01-28 03:00:00+00:00",
          "2021-01-28 03:15:00+00:00",
          "2021-01-28 03:30:00+00:00",
          "2021-01-28 03:45:00+00:00",
          "2021-01-28 04:00:00+00:00",
          "2021-01-28 04:15:00+00:00",
          "2021-01-28 04:30:00+00:00",
          "2021-01-28 04:45:00+00:00",
          "2021-01-28 05:00:00+00:00",
          "2021-01-28 05:15:00+00:00",
          "2021-01-28 05:30:00+00:00",
          "2021-01-28 05:45:00+00:00",
          "2021-01-28 06:00:00+00:00",
          "2021-01-28 06:15:00+00:00",
          "2021-01-28 06:30:00+00:00",
          "2021-01-28 06:45:00+00:00",
          "2021-01-28 07:00:00+00:00",
          "2021-01-28 07:15:00+00:00",
          "2021-01-28 07:30:00+00:00",
          "2021-01-28 07:45:00+00:00"
         ],
         "y": [
          5.773333316047987,
          6.330000075201193,
          6.689999925593535,
          6.596666676302751,
          6.996666632592678,
          7.290000036358833,
          6.929999992251396,
          6.779999986290932,
          6.796666676799456,
          6.616666674613953,
          6.5333333263794575,
          5.7666666482885685,
          5.55999994277954,
          5.120000007251898,
          5.61333326001962,
          4.816666673248013,
          4.329999975860119,
          3.266666700442632,
          4.016666643321514,
          3.7599999780456224,
          3.976666654149691,
          3.723333378632864,
          3.75333329786857,
          4.123333318779866,
          4.4133333166440325,
          5.08333333581686,
          4.996666630730033,
          4.869999961306652,
          4.863333278025189,
          3.843333306411902,
          4.550000016887982,
          4.193333305418491,
          2.7599999879797297,
          3.633333367606004,
          4.106666661178072,
          5.283333346247673,
          4.489999958624442,
          6.166666689018409,
          6.806666585306328,
          7.169999916106463,
          7.659999882181486,
          8.516666521628698,
          8.979999949534733,
          9.156666686137516,
          9.426666657129925,
          9.423333257436754,
          8.756666645407677,
          8.556666846076647,
          8.320000141859056,
          8.2066667030255,
          8.243333265185356,
          7.833333447575568,
          7.889999970793724,
          7.6866666823625565,
          7.419999981919924,
          7.666666691501936,
          7.453333203991255,
          7.073333228627841,
          6.986666614810625,
          6.66000006099542,
          6.660000001390776,
          6.583333298563957,
          6.246666674812635,
          6.046666723986467,
          5.823333280781904,
          5.909999949236711,
          5.679999989767869,
          5.389999963343144,
          5.549999942382177,
          4.976666621863842,
          5.049999964733919,
          5.076666695376237,
          4.743333376944065,
          4.609999932348728,
          4.476666638006766,
          4.686666686087848,
          4.3633333171407385,
          4.420000040282806,
          4.44666666785876,
          4.250000045945247,
          4.263333371529977,
          4.44666668275992,
          4.143333288530508,
          4.173333317041397,
          4.229999985545874,
          4.156666677445173,
          4.106666586051385,
          4.159999943027893,
          4.146666633586088,
          4.23999997228384,
          4.520000045498213,
          4.573333352804184,
          4.996666672329107,
          5.080000030497709,
          5.576666648189227,
          5.586666636168957,
          5.843333328763644,
          5.803333270053069,
          6.579999975860118,
          6.669999994337559,
          6.789999956885974,
          7.196666546165944,
          7.446666645507018,
          7.649999901652336,
          7.563333262999852,
          7.383333367606004,
          7.460000025729339,
          7.319999985396863,
          7.373333372175693,
          7.106666733821233,
          7.3899999782443055,
          7.356666664282481,
          7.33666663368543,
          6.863333371778329,
          6.626666585604351,
          6.586666730542978,
          6.890000072618325,
          7.343333229422568,
          7.26666667809089,
          7.046666629910469,
          6.89,
          6.9,
          7.423333333333333,
          7.416666666666666,
          7.023333333333334,
          7.05,
          7.116666666666666,
          7.0600000000000005,
          7.006666709979375,
          6.829999916255475,
          6.9900000393390656,
          7.133333265781403,
          7.029999911785126,
          7.7733334004879,
          8.006666712462902,
          8.110000011821588,
          8.826666630804539,
          9.380000079671545,
          9.849999969204267,
          9.766666730244951,
          9.5733333726724,
          9.123333200812342,
          8.959999995927017,
          8.6933334171772,
          8.266666601101557,
          8.226666659116745,
          7.97333337366581,
          7.886666695276896,
          8.010000050067902,
          7.594999894499779,
          7.650000005960465,
          7.490000059207279,
          7.336666737993558,
          7.016666625936826,
          6.596666554609935,
          6.553333399196466,
          6.613333312173684,
          6.256666687627633,
          6.08666666597128,
          5.943333302934964,
          5.4866666818658505,
          5.406666658818722,
          5.416666609545549,
          5.1933333948254585,
          4.823333310584228,
          4.849999989072481,
          4.746666612724463,
          4.613333260019621,
          4.626666675011316,
          4.526666685938835,
          4.410000013808409,
          4.246666641285022,
          4.106666571150224,
          4.023333322256804,
          4.143333304673433,
          4.156666637708743,
          4.119999919086695,
          4.100000012665987,
          3.890000063925981,
          3.876666701088349,
          4.056666690856218,
          4.0533333482841645,
          4.066666639099518,
          4.033333337555329,
          4.013333277155956,
          4.053333340833585,
          4.04666667804122,
          4.469999966522058,
          4.650000013411046,
          4.956666700541973,
          5.156666678686936,
          5.393333318332831,
          5.809999984999497,
          6.246666679779689,
          6.386666640639305,
          6.703333253661791,
          6.800000001986821,
          6.963333288828531,
          7.200000057617824,
          7.326666720211506
         ]
        }
       ],
       "layout": {
        "autosize": true,
        "legend": {
         "bgcolor": "#F5F6F9",
         "font": {
          "color": "#4D5663"
         }
        },
        "paper_bgcolor": "#F5F6F9",
        "plot_bgcolor": "#F5F6F9",
        "template": {
         "data": {
          "bar": [
           {
            "error_x": {
             "color": "#2a3f5f"
            },
            "error_y": {
             "color": "#2a3f5f"
            },
            "marker": {
             "line": {
              "color": "#E5ECF6",
              "width": 0.5
             },
             "pattern": {
              "fillmode": "overlay",
              "size": 10,
              "solidity": 0.2
             }
            },
            "type": "bar"
           }
          ],
          "barpolar": [
           {
            "marker": {
             "line": {
              "color": "#E5ECF6",
              "width": 0.5
             },
             "pattern": {
              "fillmode": "overlay",
              "size": 10,
              "solidity": 0.2
             }
            },
            "type": "barpolar"
           }
          ],
          "carpet": [
           {
            "aaxis": {
             "endlinecolor": "#2a3f5f",
             "gridcolor": "white",
             "linecolor": "white",
             "minorgridcolor": "white",
             "startlinecolor": "#2a3f5f"
            },
            "baxis": {
             "endlinecolor": "#2a3f5f",
             "gridcolor": "white",
             "linecolor": "white",
             "minorgridcolor": "white",
             "startlinecolor": "#2a3f5f"
            },
            "type": "carpet"
           }
          ],
          "choropleth": [
           {
            "colorbar": {
             "outlinewidth": 0,
             "ticks": ""
            },
            "type": "choropleth"
           }
          ],
          "contour": [
           {
            "colorbar": {
             "outlinewidth": 0,
             "ticks": ""
            },
            "colorscale": [
             [
              0,
              "#0d0887"
             ],
             [
              0.1111111111111111,
              "#46039f"
             ],
             [
              0.2222222222222222,
              "#7201a8"
             ],
             [
              0.3333333333333333,
              "#9c179e"
             ],
             [
              0.4444444444444444,
              "#bd3786"
             ],
             [
              0.5555555555555556,
              "#d8576b"
             ],
             [
              0.6666666666666666,
              "#ed7953"
             ],
             [
              0.7777777777777778,
              "#fb9f3a"
             ],
             [
              0.8888888888888888,
              "#fdca26"
             ],
             [
              1,
              "#f0f921"
             ]
            ],
            "type": "contour"
           }
          ],
          "contourcarpet": [
           {
            "colorbar": {
             "outlinewidth": 0,
             "ticks": ""
            },
            "type": "contourcarpet"
           }
          ],
          "heatmap": [
           {
            "colorbar": {
             "outlinewidth": 0,
             "ticks": ""
            },
            "colorscale": [
             [
              0,
              "#0d0887"
             ],
             [
              0.1111111111111111,
              "#46039f"
             ],
             [
              0.2222222222222222,
              "#7201a8"
             ],
             [
              0.3333333333333333,
              "#9c179e"
             ],
             [
              0.4444444444444444,
              "#bd3786"
             ],
             [
              0.5555555555555556,
              "#d8576b"
             ],
             [
              0.6666666666666666,
              "#ed7953"
             ],
             [
              0.7777777777777778,
              "#fb9f3a"
             ],
             [
              0.8888888888888888,
              "#fdca26"
             ],
             [
              1,
              "#f0f921"
             ]
            ],
            "type": "heatmap"
           }
          ],
          "heatmapgl": [
           {
            "colorbar": {
             "outlinewidth": 0,
             "ticks": ""
            },
            "colorscale": [
             [
              0,
              "#0d0887"
             ],
             [
              0.1111111111111111,
              "#46039f"
             ],
             [
              0.2222222222222222,
              "#7201a8"
             ],
             [
              0.3333333333333333,
              "#9c179e"
             ],
             [
              0.4444444444444444,
              "#bd3786"
             ],
             [
              0.5555555555555556,
              "#d8576b"
             ],
             [
              0.6666666666666666,
              "#ed7953"
             ],
             [
              0.7777777777777778,
              "#fb9f3a"
             ],
             [
              0.8888888888888888,
              "#fdca26"
             ],
             [
              1,
              "#f0f921"
             ]
            ],
            "type": "heatmapgl"
           }
          ],
          "histogram": [
           {
            "marker": {
             "pattern": {
              "fillmode": "overlay",
              "size": 10,
              "solidity": 0.2
             }
            },
            "type": "histogram"
           }
          ],
          "histogram2d": [
           {
            "colorbar": {
             "outlinewidth": 0,
             "ticks": ""
            },
            "colorscale": [
             [
              0,
              "#0d0887"
             ],
             [
              0.1111111111111111,
              "#46039f"
             ],
             [
              0.2222222222222222,
              "#7201a8"
             ],
             [
              0.3333333333333333,
              "#9c179e"
             ],
             [
              0.4444444444444444,
              "#bd3786"
             ],
             [
              0.5555555555555556,
              "#d8576b"
             ],
             [
              0.6666666666666666,
              "#ed7953"
             ],
             [
              0.7777777777777778,
              "#fb9f3a"
             ],
             [
              0.8888888888888888,
              "#fdca26"
             ],
             [
              1,
              "#f0f921"
             ]
            ],
            "type": "histogram2d"
           }
          ],
          "histogram2dcontour": [
           {
            "colorbar": {
             "outlinewidth": 0,
             "ticks": ""
            },
            "colorscale": [
             [
              0,
              "#0d0887"
             ],
             [
              0.1111111111111111,
              "#46039f"
             ],
             [
              0.2222222222222222,
              "#7201a8"
             ],
             [
              0.3333333333333333,
              "#9c179e"
             ],
             [
              0.4444444444444444,
              "#bd3786"
             ],
             [
              0.5555555555555556,
              "#d8576b"
             ],
             [
              0.6666666666666666,
              "#ed7953"
             ],
             [
              0.7777777777777778,
              "#fb9f3a"
             ],
             [
              0.8888888888888888,
              "#fdca26"
             ],
             [
              1,
              "#f0f921"
             ]
            ],
            "type": "histogram2dcontour"
           }
          ],
          "mesh3d": [
           {
            "colorbar": {
             "outlinewidth": 0,
             "ticks": ""
            },
            "type": "mesh3d"
           }
          ],
          "parcoords": [
           {
            "line": {
             "colorbar": {
              "outlinewidth": 0,
              "ticks": ""
             }
            },
            "type": "parcoords"
           }
          ],
          "pie": [
           {
            "automargin": true,
            "type": "pie"
           }
          ],
          "scatter": [
           {
            "fillpattern": {
             "fillmode": "overlay",
             "size": 10,
             "solidity": 0.2
            },
            "type": "scatter"
           }
          ],
          "scatter3d": [
           {
            "line": {
             "colorbar": {
              "outlinewidth": 0,
              "ticks": ""
             }
            },
            "marker": {
             "colorbar": {
              "outlinewidth": 0,
              "ticks": ""
             }
            },
            "type": "scatter3d"
           }
          ],
          "scattercarpet": [
           {
            "marker": {
             "colorbar": {
              "outlinewidth": 0,
              "ticks": ""
             }
            },
            "type": "scattercarpet"
           }
          ],
          "scattergeo": [
           {
            "marker": {
             "colorbar": {
              "outlinewidth": 0,
              "ticks": ""
             }
            },
            "type": "scattergeo"
           }
          ],
          "scattergl": [
           {
            "marker": {
             "colorbar": {
              "outlinewidth": 0,
              "ticks": ""
             }
            },
            "type": "scattergl"
           }
          ],
          "scattermapbox": [
           {
            "marker": {
             "colorbar": {
              "outlinewidth": 0,
              "ticks": ""
             }
            },
            "type": "scattermapbox"
           }
          ],
          "scatterpolar": [
           {
            "marker": {
             "colorbar": {
              "outlinewidth": 0,
              "ticks": ""
             }
            },
            "type": "scatterpolar"
           }
          ],
          "scatterpolargl": [
           {
            "marker": {
             "colorbar": {
              "outlinewidth": 0,
              "ticks": ""
             }
            },
            "type": "scatterpolargl"
           }
          ],
          "scatterternary": [
           {
            "marker": {
             "colorbar": {
              "outlinewidth": 0,
              "ticks": ""
             }
            },
            "type": "scatterternary"
           }
          ],
          "surface": [
           {
            "colorbar": {
             "outlinewidth": 0,
             "ticks": ""
            },
            "colorscale": [
             [
              0,
              "#0d0887"
             ],
             [
              0.1111111111111111,
              "#46039f"
             ],
             [
              0.2222222222222222,
              "#7201a8"
             ],
             [
              0.3333333333333333,
              "#9c179e"
             ],
             [
              0.4444444444444444,
              "#bd3786"
             ],
             [
              0.5555555555555556,
              "#d8576b"
             ],
             [
              0.6666666666666666,
              "#ed7953"
             ],
             [
              0.7777777777777778,
              "#fb9f3a"
             ],
             [
              0.8888888888888888,
              "#fdca26"
             ],
             [
              1,
              "#f0f921"
             ]
            ],
            "type": "surface"
           }
          ],
          "table": [
           {
            "cells": {
             "fill": {
              "color": "#EBF0F8"
             },
             "line": {
              "color": "white"
             }
            },
            "header": {
             "fill": {
              "color": "#C8D4E3"
             },
             "line": {
              "color": "white"
             }
            },
            "type": "table"
           }
          ]
         },
         "layout": {
          "annotationdefaults": {
           "arrowcolor": "#2a3f5f",
           "arrowhead": 0,
           "arrowwidth": 1
          },
          "autotypenumbers": "strict",
          "coloraxis": {
           "colorbar": {
            "outlinewidth": 0,
            "ticks": ""
           }
          },
          "colorscale": {
           "diverging": [
            [
             0,
             "#8e0152"
            ],
            [
             0.1,
             "#c51b7d"
            ],
            [
             0.2,
             "#de77ae"
            ],
            [
             0.3,
             "#f1b6da"
            ],
            [
             0.4,
             "#fde0ef"
            ],
            [
             0.5,
             "#f7f7f7"
            ],
            [
             0.6,
             "#e6f5d0"
            ],
            [
             0.7,
             "#b8e186"
            ],
            [
             0.8,
             "#7fbc41"
            ],
            [
             0.9,
             "#4d9221"
            ],
            [
             1,
             "#276419"
            ]
           ],
           "sequential": [
            [
             0,
             "#0d0887"
            ],
            [
             0.1111111111111111,
             "#46039f"
            ],
            [
             0.2222222222222222,
             "#7201a8"
            ],
            [
             0.3333333333333333,
             "#9c179e"
            ],
            [
             0.4444444444444444,
             "#bd3786"
            ],
            [
             0.5555555555555556,
             "#d8576b"
            ],
            [
             0.6666666666666666,
             "#ed7953"
            ],
            [
             0.7777777777777778,
             "#fb9f3a"
            ],
            [
             0.8888888888888888,
             "#fdca26"
            ],
            [
             1,
             "#f0f921"
            ]
           ],
           "sequentialminus": [
            [
             0,
             "#0d0887"
            ],
            [
             0.1111111111111111,
             "#46039f"
            ],
            [
             0.2222222222222222,
             "#7201a8"
            ],
            [
             0.3333333333333333,
             "#9c179e"
            ],
            [
             0.4444444444444444,
             "#bd3786"
            ],
            [
             0.5555555555555556,
             "#d8576b"
            ],
            [
             0.6666666666666666,
             "#ed7953"
            ],
            [
             0.7777777777777778,
             "#fb9f3a"
            ],
            [
             0.8888888888888888,
             "#fdca26"
            ],
            [
             1,
             "#f0f921"
            ]
           ]
          },
          "colorway": [
           "#636efa",
           "#EF553B",
           "#00cc96",
           "#ab63fa",
           "#FFA15A",
           "#19d3f3",
           "#FF6692",
           "#B6E880",
           "#FF97FF",
           "#FECB52"
          ],
          "font": {
           "color": "#2a3f5f"
          },
          "geo": {
           "bgcolor": "white",
           "lakecolor": "white",
           "landcolor": "#E5ECF6",
           "showlakes": true,
           "showland": true,
           "subunitcolor": "white"
          },
          "hoverlabel": {
           "align": "left"
          },
          "hovermode": "closest",
          "mapbox": {
           "style": "light"
          },
          "paper_bgcolor": "white",
          "plot_bgcolor": "#E5ECF6",
          "polar": {
           "angularaxis": {
            "gridcolor": "white",
            "linecolor": "white",
            "ticks": ""
           },
           "bgcolor": "#E5ECF6",
           "radialaxis": {
            "gridcolor": "white",
            "linecolor": "white",
            "ticks": ""
           }
          },
          "scene": {
           "xaxis": {
            "backgroundcolor": "#E5ECF6",
            "gridcolor": "white",
            "gridwidth": 2,
            "linecolor": "white",
            "showbackground": true,
            "ticks": "",
            "zerolinecolor": "white"
           },
           "yaxis": {
            "backgroundcolor": "#E5ECF6",
            "gridcolor": "white",
            "gridwidth": 2,
            "linecolor": "white",
            "showbackground": true,
            "ticks": "",
            "zerolinecolor": "white"
           },
           "zaxis": {
            "backgroundcolor": "#E5ECF6",
            "gridcolor": "white",
            "gridwidth": 2,
            "linecolor": "white",
            "showbackground": true,
            "ticks": "",
            "zerolinecolor": "white"
           }
          },
          "shapedefaults": {
           "line": {
            "color": "#2a3f5f"
           }
          },
          "ternary": {
           "aaxis": {
            "gridcolor": "white",
            "linecolor": "white",
            "ticks": ""
           },
           "baxis": {
            "gridcolor": "white",
            "linecolor": "white",
            "ticks": ""
           },
           "bgcolor": "#E5ECF6",
           "caxis": {
            "gridcolor": "white",
            "linecolor": "white",
            "ticks": ""
           }
          },
          "title": {
           "x": 0.05
          },
          "xaxis": {
           "automargin": true,
           "gridcolor": "white",
           "linecolor": "white",
           "ticks": "",
           "title": {
            "standoff": 15
           },
           "zerolinecolor": "white",
           "zerolinewidth": 2
          },
          "yaxis": {
           "automargin": true,
           "gridcolor": "white",
           "linecolor": "white",
           "ticks": "",
           "title": {
            "standoff": 15
           },
           "zerolinecolor": "white",
           "zerolinewidth": 2
          }
         }
        },
        "title": {
         "font": {
          "color": "#4D5663"
         }
        },
        "xaxis": {
         "autorange": true,
         "gridcolor": "#E1E5ED",
         "range": [
          "2021-01-26 06:00",
          "2021-01-28 07:45"
         ],
         "showgrid": true,
         "tickfont": {
          "color": "#4D5663"
         },
         "title": {
          "font": {
           "color": "#4D5663"
          },
          "text": ""
         },
         "type": "date",
         "zerolinecolor": "#E1E5ED"
        },
        "yaxis": {
         "autorange": true,
         "gridcolor": "#E1E5ED",
         "range": [
          2.2555160751497305,
          10.249709647838717
         ],
         "showgrid": true,
         "tickfont": {
          "color": "#4D5663"
         },
         "title": {
          "font": {
           "color": "#4D5663"
          },
          "text": ""
         },
         "type": "linear",
         "zerolinecolor": "#E1E5ED"
        }
       }
      },
      "image/png": "[encoded data removed]",
      "text/html": [
       "<div>                            <div id=\"a76f9f59-16e8-4ab3-bfe0-cedcebde4c9c\" class=\"plotly-graph-div\" style=\"height:525px; width:100%;\"></div>            <script type=\"text/javascript\">                require([\"plotly\"], function(Plotly) {                    window.PLOTLYENV=window.PLOTLYENV || {};\n",
       "                    window.PLOTLYENV.BASE_URL='https://plot.ly';                                    if (document.getElementById(\"a76f9f59-16e8-4ab3-bfe0-cedcebde4c9c\")) {                    Plotly.newPlot(                        \"a76f9f59-16e8-4ab3-bfe0-cedcebde4c9c\",                        [{\"line\":{\"color\":\"rgba(255, 153, 51, 1.0)\",\"dash\":\"solid\",\"shape\":\"linear\",\"width\":1.3},\"mode\":\"lines\",\"name\":\"forecast\",\"text\":\"\",\"x\":[\"2021-01-26 06:00:00+00:00\",\"2021-01-26 06:15:00+00:00\",\"2021-01-26 06:30:00+00:00\",\"2021-01-26 06:45:00+00:00\",\"2021-01-26 07:00:00+00:00\",\"2021-01-26 07:15:00+00:00\",\"2021-01-26 07:30:00+00:00\",\"2021-01-26 07:45:00+00:00\",\"2021-01-26 08:00:00+00:00\",\"2021-01-26 08:15:00+00:00\",\"2021-01-26 08:30:00+00:00\",\"2021-01-26 08:45:00+00:00\",\"2021-01-26 09:00:00+00:00\",\"2021-01-26 09:15:00+00:00\",\"2021-01-26 09:30:00+00:00\",\"2021-01-26 09:45:00+00:00\",\"2021-01-26 10:00:00+00:00\",\"2021-01-26 10:15:00+00:00\",\"2021-01-26 10:30:00+00:00\",\"2021-01-26 10:45:00+00:00\",\"2021-01-26 11:00:00+00:00\",\"2021-01-26 11:15:00+00:00\",\"2021-01-26 11:30:00+00:00\",\"2021-01-26 11:45:00+00:00\",\"2021-01-26 12:00:00+00:00\",\"2021-01-26 12:15:00+00:00\",\"2021-01-26 12:30:00+00:00\",\"2021-01-26 12:45:00+00:00\",\"2021-01-26 13:00:00+00:00\",\"2021-01-26 13:15:00+00:00\",\"2021-01-26 13:30:00+00:00\",\"2021-01-26 13:45:00+00:00\",\"2021-01-26 14:00:00+00:00\",\"2021-01-26 14:15:00+00:00\",\"2021-01-26 14:30:00+00:00\",\"2021-01-26 14:45:00+00:00\",\"2021-01-26 15:00:00+00:00\",\"2021-01-26 15:15:00+00:00\",\"2021-01-26 15:30:00+00:00\",\"2021-01-26 15:45:00+00:00\",\"2021-01-26 16:00:00+00:00\",\"2021-01-26 16:15:00+00:00\",\"2021-01-26 16:30:00+00:00\",\"2021-01-26 16:45:00+00:00\",\"2021-01-26 17:00:00+00:00\",\"2021-01-26 17:15:00+00:00\",\"2021-01-26 17:30:00+00:00\",\"2021-01-26 17:45:00+00:00\",\"2021-01-26 18:00:00+00:00\",\"2021-01-26 18:15:00+00:00\",\"2021-01-26 18:30:00+00:00\",\"2021-01-26 18:45:00+00:00\",\"2021-01-26 19:00:00+00:00\",\"2021-01-26 19:15:00+00:00\",\"2021-01-26 19:30:00+00:00\",\"2021-01-26 19:45:00+00:00\",\"2021-01-26 20:00:00+00:00\",\"2021-01-26 20:15:00+00:00\",\"2021-01-26 20:30:00+00:00\",\"2021-01-26 20:45:00+00:00\",\"2021-01-26 21:00:00+00:00\",\"2021-01-26 21:15:00+00:00\",\"2021-01-26 21:30:00+00:00\",\"2021-01-26 21:45:00+00:00\",\"2021-01-26 22:00:00+00:00\",\"2021-01-26 22:15:00+00:00\",\"2021-01-26 22:30:00+00:00\",\"2021-01-26 22:45:00+00:00\",\"2021-01-26 23:00:00+00:00\",\"2021-01-26 23:15:00+00:00\",\"2021-01-26 23:30:00+00:00\",\"2021-01-26 23:45:00+00:00\",\"2021-01-27 00:00:00+00:00\",\"2021-01-27 00:15:00+00:00\",\"2021-01-27 00:30:00+00:00\",\"2021-01-27 00:45:00+00:00\",\"2021-01-27 01:00:00+00:00\",\"2021-01-27 01:15:00+00:00\",\"2021-01-27 01:30:00+00:00\",\"2021-01-27 01:45:00+00:00\",\"2021-01-27 02:00:00+00:00\",\"2021-01-27 02:15:00+00:00\",\"2021-01-27 02:30:00+00:00\",\"2021-01-27 02:45:00+00:00\",\"2021-01-27 03:00:00+00:00\",\"2021-01-27 03:15:00+00:00\",\"2021-01-27 03:30:00+00:00\",\"2021-01-27 03:45:00+00:00\",\"2021-01-27 04:00:00+00:00\",\"2021-01-27 04:15:00+00:00\",\"2021-01-27 04:30:00+00:00\",\"2021-01-27 04:45:00+00:00\",\"2021-01-27 05:00:00+00:00\",\"2021-01-27 05:15:00+00:00\",\"2021-01-27 05:30:00+00:00\",\"2021-01-27 05:45:00+00:00\",\"2021-01-27 06:00:00+00:00\",\"2021-01-27 06:15:00+00:00\",\"2021-01-27 06:30:00+00:00\",\"2021-01-27 06:45:00+00:00\",\"2021-01-27 07:00:00+00:00\",\"2021-01-27 07:15:00+00:00\",\"2021-01-27 07:30:00+00:00\",\"2021-01-27 07:45:00+00:00\",\"2021-01-27 08:00:00+00:00\",\"2021-01-27 08:15:00+00:00\",\"2021-01-27 08:30:00+00:00\",\"2021-01-27 08:45:00+00:00\",\"2021-01-27 09:00:00+00:00\",\"2021-01-27 09:15:00+00:00\",\"2021-01-27 09:30:00+00:00\",\"2021-01-27 09:45:00+00:00\",\"2021-01-27 10:00:00+00:00\",\"2021-01-27 10:15:00+00:00\",\"2021-01-27 10:30:00+00:00\",\"2021-01-27 10:45:00+00:00\",\"2021-01-27 11:00:00+00:00\",\"2021-01-27 11:15:00+00:00\",\"2021-01-27 11:30:00+00:00\",\"2021-01-27 11:45:00+00:00\",\"2021-01-27 12:00:00+00:00\",\"2021-01-27 12:15:00+00:00\",\"2021-01-27 12:30:00+00:00\",\"2021-01-27 12:45:00+00:00\",\"2021-01-27 13:00:00+00:00\",\"2021-01-27 13:15:00+00:00\",\"2021-01-27 13:30:00+00:00\",\"2021-01-27 13:45:00+00:00\",\"2021-01-27 14:00:00+00:00\",\"2021-01-27 14:15:00+00:00\",\"2021-01-27 14:30:00+00:00\",\"2021-01-27 14:45:00+00:00\",\"2021-01-27 15:00:00+00:00\",\"2021-01-27 15:15:00+00:00\",\"2021-01-27 15:30:00+00:00\",\"2021-01-27 15:45:00+00:00\",\"2021-01-27 16:00:00+00:00\",\"2021-01-27 16:15:00+00:00\",\"2021-01-27 16:30:00+00:00\",\"2021-01-27 16:45:00+00:00\",\"2021-01-27 17:00:00+00:00\",\"2021-01-27 17:15:00+00:00\",\"2021-01-27 17:30:00+00:00\",\"2021-01-27 17:45:00+00:00\",\"2021-01-27 18:00:00+00:00\",\"2021-01-27 18:15:00+00:00\",\"2021-01-27 18:30:00+00:00\",\"2021-01-27 18:45:00+00:00\",\"2021-01-27 19:00:00+00:00\",\"2021-01-27 19:15:00+00:00\",\"2021-01-27 19:30:00+00:00\",\"2021-01-27 19:45:00+00:00\",\"2021-01-27 20:00:00+00:00\",\"2021-01-27 20:15:00+00:00\",\"2021-01-27 20:30:00+00:00\",\"2021-01-27 20:45:00+00:00\",\"2021-01-27 21:00:00+00:00\",\"2021-01-27 21:15:00+00:00\",\"2021-01-27 21:30:00+00:00\",\"2021-01-27 21:45:00+00:00\",\"2021-01-27 22:00:00+00:00\",\"2021-01-27 22:15:00+00:00\",\"2021-01-27 22:30:00+00:00\",\"2021-01-27 22:45:00+00:00\",\"2021-01-27 23:00:00+00:00\",\"2021-01-27 23:15:00+00:00\",\"2021-01-27 23:30:00+00:00\",\"2021-01-27 23:45:00+00:00\",\"2021-01-28 00:00:00+00:00\",\"2021-01-28 00:15:00+00:00\",\"2021-01-28 00:30:00+00:00\",\"2021-01-28 00:45:00+00:00\",\"2021-01-28 01:00:00+00:00\",\"2021-01-28 01:15:00+00:00\",\"2021-01-28 01:30:00+00:00\",\"2021-01-28 01:45:00+00:00\",\"2021-01-28 02:00:00+00:00\",\"2021-01-28 02:15:00+00:00\",\"2021-01-28 02:30:00+00:00\",\"2021-01-28 02:45:00+00:00\",\"2021-01-28 03:00:00+00:00\",\"2021-01-28 03:15:00+00:00\",\"2021-01-28 03:30:00+00:00\",\"2021-01-28 03:45:00+00:00\",\"2021-01-28 04:00:00+00:00\",\"2021-01-28 04:15:00+00:00\",\"2021-01-28 04:30:00+00:00\",\"2021-01-28 04:45:00+00:00\",\"2021-01-28 05:00:00+00:00\",\"2021-01-28 05:15:00+00:00\",\"2021-01-28 05:30:00+00:00\",\"2021-01-28 05:45:00+00:00\",\"2021-01-28 06:00:00+00:00\",\"2021-01-28 06:15:00+00:00\",\"2021-01-28 06:30:00+00:00\",\"2021-01-28 06:45:00+00:00\",\"2021-01-28 07:00:00+00:00\",\"2021-01-28 07:15:00+00:00\",\"2021-01-28 07:30:00+00:00\",\"2021-01-28 07:45:00+00:00\"],\"y\":[5.7265777587890625,5.807075023651123,6.515839099884033,6.764468669891357,6.794139385223389,6.933159351348877,6.8320746421813965,7.005271911621094,7.102944850921631,6.040571689605713,7.23453950881958,6.403243064880371,5.11594820022583,4.99355936050415,3.9594180583953857,4.542677879333496,3.974069595336914,3.72611403465271,3.334385633468628,3.309945583343506,2.6552257537841797,3.842151641845703,4.980408668518066,3.2581849098205566,3.280472755432129,3.8953285217285156,3.802854299545288,3.7776572704315186,3.7374348640441895,3.672590970993042,3.7789807319641113,4.5328826904296875,4.674026012420654,5.342170715332031,5.7249908447265625,5.99857759475708,6.590664863586426,6.795464038848877,7.23877477645874,7.826727867126465,8.519221305847168,9.08476448059082,9.442055702209473,9.390564918518066,9.115853309631348,8.73070240020752,8.53494930267334,8.319609642028809,8.144363403320312,7.939908981323242,7.9333815574646,7.803290843963623,7.926164150238037,7.616722106933594,7.2621331214904785,7.215178489685059,7.025825500488281,6.808337688446045,6.628271579742432,6.6862077713012695,6.556239604949951,6.547192096710205,6.108096599578857,6.2826151847839355,6.323385715484619,5.6011962890625,5.652232646942139,5.572085857391357,5.0997748374938965,5.001247406005859,5.014894962310791,4.6793293952941895,4.400374889373779,4.542769908905029,4.904607772827148,4.3651041984558105,4.621443271636963,4.538910388946533,4.4742255210876465,4.6516947746276855,4.288120746612549,4.196014881134033,4.522374153137207,4.534011363983154,4.489568710327148,4.315762519836426,4.196014881134033,4.196014881134033,4.196014881134033,4.349257469177246,4.288201332092285,4.4288506507873535,5.033524036407471,5.335606575012207,5.5173845291137695,5.79224967956543,5.8988471031188965,6.59114408493042,6.662781238555908,6.662781238555908,6.73807430267334,6.889052391052246,6.976181983947754,7.011514186859131,7.011514186859131,6.732588291168213,6.6697282791137695,6.727475643157959,6.617595195770264,6.420608043670654,5.508017539978027,5.37849235534668,5.677746295928955,4.939523220062256,5.0245361328125,5.102200984954834,5.138599395751953,5.198728561401367,5.497921943664551,5.349914073944092,5.824352741241455,4.825361251831055,4.747696399688721,5.067760944366455,4.278448581695557,4.64805269241333,6.049856185913086,6.010903358459473,6.496803283691406,6.744929790496826,6.559673309326172,6.438569068908691,6.867306709289551,6.518153667449951,7.348032474517822,7.930341720581055,8.254324913024902,8.769536018371582,9.549171447753906,9.538448333740234,9.547208786010742,8.75790023803711,8.676352500915527,8.403692245483398,8.108268737792969,7.981427192687988,7.610559463500977,7.610559463500977,7.75674295425415,7.735141754150391,7.464214324951172,7.209676742553711,6.842939853668213,6.685119152069092,6.596867561340332,6.422781944274902,6.489933013916016,6.1395487785339355,6.000697612762451,5.698687553405762,5.548312664031982,5.074631214141846,5.388397693634033,5.323365211486816,5.337012767791748,5.031562328338623,4.858107089996338,4.9067583084106445,4.733303070068359,4.333064079284668,4.475806713104248,4.414751052856445,4.414751052856445,4.267797470092773,4.3092522621154785,4.21360969543457,4.1912713050842285,4.1567792892456055,4.1472063064575195,4.217864513397217,4.284609794616699,4.236569404602051,4.101937294006348,4.229738712310791,4.101937294006348,4.158768177032471,4.211019039154053,4.465880393981934,4.642585277557373,5.408139705657959,5.408139705657959,5.901290416717529,5.688965797424316,5.801691055297852,6.555696487426758,6.709784984588623,6.966378688812256,7.037532806396484,7.117074012756348,7.140352725982666],\"type\":\"scatter\"},{\"line\":{\"color\":\"rgba(55, 128, 191, 1.0)\",\"dash\":\"solid\",\"shape\":\"linear\",\"width\":1.3},\"mode\":\"lines\",\"name\":\"load\",\"text\":\"\",\"x\":[\"2021-01-26 06:00:00+00:00\",\"2021-01-26 06:15:00+00:00\",\"2021-01-26 06:30:00+00:00\",\"2021-01-26 06:45:00+00:00\",\"2021-01-26 07:00:00+00:00\",\"2021-01-26 07:15:00+00:00\",\"2021-01-26 07:30:00+00:00\",\"2021-01-26 07:45:00+00:00\",\"2021-01-26 08:00:00+00:00\",\"2021-01-26 08:15:00+00:00\",\"2021-01-26 08:30:00+00:00\",\"2021-01-26 08:45:00+00:00\",\"2021-01-26 09:00:00+00:00\",\"2021-01-26 09:15:00+00:00\",\"2021-01-26 09:30:00+00:00\",\"2021-01-26 09:45:00+00:00\",\"2021-01-26 10:00:00+00:00\",\"2021-01-26 10:15:00+00:00\",\"2021-01-26 10:30:00+00:00\",\"2021-01-26 10:45:00+00:00\",\"2021-01-26 11:00:00+00:00\",\"2021-01-26 11:15:00+00:00\",\"2021-01-26 11:30:00+00:00\",\"2021-01-26 11:45:00+00:00\",\"2021-01-26 12:00:00+00:00\",\"2021-01-26 12:15:00+00:00\",\"2021-01-26 12:30:00+00:00\",\"2021-01-26 12:45:00+00:00\",\"2021-01-26 13:00:00+00:00\",\"2021-01-26 13:15:00+00:00\",\"2021-01-26 13:30:00+00:00\",\"2021-01-26 13:45:00+00:00\",\"2021-01-26 14:00:00+00:00\",\"2021-01-26 14:15:00+00:00\",\"2021-01-26 14:30:00+00:00\",\"2021-01-26 14:45:00+00:00\",\"2021-01-26 15:00:00+00:00\",\"2021-01-26 15:15:00+00:00\",\"2021-01-26 15:30:00+00:00\",\"2021-01-26 15:45:00+00:00\",\"2021-01-26 16:00:00+00:00\",\"2021-01-26 16:15:00+00:00\",\"2021-01-26 16:30:00+00:00\",\"2021-01-26 16:45:00+00:00\",\"2021-01-26 17:00:00+00:00\",\"2021-01-26 17:15:00+00:00\",\"2021-01-26 17:30:00+00:00\",\"2021-01-26 17:45:00+00:00\",\"2021-01-26 18:00:00+00:00\",\"2021-01-26 18:15:00+00:00\",\"2021-01-26 18:30:00+00:00\",\"2021-01-26 18:45:00+00:00\",\"2021-01-26 19:00:00+00:00\",\"2021-01-26 19:15:00+00:00\",\"2021-01-26 19:30:00+00:00\",\"2021-01-26 19:45:00+00:00\",\"2021-01-26 20:00:00+00:00\",\"2021-01-26 20:15:00+00:00\",\"2021-01-26 20:30:00+00:00\",\"2021-01-26 20:45:00+00:00\",\"2021-01-26 21:00:00+00:00\",\"2021-01-26 21:15:00+00:00\",\"2021-01-26 21:30:00+00:00\",\"2021-01-26 21:45:00+00:00\",\"2021-01-26 22:00:00+00:00\",\"2021-01-26 22:15:00+00:00\",\"2021-01-26 22:30:00+00:00\",\"2021-01-26 22:45:00+00:00\",\"2021-01-26 23:00:00+00:00\",\"2021-01-26 23:15:00+00:00\",\"2021-01-26 23:30:00+00:00\",\"2021-01-26 23:45:00+00:00\",\"2021-01-27 00:00:00+00:00\",\"2021-01-27 00:15:00+00:00\",\"2021-01-27 00:30:00+00:00\",\"2021-01-27 00:45:00+00:00\",\"2021-01-27 01:00:00+00:00\",\"2021-01-27 01:15:00+00:00\",\"2021-01-27 01:30:00+00:00\",\"2021-01-27 01:45:00+00:00\",\"2021-01-27 02:00:00+00:00\",\"2021-01-27 02:15:00+00:00\",\"2021-01-27 02:30:00+00:00\",\"2021-01-27 02:45:00+00:00\",\"2021-01-27 03:00:00+00:00\",\"2021-01-27 03:15:00+00:00\",\"2021-01-27 03:30:00+00:00\",\"2021-01-27 03:45:00+00:00\",\"2021-01-27 04:00:00+00:00\",\"2021-01-27 04:15:00+00:00\",\"2021-01-27 04:30:00+00:00\",\"2021-01-27 04:45:00+00:00\",\"2021-01-27 05:00:00+00:00\",\"2021-01-27 05:15:00+00:00\",\"2021-01-27 05:30:00+00:00\",\"2021-01-27 05:45:00+00:00\",\"2021-01-27 06:00:00+00:00\",\"2021-01-27 06:15:00+00:00\",\"2021-01-27 06:30:00+00:00\",\"2021-01-27 06:45:00+00:00\",\"2021-01-27 07:00:00+00:00\",\"2021-01-27 07:15:00+00:00\",\"2021-01-27 07:30:00+00:00\",\"2021-01-27 07:45:00+00:00\",\"2021-01-27 08:00:00+00:00\",\"2021-01-27 08:15:00+00:00\",\"2021-01-27 08:30:00+00:00\",\"2021-01-27 08:45:00+00:00\",\"2021-01-27 09:00:00+00:00\",\"2021-01-27 09:15:00+00:00\",\"2021-01-27 09:30:00+00:00\",\"2021-01-27 09:45:00+00:00\",\"2021-01-27 10:00:00+00:00\",\"2021-01-27 10:15:00+00:00\",\"2021-01-27 10:30:00+00:00\",\"2021-01-27 10:45:00+00:00\",\"2021-01-27 11:00:00+00:00\",\"2021-01-27 11:15:00+00:00\",\"2021-01-27 11:30:00+00:00\",\"2021-01-27 11:45:00+00:00\",\"2021-01-27 12:00:00+00:00\",\"2021-01-27 12:15:00+00:00\",\"2021-01-27 12:30:00+00:00\",\"2021-01-27 12:45:00+00:00\",\"2021-01-27 13:00:00+00:00\",\"2021-01-27 13:15:00+00:00\",\"2021-01-27 13:30:00+00:00\",\"2021-01-27 13:45:00+00:00\",\"2021-01-27 14:00:00+00:00\",\"2021-01-27 14:15:00+00:00\",\"2021-01-27 14:30:00+00:00\",\"2021-01-27 14:45:00+00:00\",\"2021-01-27 15:00:00+00:00\",\"2021-01-27 15:15:00+00:00\",\"2021-01-27 15:30:00+00:00\",\"2021-01-27 15:45:00+00:00\",\"2021-01-27 16:00:00+00:00\",\"2021-01-27 16:15:00+00:00\",\"2021-01-27 16:30:00+00:00\",\"2021-01-27 16:45:00+00:00\",\"2021-01-27 17:00:00+00:00\",\"2021-01-27 17:15:00+00:00\",\"2021-01-27 17:30:00+00:00\",\"2021-01-27 17:45:00+00:00\",\"2021-01-27 18:00:00+00:00\",\"2021-01-27 18:15:00+00:00\",\"2021-01-27 18:30:00+00:00\",\"2021-01-27 18:45:00+00:00\",\"2021-01-27 19:00:00+00:00\",\"2021-01-27 19:15:00+00:00\",\"2021-01-27 19:30:00+00:00\",\"2021-01-27 19:45:00+00:00\",\"2021-01-27 20:00:00+00:00\",\"2021-01-27 20:15:00+00:00\",\"2021-01-27 20:30:00+00:00\",\"2021-01-27 20:45:00+00:00\",\"2021-01-27 21:00:00+00:00\",\"2021-01-27 21:15:00+00:00\",\"2021-01-27 21:30:00+00:00\",\"2021-01-27 21:45:00+00:00\",\"2021-01-27 22:00:00+00:00\",\"2021-01-27 22:15:00+00:00\",\"2021-01-27 22:30:00+00:00\",\"2021-01-27 22:45:00+00:00\",\"2021-01-27 23:00:00+00:00\",\"2021-01-27 23:15:00+00:00\",\"2021-01-27 23:30:00+00:00\",\"2021-01-27 23:45:00+00:00\",\"2021-01-28 00:00:00+00:00\",\"2021-01-28 00:15:00+00:00\",\"2021-01-28 00:30:00+00:00\",\"2021-01-28 00:45:00+00:00\",\"2021-01-28 01:00:00+00:00\",\"2021-01-28 01:15:00+00:00\",\"2021-01-28 01:30:00+00:00\",\"2021-01-28 01:45:00+00:00\",\"2021-01-28 02:00:00+00:00\",\"2021-01-28 02:15:00+00:00\",\"2021-01-28 02:30:00+00:00\",\"2021-01-28 02:45:00+00:00\",\"2021-01-28 03:00:00+00:00\",\"2021-01-28 03:15:00+00:00\",\"2021-01-28 03:30:00+00:00\",\"2021-01-28 03:45:00+00:00\",\"2021-01-28 04:00:00+00:00\",\"2021-01-28 04:15:00+00:00\",\"2021-01-28 04:30:00+00:00\",\"2021-01-28 04:45:00+00:00\",\"2021-01-28 05:00:00+00:00\",\"2021-01-28 05:15:00+00:00\",\"2021-01-28 05:30:00+00:00\",\"2021-01-28 05:45:00+00:00\",\"2021-01-28 06:00:00+00:00\",\"2021-01-28 06:15:00+00:00\",\"2021-01-28 06:30:00+00:00\",\"2021-01-28 06:45:00+00:00\",\"2021-01-28 07:00:00+00:00\",\"2021-01-28 07:15:00+00:00\",\"2021-01-28 07:30:00+00:00\",\"2021-01-28 07:45:00+00:00\"],\"y\":[5.773333316047987,6.330000075201193,6.689999925593535,6.596666676302751,6.996666632592678,7.290000036358833,6.929999992251396,6.779999986290932,6.796666676799456,6.616666674613953,6.5333333263794575,5.7666666482885685,5.55999994277954,5.120000007251898,5.61333326001962,4.816666673248013,4.329999975860119,3.266666700442632,4.016666643321514,3.7599999780456224,3.976666654149691,3.723333378632864,3.75333329786857,4.123333318779866,4.4133333166440325,5.08333333581686,4.996666630730033,4.869999961306652,4.863333278025189,3.843333306411902,4.550000016887982,4.193333305418491,2.7599999879797297,3.633333367606004,4.106666661178072,5.283333346247673,4.489999958624442,6.166666689018409,6.806666585306328,7.169999916106463,7.659999882181486,8.516666521628698,8.979999949534733,9.156666686137516,9.426666657129925,9.423333257436754,8.756666645407677,8.556666846076647,8.320000141859056,8.2066667030255,8.243333265185356,7.833333447575568,7.889999970793724,7.6866666823625565,7.419999981919924,7.666666691501936,7.453333203991255,7.073333228627841,6.986666614810625,6.66000006099542,6.660000001390776,6.583333298563957,6.246666674812635,6.046666723986467,5.823333280781904,5.909999949236711,5.679999989767869,5.389999963343144,5.549999942382177,4.976666621863842,5.049999964733919,5.076666695376237,4.743333376944065,4.609999932348728,4.476666638006766,4.686666686087848,4.3633333171407385,4.420000040282806,4.44666666785876,4.250000045945247,4.263333371529977,4.44666668275992,4.143333288530508,4.173333317041397,4.229999985545874,4.156666677445173,4.106666586051385,4.159999943027893,4.146666633586088,4.23999997228384,4.520000045498213,4.573333352804184,4.996666672329107,5.080000030497709,5.576666648189227,5.586666636168957,5.843333328763644,5.803333270053069,6.579999975860118,6.669999994337559,6.789999956885974,7.196666546165944,7.446666645507018,7.649999901652336,7.563333262999852,7.383333367606004,7.460000025729339,7.319999985396863,7.373333372175693,7.106666733821233,7.3899999782443055,7.356666664282481,7.33666663368543,6.863333371778329,6.626666585604351,6.586666730542978,6.890000072618325,7.343333229422568,7.26666667809089,7.046666629910469,6.89,6.9,7.423333333333333,7.416666666666666,7.023333333333334,7.05,7.116666666666666,7.0600000000000005,7.006666709979375,6.829999916255475,6.9900000393390656,7.133333265781403,7.029999911785126,7.7733334004879,8.006666712462902,8.110000011821588,8.826666630804539,9.380000079671545,9.849999969204267,9.766666730244951,9.5733333726724,9.123333200812342,8.959999995927017,8.6933334171772,8.266666601101557,8.226666659116745,7.97333337366581,7.886666695276896,8.010000050067902,7.594999894499779,7.650000005960465,7.490000059207279,7.336666737993558,7.016666625936826,6.596666554609935,6.553333399196466,6.613333312173684,6.256666687627633,6.08666666597128,5.943333302934964,5.4866666818658505,5.406666658818722,5.416666609545549,5.1933333948254585,4.823333310584228,4.849999989072481,4.746666612724463,4.613333260019621,4.626666675011316,4.526666685938835,4.410000013808409,4.246666641285022,4.106666571150224,4.023333322256804,4.143333304673433,4.156666637708743,4.119999919086695,4.100000012665987,3.890000063925981,3.876666701088349,4.056666690856218,4.0533333482841645,4.066666639099518,4.033333337555329,4.013333277155956,4.053333340833585,4.04666667804122,4.469999966522058,4.650000013411046,4.956666700541973,5.156666678686936,5.393333318332831,5.809999984999497,6.246666679779689,6.386666640639305,6.703333253661791,6.800000001986821,6.963333288828531,7.200000057617824,7.326666720211506],\"type\":\"scatter\"}],                        {\"legend\":{\"bgcolor\":\"#F5F6F9\",\"font\":{\"color\":\"#4D5663\"}},\"paper_bgcolor\":\"#F5F6F9\",\"plot_bgcolor\":\"#F5F6F9\",\"template\":{\"data\":{\"barpolar\":[{\"marker\":{\"line\":{\"color\":\"#E5ECF6\",\"width\":0.5},\"pattern\":{\"fillmode\":\"overlay\",\"size\":10,\"solidity\":0.2}},\"type\":\"barpolar\"}],\"bar\":[{\"error_x\":{\"color\":\"#2a3f5f\"},\"error_y\":{\"color\":\"#2a3f5f\"},\"marker\":{\"line\":{\"color\":\"#E5ECF6\",\"width\":0.5},\"pattern\":{\"fillmode\":\"overlay\",\"size\":10,\"solidity\":0.2}},\"type\":\"bar\"}],\"carpet\":[{\"aaxis\":{\"endlinecolor\":\"#2a3f5f\",\"gridcolor\":\"white\",\"linecolor\":\"white\",\"minorgridcolor\":\"white\",\"startlinecolor\":\"#2a3f5f\"},\"baxis\":{\"endlinecolor\":\"#2a3f5f\",\"gridcolor\":\"white\",\"linecolor\":\"white\",\"minorgridcolor\":\"white\",\"startlinecolor\":\"#2a3f5f\"},\"type\":\"carpet\"}],\"choropleth\":[{\"colorbar\":{\"outlinewidth\":0,\"ticks\":\"\"},\"type\":\"choropleth\"}],\"contourcarpet\":[{\"colorbar\":{\"outlinewidth\":0,\"ticks\":\"\"},\"type\":\"contourcarpet\"}],\"contour\":[{\"colorbar\":{\"outlinewidth\":0,\"ticks\":\"\"},\"colorscale\":[[0.0,\"#0d0887\"],[0.1111111111111111,\"#46039f\"],[0.2222222222222222,\"#7201a8\"],[0.3333333333333333,\"#9c179e\"],[0.4444444444444444,\"#bd3786\"],[0.5555555555555556,\"#d8576b\"],[0.6666666666666666,\"#ed7953\"],[0.7777777777777778,\"#fb9f3a\"],[0.8888888888888888,\"#fdca26\"],[1.0,\"#f0f921\"]],\"type\":\"contour\"}],\"heatmapgl\":[{\"colorbar\":{\"outlinewidth\":0,\"ticks\":\"\"},\"colorscale\":[[0.0,\"#0d0887\"],[0.1111111111111111,\"#46039f\"],[0.2222222222222222,\"#7201a8\"],[0.3333333333333333,\"#9c179e\"],[0.4444444444444444,\"#bd3786\"],[0.5555555555555556,\"#d8576b\"],[0.6666666666666666,\"#ed7953\"],[0.7777777777777778,\"#fb9f3a\"],[0.8888888888888888,\"#fdca26\"],[1.0,\"#f0f921\"]],\"type\":\"heatmapgl\"}],\"heatmap\":[{\"colorbar\":{\"outlinewidth\":0,\"ticks\":\"\"},\"colorscale\":[[0.0,\"#0d0887\"],[0.1111111111111111,\"#46039f\"],[0.2222222222222222,\"#7201a8\"],[0.3333333333333333,\"#9c179e\"],[0.4444444444444444,\"#bd3786\"],[0.5555555555555556,\"#d8576b\"],[0.6666666666666666,\"#ed7953\"],[0.7777777777777778,\"#fb9f3a\"],[0.8888888888888888,\"#fdca26\"],[1.0,\"#f0f921\"]],\"type\":\"heatmap\"}],\"histogram2dcontour\":[{\"colorbar\":{\"outlinewidth\":0,\"ticks\":\"\"},\"colorscale\":[[0.0,\"#0d0887\"],[0.1111111111111111,\"#46039f\"],[0.2222222222222222,\"#7201a8\"],[0.3333333333333333,\"#9c179e\"],[0.4444444444444444,\"#bd3786\"],[0.5555555555555556,\"#d8576b\"],[0.6666666666666666,\"#ed7953\"],[0.7777777777777778,\"#fb9f3a\"],[0.8888888888888888,\"#fdca26\"],[1.0,\"#f0f921\"]],\"type\":\"histogram2dcontour\"}],\"histogram2d\":[{\"colorbar\":{\"outlinewidth\":0,\"ticks\":\"\"},\"colorscale\":[[0.0,\"#0d0887\"],[0.1111111111111111,\"#46039f\"],[0.2222222222222222,\"#7201a8\"],[0.3333333333333333,\"#9c179e\"],[0.4444444444444444,\"#bd3786\"],[0.5555555555555556,\"#d8576b\"],[0.6666666666666666,\"#ed7953\"],[0.7777777777777778,\"#fb9f3a\"],[0.8888888888888888,\"#fdca26\"],[1.0,\"#f0f921\"]],\"type\":\"histogram2d\"}],\"histogram\":[{\"marker\":{\"pattern\":{\"fillmode\":\"overlay\",\"size\":10,\"solidity\":0.2}},\"type\":\"histogram\"}],\"mesh3d\":[{\"colorbar\":{\"outlinewidth\":0,\"ticks\":\"\"},\"type\":\"mesh3d\"}],\"parcoords\":[{\"line\":{\"colorbar\":{\"outlinewidth\":0,\"ticks\":\"\"}},\"type\":\"parcoords\"}],\"pie\":[{\"automargin\":true,\"type\":\"pie\"}],\"scatter3d\":[{\"line\":{\"colorbar\":{\"outlinewidth\":0,\"ticks\":\"\"}},\"marker\":{\"colorbar\":{\"outlinewidth\":0,\"ticks\":\"\"}},\"type\":\"scatter3d\"}],\"scattercarpet\":[{\"marker\":{\"colorbar\":{\"outlinewidth\":0,\"ticks\":\"\"}},\"type\":\"scattercarpet\"}],\"scattergeo\":[{\"marker\":{\"colorbar\":{\"outlinewidth\":0,\"ticks\":\"\"}},\"type\":\"scattergeo\"}],\"scattergl\":[{\"marker\":{\"colorbar\":{\"outlinewidth\":0,\"ticks\":\"\"}},\"type\":\"scattergl\"}],\"scattermapbox\":[{\"marker\":{\"colorbar\":{\"outlinewidth\":0,\"ticks\":\"\"}},\"type\":\"scattermapbox\"}],\"scatterpolargl\":[{\"marker\":{\"colorbar\":{\"outlinewidth\":0,\"ticks\":\"\"}},\"type\":\"scatterpolargl\"}],\"scatterpolar\":[{\"marker\":{\"colorbar\":{\"outlinewidth\":0,\"ticks\":\"\"}},\"type\":\"scatterpolar\"}],\"scatter\":[{\"fillpattern\":{\"fillmode\":\"overlay\",\"size\":10,\"solidity\":0.2},\"type\":\"scatter\"}],\"scatterternary\":[{\"marker\":{\"colorbar\":{\"outlinewidth\":0,\"ticks\":\"\"}},\"type\":\"scatterternary\"}],\"surface\":[{\"colorbar\":{\"outlinewidth\":0,\"ticks\":\"\"},\"colorscale\":[[0.0,\"#0d0887\"],[0.1111111111111111,\"#46039f\"],[0.2222222222222222,\"#7201a8\"],[0.3333333333333333,\"#9c179e\"],[0.4444444444444444,\"#bd3786\"],[0.5555555555555556,\"#d8576b\"],[0.6666666666666666,\"#ed7953\"],[0.7777777777777778,\"#fb9f3a\"],[0.8888888888888888,\"#fdca26\"],[1.0,\"#f0f921\"]],\"type\":\"surface\"}],\"table\":[{\"cells\":{\"fill\":{\"color\":\"#EBF0F8\"},\"line\":{\"color\":\"white\"}},\"header\":{\"fill\":{\"color\":\"#C8D4E3\"},\"line\":{\"color\":\"white\"}},\"type\":\"table\"}]},\"layout\":{\"annotationdefaults\":{\"arrowcolor\":\"#2a3f5f\",\"arrowhead\":0,\"arrowwidth\":1},\"autotypenumbers\":\"strict\",\"coloraxis\":{\"colorbar\":{\"outlinewidth\":0,\"ticks\":\"\"}},\"colorscale\":{\"diverging\":[[0,\"#8e0152\"],[0.1,\"#c51b7d\"],[0.2,\"#de77ae\"],[0.3,\"#f1b6da\"],[0.4,\"#fde0ef\"],[0.5,\"#f7f7f7\"],[0.6,\"#e6f5d0\"],[0.7,\"#b8e186\"],[0.8,\"#7fbc41\"],[0.9,\"#4d9221\"],[1,\"#276419\"]],\"sequential\":[[0.0,\"#0d0887\"],[0.1111111111111111,\"#46039f\"],[0.2222222222222222,\"#7201a8\"],[0.3333333333333333,\"#9c179e\"],[0.4444444444444444,\"#bd3786\"],[0.5555555555555556,\"#d8576b\"],[0.6666666666666666,\"#ed7953\"],[0.7777777777777778,\"#fb9f3a\"],[0.8888888888888888,\"#fdca26\"],[1.0,\"#f0f921\"]],\"sequentialminus\":[[0.0,\"#0d0887\"],[0.1111111111111111,\"#46039f\"],[0.2222222222222222,\"#7201a8\"],[0.3333333333333333,\"#9c179e\"],[0.4444444444444444,\"#bd3786\"],[0.5555555555555556,\"#d8576b\"],[0.6666666666666666,\"#ed7953\"],[0.7777777777777778,\"#fb9f3a\"],[0.8888888888888888,\"#fdca26\"],[1.0,\"#f0f921\"]]},\"colorway\":[\"#636efa\",\"#EF553B\",\"#00cc96\",\"#ab63fa\",\"#FFA15A\",\"#19d3f3\",\"#FF6692\",\"#B6E880\",\"#FF97FF\",\"#FECB52\"],\"font\":{\"color\":\"#2a3f5f\"},\"geo\":{\"bgcolor\":\"white\",\"lakecolor\":\"white\",\"landcolor\":\"#E5ECF6\",\"showlakes\":true,\"showland\":true,\"subunitcolor\":\"white\"},\"hoverlabel\":{\"align\":\"left\"},\"hovermode\":\"closest\",\"mapbox\":{\"style\":\"light\"},\"paper_bgcolor\":\"white\",\"plot_bgcolor\":\"#E5ECF6\",\"polar\":{\"angularaxis\":{\"gridcolor\":\"white\",\"linecolor\":\"white\",\"ticks\":\"\"},\"bgcolor\":\"#E5ECF6\",\"radialaxis\":{\"gridcolor\":\"white\",\"linecolor\":\"white\",\"ticks\":\"\"}},\"scene\":{\"xaxis\":{\"backgroundcolor\":\"#E5ECF6\",\"gridcolor\":\"white\",\"gridwidth\":2,\"linecolor\":\"white\",\"showbackground\":true,\"ticks\":\"\",\"zerolinecolor\":\"white\"},\"yaxis\":{\"backgroundcolor\":\"#E5ECF6\",\"gridcolor\":\"white\",\"gridwidth\":2,\"linecolor\":\"white\",\"showbackground\":true,\"ticks\":\"\",\"zerolinecolor\":\"white\"},\"zaxis\":{\"backgroundcolor\":\"#E5ECF6\",\"gridcolor\":\"white\",\"gridwidth\":2,\"linecolor\":\"white\",\"showbackground\":true,\"ticks\":\"\",\"zerolinecolor\":\"white\"}},\"shapedefaults\":{\"line\":{\"color\":\"#2a3f5f\"}},\"ternary\":{\"aaxis\":{\"gridcolor\":\"white\",\"linecolor\":\"white\",\"ticks\":\"\"},\"baxis\":{\"gridcolor\":\"white\",\"linecolor\":\"white\",\"ticks\":\"\"},\"bgcolor\":\"#E5ECF6\",\"caxis\":{\"gridcolor\":\"white\",\"linecolor\":\"white\",\"ticks\":\"\"}},\"title\":{\"x\":0.05},\"xaxis\":{\"automargin\":true,\"gridcolor\":\"white\",\"linecolor\":\"white\",\"ticks\":\"\",\"title\":{\"standoff\":15},\"zerolinecolor\":\"white\",\"zerolinewidth\":2},\"yaxis\":{\"automargin\":true,\"gridcolor\":\"white\",\"linecolor\":\"white\",\"ticks\":\"\",\"title\":{\"standoff\":15},\"zerolinecolor\":\"white\",\"zerolinewidth\":2}}},\"title\":{\"font\":{\"color\":\"#4D5663\"}},\"xaxis\":{\"gridcolor\":\"#E1E5ED\",\"showgrid\":true,\"tickfont\":{\"color\":\"#4D5663\"},\"title\":{\"font\":{\"color\":\"#4D5663\"},\"text\":\"\"},\"zerolinecolor\":\"#E1E5ED\"},\"yaxis\":{\"gridcolor\":\"#E1E5ED\",\"showgrid\":true,\"tickfont\":{\"color\":\"#4D5663\"},\"title\":{\"font\":{\"color\":\"#4D5663\"},\"text\":\"\"},\"zerolinecolor\":\"#E1E5ED\"}},                        {\"showLink\": true, \"linkText\": \"Export to plot.ly\", \"plotlyServerURL\": \"https://plot.ly\", \"responsive\": true}                    ).then(function(){\n",
       "                            \n",
       "var gd = document.getElementById('a76f9f59-16e8-4ab3-bfe0-cedcebde4c9c');\n",
       "var x = new MutationObserver(function (mutations, observer) {{\n",
       "        var display = window.getComputedStyle(gd).display;\n",
       "        if (!display || display === 'none') {{\n",
       "            console.log([gd, 'removed!']);\n",
       "            Plotly.purge(gd);\n",
       "            observer.disconnect();\n",
       "        }}\n",
       "}});\n",
       "\n",
       "// Listen for the removal of the full notebook cells\n",
       "var notebookContainer = gd.closest('#notebook-container');\n",
       "if (notebookContainer) {{\n",
       "    x.observe(notebookContainer, {childList: true});\n",
       "}}\n",
       "\n",
       "// Listen for the clearing of the current output cell\n",
       "var outputEl = gd.closest('.output');\n",
       "if (outputEl) {{\n",
       "    x.observe(outputEl, {childList: true});\n",
       "}}\n",
       "\n",
       "                        })                };                });            </script>        </div>"
      ]
     },
     "metadata": {},
     "output_type": "display_data"
    }
   ],
   "source": [
    "import cufflinks\n",
    "cufflinks.go_offline()\n",
    "forecast[['forecast','load']].iplot()"
   ]
  },
  {
   "cell_type": "code",
   "execution_count": 52,
   "id": "6fc5918d",
   "metadata": {},
   "outputs": [
    {
     "data": {
      "text/html": [
       "<div>\n",
       "<style scoped>\n",
       "    .dataframe tbody tr th:only-of-type {\n",
       "        vertical-align: middle;\n",
       "    }\n",
       "\n",
       "    .dataframe tbody tr th {\n",
       "        vertical-align: top;\n",
       "    }\n",
       "\n",
       "    .dataframe thead th {\n",
       "        text-align: right;\n",
       "    }\n",
       "</style>\n",
       "<table border=\"1\" class=\"dataframe\">\n",
       "  <thead>\n",
       "    <tr style=\"text-align: right;\">\n",
       "      <th></th>\n",
       "      <th>0</th>\n",
       "    </tr>\n",
       "  </thead>\n",
       "  <tbody>\n",
       "    <tr>\n",
       "      <th>RMSE</th>\n",
       "      <td>0.756802</td>\n",
       "    </tr>\n",
       "    <tr>\n",
       "      <th>bias</th>\n",
       "      <td>-0.223831</td>\n",
       "    </tr>\n",
       "    <tr>\n",
       "      <th>NSME</th>\n",
       "      <td>0.776115</td>\n",
       "    </tr>\n",
       "    <tr>\n",
       "      <th>MAE</th>\n",
       "      <td>0.494964</td>\n",
       "    </tr>\n",
       "    <tr>\n",
       "      <th>rMAE</th>\n",
       "      <td>0.069812</td>\n",
       "    </tr>\n",
       "    <tr>\n",
       "      <th>rMAE_highest</th>\n",
       "      <td>0.068826</td>\n",
       "    </tr>\n",
       "    <tr>\n",
       "      <th>rMNE_highest</th>\n",
       "      <td>-0.049685</td>\n",
       "    </tr>\n",
       "    <tr>\n",
       "      <th>rMPE_highest</th>\n",
       "      <td>0.049080</td>\n",
       "    </tr>\n",
       "    <tr>\n",
       "      <th>rMAE_lowest</th>\n",
       "      <td>0.112396</td>\n",
       "    </tr>\n",
       "    <tr>\n",
       "      <th>load_range</th>\n",
       "      <td>7.090000</td>\n",
       "    </tr>\n",
       "    <tr>\n",
       "      <th>frac_in_1sdev</th>\n",
       "      <td>0.000000</td>\n",
       "    </tr>\n",
       "    <tr>\n",
       "      <th>frac_in_2sdev</th>\n",
       "      <td>0.000000</td>\n",
       "    </tr>\n",
       "  </tbody>\n",
       "</table>\n",
       "</div>"
      ],
      "text/plain": [
       "                      0\n",
       "RMSE           0.756802\n",
       "bias          -0.223831\n",
       "NSME           0.776115\n",
       "MAE            0.494964\n",
       "rMAE           0.069812\n",
       "rMAE_highest   0.068826\n",
       "rMNE_highest  -0.049685\n",
       "rMPE_highest   0.049080\n",
       "rMAE_lowest    0.112396\n",
       "load_range     7.090000\n",
       "frac_in_1sdev  0.000000\n",
       "frac_in_2sdev  0.000000"
      ]
     },
     "execution_count": 52,
     "metadata": {},
     "output_type": "execute_result"
    }
   ],
   "source": [
    "default_metrics ={\n",
    "    \"RMSE\": metrics.rmse(forecast[\"load\"], forecast[\"forecast\"]),\n",
    "    \"bias\": metrics.bias(forecast[\"load\"], forecast[\"forecast\"]),\n",
    "    \"NSME\": metrics.nsme(forecast[\"load\"], forecast[\"forecast\"]),\n",
    "    \"MAE\": metrics.mae(forecast[\"load\"], forecast[\"forecast\"]),\n",
    "    \"rMAE\": metrics.r_mae(forecast[\"load\"], forecast[\"forecast\"]),\n",
    "    \"rMAE_highest\": metrics.r_mae_highest(forecast[\"load\"], forecast[\"forecast\"]),\n",
    "    \"rMNE_highest\": metrics.r_mne_highest(forecast[\"load\"], forecast[\"forecast\"]),\n",
    "    \"rMPE_highest\": metrics.r_mpe_highest(forecast[\"load\"], forecast[\"forecast\"]),\n",
    "    \"rMAE_lowest\": metrics.r_mae_lowest(forecast[\"load\"], forecast[\"forecast\"]),\n",
    "\n",
    "    \"load_range\": forecast[\"load\"].max() - forecast[\"load\"].min(),\n",
    "    \"frac_in_1sdev\": metrics.frac_in_stdev(forecast[\"load\"], forecast[\"forecast\"], forecast[\"stdev\"]),\n",
    "    \"frac_in_2sdev\": metrics.frac_in_stdev(\n",
    "        forecast[\"load\"], forecast[\"forecast\"], 2 * forecast[\"stdev\"]\n",
    "    ),\n",
    "}\n",
    "pd.DataFrame.from_dict(default_metrics, \"index\")            "
   ]
  },
  {
   "cell_type": "code",
   "execution_count": null,
   "id": "36ddf1f6-0642-42d5-af48-e1d546248692",
   "metadata": {},
   "outputs": [],
   "source": []
  },
  {
   "cell_type": "code",
   "execution_count": null,
   "id": "4f717e9c-1d01-4d8c-9deb-bfaa64e07ed5",
   "metadata": {},
   "outputs": [],
   "source": []
  }
 ],
 "metadata": {
  "kernelspec": {
   "display_name": "Python 3 (ipykernel)",
   "language": "python",
   "name": "python3"
  },
  "language_info": {
   "codemirror_mode": {
    "name": "ipython",
    "version": 3
   },
   "file_extension": ".py",
   "mimetype": "text/x-python",
   "name": "python",
   "nbconvert_exporter": "python",
   "pygments_lexer": "ipython3",
   "version": "3.9.16"
  },
  "toc": {
   "base_numbering": 1,
   "nav_menu": {},
   "number_sections": true,
   "sideBar": true,
   "skip_h1_title": false,
   "title_cell": "Table of Contents",
   "title_sidebar": "Contents",
   "toc_cell": false,
   "toc_position": {},
   "toc_section_display": true,
   "toc_window_display": false
  }
 },
 "nbformat": 4,
 "nbformat_minor": 5
}
