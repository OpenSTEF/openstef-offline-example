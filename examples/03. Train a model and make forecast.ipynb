{
 "cells": [
  {
   "cell_type": "markdown",
   "id": "86f4286a",
   "metadata": {
    "ExecuteTime": {
     "end_time": "2021-08-25T08:05:09.191375Z",
     "start_time": "2021-08-25T08:05:09.185368Z"
    }
   },
   "source": [
    "# Train a model and make a forecast\n",
    "In this example, a model is trained (the same as in example notebook 1) and thereafter a forecast is made with the trained model. Finally, the forecast is evaluated using visualisation and the build-in metrics of OpenSTEF."
   ]
  },
  {
   "cell_type": "code",
   "execution_count": null,
   "id": "b58cb655",
   "metadata": {
    "ExecuteTime": {
     "end_time": "2022-02-09T16:32:13.735781Z",
     "start_time": "2022-02-09T16:32:07.431216Z"
    }
   },
   "outputs": [],
   "source": [
    "import pandas as pd\n",
    "from IPython.display import IFrame\n",
    "import numpy as np\n",
    "from openstef.pipeline.train_model import train_model_pipeline\n",
    "from openstef.pipeline.create_forecast import create_forecast_pipeline\n",
    "from openstef.metrics import metrics\n",
    "from openstef.data_classes.prediction_job import PredictionJobDataClass\n",
    "\n",
    "# Set plotly as the default pandas plotting backend\n",
    "pd.options.plotting.backend = 'plotly'\n",
    "import plotly.io as pio\n",
    "pio.renderers.default = \"plotly_mimetype+notebook\""
   ]
  },
  {
   "cell_type": "markdown",
   "id": "f920d264",
   "metadata": {},
   "source": [
    "## Prepare for training & forecast\n",
    "Before a model can be trained, the specifications and data need to be defined. The specification of the model are defined in the prediction job (pj), where for example the machine learning model, latitude, longtide and forecast horizon are specified. Furthermore, the data has to be retrieved from the csv file containing both load, weather and energy market data. "
   ]
  },
  {
   "cell_type": "code",
   "execution_count": null,
   "id": "6a062d66",
   "metadata": {
    "ExecuteTime": {
     "end_time": "2022-02-09T16:32:17.007177Z",
     "start_time": "2022-02-09T16:32:16.772982Z"
    }
   },
   "outputs": [],
   "source": [
    "# define properties of training/prediction. We call this a 'prediction_job'\n",
    "pj=dict(id=287,\n",
    "        model='xgb',\n",
    "        quantiles=[0.05, 0.1, 0.3, 0.5, 0.7, 0.9, 0.95],\n",
    "        name=\"backtest\",\n",
    "        forecast_type=\"demand\",\n",
    "        lat=52.0,\n",
    "        lon=5.0,\n",
    "        horizon_minutes=47*60,\n",
    "        description=\"description\",\n",
    "        resolution_minutes=15,\n",
    "        hyper_params={}, \n",
    "        feature_names=None,\n",
    "       )\n",
    "\n",
    "pj  = PredictionJobDataClass(**pj)\n",
    "\n",
    "# Load input data\n",
    "input_data = pd.read_csv('data/get_model_input_pid_287.csv', index_col='index', parse_dates=True)\n",
    "# Last 200 rows are empty, remove them\n",
    "input_data = input_data.iloc[:-200,:]\n",
    "\n",
    "# Split in training and forecasting data\n",
    "train_data = input_data.iloc[:-200,:] # everything except last 200 rows (~ 48 hours)\n",
    "test_indices = input_data.iloc[-200:,:].index # last 200 rows"
   ]
  },
  {
   "cell_type": "code",
   "execution_count": null,
   "id": "7b44f2c5",
   "metadata": {
    "ExecuteTime": {
     "end_time": "2022-02-09T16:32:17.957518Z",
     "start_time": "2022-02-09T16:32:17.911765Z"
    },
    "scrolled": true
   },
   "outputs": [],
   "source": [
    "display(train_data.head())"
   ]
  },
  {
   "cell_type": "markdown",
   "id": "e0d17724",
   "metadata": {},
   "source": [
    "## Train a model\n",
    "Train a model using the high-level pipeline. Store the model and reports on training proces in ./mlflow_trained_models."
   ]
  },
  {
   "cell_type": "code",
   "execution_count": null,
   "id": "a40f7676",
   "metadata": {
    "ExecuteTime": {
     "end_time": "2022-02-09T16:32:45.902929Z",
     "start_time": "2022-02-09T16:32:30.668780Z"
    }
   },
   "outputs": [],
   "source": [
    "models = train_model_pipeline(\n",
    "    pj,\n",
    "    train_data,\n",
    "    check_old_model_age=False,\n",
    "    mlflow_tracking_uri=\"./mlflow_trained_models\",\n",
    "    artifact_folder=\"./mlflow_artifacts\",\n",
    "    )"
   ]
  },
  {
   "cell_type": "markdown",
   "id": "7209dca5",
   "metadata": {},
   "source": [
    "You can find the trained model in ./mlflow_trained_models, along with reports on the training process."
   ]
  },
  {
   "cell_type": "code",
   "execution_count": null,
   "id": "31d29013",
   "metadata": {
    "ExecuteTime": {
     "end_time": "2022-02-09T16:34:36.372856Z",
     "start_time": "2022-02-09T16:34:36.351854Z"
    }
   },
   "outputs": [],
   "source": [
    "# Inspect local files\n",
    "IFrame('./mlflow_artifacts/{}/Predictor0.25.html'.format(pj['id']), width=900, height=400)\n",
    "IFrame('./mlflow_artifacts/{}/Predictor47.0.html'.format(pj['id']), width=800, height=400)\n",
    "IFrame('./mlflow_artifacts/{}/weight_plot.html'.format(pj['id']), width=800, height=400)\n",
    "\n",
    "\n",
    "## Visual Studio Code has difficulties with displaying htmls. If you are working with VSC and are not able to inspect the plots, uncomment the code below\n",
    "## to open the plots in your browser.\n",
    "# import webbrowser\n",
    "# webbrowser.open(r'.\\mlflow_artifacts\\{}\\Predictor0.25.html'.format(pj['id']))\n",
    "# webbrowser.open(r'.\\mlflow_artifacts\\{}\\Predictor47.0.html'.format(pj['id']))\n",
    "# webbrowser.open(r'.\\mlflow_artifacts\\{}\\weight_plot.html'.format(pj['id']))"
   ]
  },
  {
   "cell_type": "markdown",
   "id": "89a0834c",
   "metadata": {},
   "source": [
    "## Make a forecast\n",
    "The ``create_forecast_pipeline`` is used to make a forecast using the model trained above."
   ]
  },
  {
   "cell_type": "code",
   "execution_count": null,
   "id": "d4513acb",
   "metadata": {},
   "outputs": [],
   "source": [
    "# Prepare data such that a forecast can be made using the trained model. \n",
    "realised = input_data.loc[test_indices, 'load'].copy(deep=True)\n",
    "to_forecast_data = input_data.copy(deep=True)\n",
    "to_forecast_data.loc[test_indices, 'load'] = np.nan\n",
    "\n",
    "# Make a forecast\n",
    "forecast = create_forecast_pipeline(pj, to_forecast_data, mlflow_tracking_uri=\"./mlflow_trained_models\",)\n",
    "\n",
    "# Add realised to forecast\n",
    "forecast['load'] = realised"
   ]
  },
  {
   "cell_type": "markdown",
   "id": "9c7e5ca7",
   "metadata": {},
   "source": [
    "## Evaluate the results \n",
    "Below, the results of the forecast can be evaluated by means of a visualisation and of the build-in metrics of the OpenSTEF package."
   ]
  },
  {
   "cell_type": "code",
   "execution_count": null,
   "id": "e942a5bb",
   "metadata": {},
   "outputs": [],
   "source": [
    "forecast[['forecast','load']].plot()"
   ]
  },
  {
   "cell_type": "code",
   "execution_count": null,
   "id": "6fc5918d",
   "metadata": {},
   "outputs": [],
   "source": [
    "# Evaluate the forecast by using the inbuild metrics of OpenSTEF\n",
    "default_metrics ={\n",
    "    \"RMSE\": metrics.rmse(forecast[\"load\"], forecast[\"forecast\"]),\n",
    "    \"bias\": metrics.bias(forecast[\"load\"], forecast[\"forecast\"]),\n",
    "    \"NSME\": metrics.nsme(forecast[\"load\"], forecast[\"forecast\"]),\n",
    "    \"MAE\": metrics.mae(forecast[\"load\"], forecast[\"forecast\"]),\n",
    "    \"rMAE\": metrics.r_mae(forecast[\"load\"], forecast[\"forecast\"]),\n",
    "    \"rMAE_highest\": metrics.r_mae_highest(forecast[\"load\"], forecast[\"forecast\"]),\n",
    "    \"rMNE_highest\": metrics.r_mne_highest(forecast[\"load\"], forecast[\"forecast\"]),\n",
    "    \"rMPE_highest\": metrics.r_mpe_highest(forecast[\"load\"], forecast[\"forecast\"]),\n",
    "    \"rMAE_lowest\": metrics.r_mae_lowest(forecast[\"load\"], forecast[\"forecast\"]),\n",
    "\n",
    "    \"load_range\": forecast[\"load\"].max() - forecast[\"load\"].min(),\n",
    "    \"frac_in_1sdev\": metrics.frac_in_stdev(forecast[\"load\"], forecast[\"forecast\"], forecast[\"stdev\"]),\n",
    "    \"frac_in_2sdev\": metrics.frac_in_stdev(\n",
    "        forecast[\"load\"], forecast[\"forecast\"], 2 * forecast[\"stdev\"]\n",
    "    ),\n",
    "}\n",
    "pd.DataFrame.from_dict(default_metrics, \"index\")            "
   ]
  }
 ],
 "metadata": {
  "kernelspec": {
   "display_name": "Python 3 (ipykernel)",
   "language": "python",
   "name": "python3"
  },
  "language_info": {
   "codemirror_mode": {
    "name": "ipython",
    "version": 3
   },
   "file_extension": ".py",
   "mimetype": "text/x-python",
   "name": "python",
   "nbconvert_exporter": "python",
   "pygments_lexer": "ipython3",
   "version": "3.10.13"
  },
  "toc": {
   "base_numbering": 1,
   "nav_menu": {},
   "number_sections": true,
   "sideBar": true,
   "skip_h1_title": false,
   "title_cell": "Table of Contents",
   "title_sidebar": "Contents",
   "toc_cell": false,
   "toc_position": {},
   "toc_section_display": true,
   "toc_window_display": false
  }
 },
 "nbformat": 4,
 "nbformat_minor": 5
}
