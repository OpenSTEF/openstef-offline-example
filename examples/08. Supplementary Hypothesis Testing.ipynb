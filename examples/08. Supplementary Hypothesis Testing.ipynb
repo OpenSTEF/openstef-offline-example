{
 "cells": [
  {
   "cell_type": "code",
   "execution_count": 7,
   "id": "initial_id",
   "metadata": {
    "collapsed": true,
    "ExecuteTime": {
     "end_time": "2024-03-14T11:21:09.523463377Z",
     "start_time": "2024-03-14T11:21:09.505481277Z"
    }
   },
   "outputs": [],
   "source": [
    "import json\n",
    "from pathlib import Path"
   ]
  },
  {
   "cell_type": "code",
   "outputs": [],
   "source": [
    "null_hypothesis_name = 'difficult_location_1_results_baseline.json'\n",
    "alternative_hypothesis_name = 'difficult_location_1_results_baseline_test.json'\n",
    "\n",
    "null_hypothesis = json.loads(Path(f'experiment_results/{null_hypothesis_name}').read_text())\n",
    "alternative_hypothesis = json.loads(Path(f'experiment_results/{alternative_hypothesis_name}').read_text())"
   ],
   "metadata": {
    "collapsed": false,
    "ExecuteTime": {
     "end_time": "2024-03-14T11:21:09.682353835Z",
     "start_time": "2024-03-14T11:21:09.660914833Z"
    }
   },
   "id": "892ab1c418b2f459",
   "execution_count": 8
  },
  {
   "cell_type": "code",
   "outputs": [],
   "source": [
    "critical_value = 1.96\n",
    "\n",
    "def test_hypothesis(null_mean, null_std, alternative_mean, n):\n",
    "    \"\"\"Test hypothesis.\"\"\"\n",
    "    t = (null_mean - alternative_mean) / (null_std / n ** 0.5)\n",
    "\n",
    "    # If t is greater than cirtical value, we reject the null hypothesis.\n",
    "    if t > critical_value:\n",
    "        print(\"Reject null hypothesis\")\n",
    "        return 1\n",
    "\n",
    "    if t < -critical_value:\n",
    "        print(\"Reject null hypothesis. Alternative is significantly worse!\")\n",
    "        return -1\n",
    "\n",
    "    print(\"Accept null hypothesis\")\n",
    "    return 0\n"
   ],
   "metadata": {
    "collapsed": false,
    "ExecuteTime": {
     "end_time": "2024-03-14T11:21:09.862914164Z",
     "start_time": "2024-03-14T11:21:09.842153605Z"
    }
   },
   "id": "b1d5e056770723c1",
   "execution_count": 9
  },
  {
   "cell_type": "code",
   "outputs": [
    {
     "name": "stdout",
     "output_type": "stream",
     "text": [
      "=== Experiment 0\n",
      "Accept null hypothesis\n",
      "More peaks detected: 0.0\n",
      "=== Experiment 1\n",
      "Accept null hypothesis\n",
      "More peaks detected: 0.0\n",
      "=== Experiment 2\n",
      "Reject null hypothesis. Alternative is significantly worse!\n",
      "More peaks detected: 0.0\n",
      "=== Experiment 3\n",
      "Accept null hypothesis\n",
      "More peaks detected: 0.0\n",
      "=== Experiment 4\n",
      "Accept null hypothesis\n",
      "More peaks detected: 0.0\n",
      "=== Experiment 5\n",
      "Accept null hypothesis\n",
      "More peaks detected: 0.0\n",
      "=== Experiment 6\n",
      "Reject null hypothesis\n",
      "More peaks detected: 0.0\n",
      "=== Experiment 7\n",
      "Accept null hypothesis\n",
      "More peaks detected: 0.0\n",
      "=== Experiment 8\n",
      "Accept null hypothesis\n",
      "More peaks detected: 0.0\n",
      "=== Experiment 9\n",
      "Accept null hypothesis\n",
      "More peaks detected: 0.0\n",
      "========== Result\n",
      "Total points: 0\n",
      "More peaks detected: 0.0\n"
     ]
    }
   ],
   "source": [
    "total_points = 0\n",
    "more_peaks_detected = 0\n",
    "\n",
    "i = 0\n",
    "for null, alternative in zip(\n",
    "        null_hypothesis, alternative_hypothesis\n",
    "):\n",
    "    print('=== Experiment', i)\n",
    "    test_rmae = test_hypothesis(\n",
    "        null_mean=null[\"mean_rmae\"],\n",
    "        null_std=null[\"std_rmae\"],\n",
    "        alternative_mean=alternative[\"mean_rmae\"],\n",
    "        n=5,\n",
    "    )\n",
    "\n",
    "    total_points += test_rmae\n",
    "    more_peaks_detected += null['avg_missed_pos_peaks'] - alternative['avg_missed_pos_peaks']\n",
    "    print(f\"More peaks detected: {more_peaks_detected}\")\n",
    "    i += 1\n",
    "\n",
    "print('========== Result')\n",
    "print(f\"Total points: {total_points}\")\n",
    "print(f\"More peaks detected: {more_peaks_detected}\")\n"
   ],
   "metadata": {
    "collapsed": false,
    "ExecuteTime": {
     "end_time": "2024-03-14T11:21:10.131281304Z",
     "start_time": "2024-03-14T11:21:10.105097236Z"
    }
   },
   "id": "b77cb49ef45885b1",
   "execution_count": 10
  },
  {
   "cell_type": "code",
   "outputs": [],
   "source": [],
   "metadata": {
    "collapsed": false
   },
   "id": "5432c61c3244a927"
  }
 ],
 "metadata": {
  "kernelspec": {
   "display_name": "Python 3",
   "language": "python",
   "name": "python3"
  },
  "language_info": {
   "codemirror_mode": {
    "name": "ipython",
    "version": 2
   },
   "file_extension": ".py",
   "mimetype": "text/x-python",
   "name": "python",
   "nbconvert_exporter": "python",
   "pygments_lexer": "ipython2",
   "version": "2.7.6"
  }
 },
 "nbformat": 4,
 "nbformat_minor": 5
}
