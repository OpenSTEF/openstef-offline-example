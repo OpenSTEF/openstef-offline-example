{
 "cells": [
  {
   "cell_type": "markdown",
   "id": "86f4286a",
   "metadata": {
    "ExecuteTime": {
     "end_time": "2021-08-25T08:05:09.191375Z",
     "start_time": "2021-08-25T08:05:09.185368Z"
    }
   },
   "source": [
    "# Example to train a model\n",
    "Using the openstf tasks"
   ]
  },
  {
   "cell_type": "code",
   "execution_count": null,
   "id": "b58cb655",
   "metadata": {
    "ExecuteTime": {
     "end_time": "2022-02-09T16:32:13.735781Z",
     "start_time": "2022-02-09T16:32:07.431216Z"
    }
   },
   "outputs": [],
   "source": [
    "import pandas as pd\n",
    "import IPython\n",
    "from openstef.pipeline.train_model import train_model_pipeline\n",
    "from openstef.pipeline.create_forecast import create_forecast_pipeline\n",
    "from openstef.data_classes.prediction_job import PredictionJobDataClass"
   ]
  },
  {
   "cell_type": "code",
   "execution_count": null,
   "id": "6a062d66",
   "metadata": {
    "ExecuteTime": {
     "end_time": "2022-02-09T16:32:17.007177Z",
     "start_time": "2022-02-09T16:32:16.772982Z"
    }
   },
   "outputs": [],
   "source": [
    "# define properties of training/prediction. We call this a 'prediction_job'\n",
    "pj = dict(id=287,\n",
    "        model='xgb',\n",
    "        quantiles=[10,30,50,70,90],\n",
    "        forecast_type=\"demand\",\n",
    "        lat=52.0,\n",
    "        lon=5.0,\n",
    "        horizon_minutes=47*60,\n",
    "        resolution_minutes=15,\n",
    "        name=\"Example\",          \n",
    "        hyper_params={}, # Note, this should become optional\n",
    "        feature_names=None, # Note, this should become optional\n",
    "        default_modelspecs=None,\n",
    "       )\n",
    "pj=PredictionJobDataClass(**pj)\n",
    "\n",
    "# Load input data\n",
    "input_data = pd.read_csv('data/get_model_input_pid_287.csv', index_col='index', parse_dates=True)\n",
    "\n",
    "# Split in training and forecasting data\n",
    "train_data = input_data.iloc[:-200,:] # everything except last 200 rows (~ 48 hours)\n",
    "to_forecast_data = input_data.iloc[:-200,:] # last 200 rows\n"
   ]
  },
  {
   "cell_type": "code",
   "execution_count": null,
   "id": "7b44f2c5",
   "metadata": {
    "ExecuteTime": {
     "end_time": "2022-02-09T16:32:17.957518Z",
     "start_time": "2022-02-09T16:32:17.911765Z"
    }
   },
   "outputs": [],
   "source": [
    "train_data.head()"
   ]
  },
  {
   "cell_type": "code",
   "execution_count": null,
   "id": "09f197a0",
   "metadata": {
    "ExecuteTime": {
     "end_time": "2022-02-09T16:32:18.774539Z",
     "start_time": "2022-02-09T16:32:18.740534Z"
    }
   },
   "outputs": [],
   "source": [
    "to_forecast_data.head()"
   ]
  },
  {
   "cell_type": "markdown",
   "id": "e0d17724",
   "metadata": {},
   "source": [
    "# Train a model\n",
    "Train a model using the high-level pipeline. Store the model and reports on training proces in ./trained_models"
   ]
  },
  {
   "cell_type": "code",
   "execution_count": null,
   "id": "a40f7676",
   "metadata": {
    "ExecuteTime": {
     "end_time": "2022-02-09T16:32:45.902929Z",
     "start_time": "2022-02-09T16:32:30.668780Z"
    },
    "scrolled": false
   },
   "outputs": [],
   "source": [
    "train_model_pipeline(\n",
    "    pj,\n",
    "    train_data,\n",
    "    check_old_model_age=False,\n",
    "    mlflow_tracking_uri=\"./trained_models\",\n",
    "    artifact_folder=\"./trained_models\",\n",
    "    )"
   ]
  },
  {
   "cell_type": "markdown",
   "id": "7209dca5",
   "metadata": {},
   "source": [
    "You can find the trained model in ./trained_models, along with reports on the training process"
   ]
  },
  {
   "cell_type": "code",
   "execution_count": null,
   "id": "31d29013",
   "metadata": {
    "ExecuteTime": {
     "end_time": "2022-02-09T16:34:36.372856Z",
     "start_time": "2022-02-09T16:34:36.351854Z"
    }
   },
   "outputs": [],
   "source": [
    "## Inspect local files\n",
    "IPython.display.HTML(f\"<iframe src=./trained_models/{pj['id']}/Predictor0.25.html width=800 height=400></iframe>\"\n",
    "                     f\"<iframe src=./trained_models/{pj['id']}/Predictor47.0.html width=800 height=400></iframe>\"\n",
    "                     f\"<iframe src=./trained_models/{pj['id']}/weight_plot.html width=800 height=400></iframe>\")"
   ]
  }
 ],
 "metadata": {
  "kernelspec": {
   "display_name": "Python 3 (ipykernel)",
   "language": "python",
   "name": "python3"
  },
  "language_info": {
   "codemirror_mode": {
    "name": "ipython",
    "version": 3
   },
   "file_extension": ".py",
   "mimetype": "text/x-python",
   "name": "python",
   "nbconvert_exporter": "python",
   "pygments_lexer": "ipython3",
   "version": "3.9.7"
  },
  "toc": {
   "base_numbering": 1,
   "nav_menu": {},
   "number_sections": true,
   "sideBar": true,
   "skip_h1_title": false,
   "title_cell": "Table of Contents",
   "title_sidebar": "Contents",
   "toc_cell": false,
   "toc_position": {},
   "toc_section_display": true,
   "toc_window_display": false
  }
 },
 "nbformat": 4,
 "nbformat_minor": 5
}
