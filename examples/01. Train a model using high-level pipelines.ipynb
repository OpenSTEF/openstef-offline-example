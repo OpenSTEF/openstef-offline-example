{
 "cells": [
  {
   "cell_type": "markdown",
   "id": "86f4286a",
   "metadata": {
    "ExecuteTime": {
     "end_time": "2021-08-25T08:05:09.191375Z",
     "start_time": "2021-08-25T08:05:09.185368Z"
    }
   },
   "source": [
    "# Train a model\n",
    "In this example notebook, a model is trained for a location with id '287'. The data for this location can be found in the 'data' folder. \n",
    "First, the prediction job will be defined, which contains the properties of the training and prediction. For example the time horizon, machine learning model and location of the forecast are defined in the prediction job. \n",
    "Thereafter, the model can be trained using the input data and prediction job by the ```train_model_pipeline()```. "
   ]
  },
  {
   "cell_type": "code",
   "execution_count": null,
   "id": "b58cb655",
   "metadata": {
    "ExecuteTime": {
     "end_time": "2022-02-09T16:32:13.735781Z",
     "start_time": "2022-02-09T16:32:07.431216Z"
    }
   },
   "outputs": [],
   "source": [
    "import pandas as pd\n",
    "from IPython.display import IFrame\n",
    "from openstef.pipeline.train_model import train_model_pipeline\n",
    "from openstef.pipeline.create_forecast import create_forecast_pipeline\n",
    "from openstef.data_classes.prediction_job import PredictionJobDataClass"
   ]
  },
  {
   "cell_type": "markdown",
   "id": "3878fe89",
   "metadata": {},
   "source": [
    "## Prepare for training\n",
    "Before a model can be trained, the specifications and data need to be defined. The specification of the model are defined in the prediction job (pj), where for example the machine learning model, latitude, longtide and forecast horizon are specified. Furthermore, the data has to be retrieved from the csv file containing both load, weather and energy market data. "
   ]
  },
  {
   "cell_type": "code",
   "execution_count": null,
   "id": "6a062d66",
   "metadata": {
    "ExecuteTime": {
     "end_time": "2022-02-09T16:32:17.007177Z",
     "start_time": "2022-02-09T16:32:16.772982Z"
    }
   },
   "outputs": [],
   "source": [
    "# Define properties of training/prediction. We call this a 'prediction_job'\n",
    "pj = dict(id=287,\n",
    "        model='xgb', \n",
    "        quantiles=[10,30,50,70,90],\n",
    "        forecast_type=\"demand\",\n",
    "        lat=52.0,\n",
    "        lon=5.0,\n",
    "        horizon_minutes=47*60,\n",
    "        resolution_minutes=15,\n",
    "        name=\"Example\",          \n",
    "        hyper_params={}, \n",
    "        feature_names=None, \n",
    "        default_modelspecs=None,\n",
    "        save_train_forecasts=True,\n",
    "       )\n",
    "pj=PredictionJobDataClass(**pj)\n",
    "\n",
    "# Load input data\n",
    "input_data = pd.read_csv('data/get_model_input_pid_287.csv', index_col='index', parse_dates=True)\n",
    "\n",
    "# Split in training and forecasting data. Everything except the last 20 rows will be used for training\n",
    "train_data = input_data.iloc[:-200,:] # everything except last 200 rows (~ 48 hours)"
   ]
  },
  {
   "cell_type": "code",
   "execution_count": null,
   "id": "7b44f2c5",
   "metadata": {
    "ExecuteTime": {
     "end_time": "2022-02-09T16:32:17.957518Z",
     "start_time": "2022-02-09T16:32:17.911765Z"
    }
   },
   "outputs": [],
   "source": [
    "# Print the train data. \n",
    "# For every timestamp, bot the load as well as feature data is available. \n",
    "display(train_data.head())"
   ]
  },
  {
   "cell_type": "markdown",
   "id": "e0d17724",
   "metadata": {},
   "source": [
    "## Train a model\n",
    "Train the model by using the high-level pipeline ```train_model_pipeline```. Store the model and reports on training proces in ./mlflow_artifacts and ./mlflow_trained_models by setting artifact_folder and mlflow_tracking_uri to this respective path. "
   ]
  },
  {
   "cell_type": "code",
   "execution_count": null,
   "id": "a40f7676",
   "metadata": {
    "ExecuteTime": {
     "end_time": "2022-02-09T16:32:45.902929Z",
     "start_time": "2022-02-09T16:32:30.668780Z"
    },
    "scrolled": false
   },
   "outputs": [],
   "source": [
    "train, val, test=train_model_pipeline(\n",
    "    pj,\n",
    "    train_data,\n",
    "    check_old_model_age=False,\n",
    "    mlflow_tracking_uri=\"./mlflow_trained_models\",\n",
    "    artifact_folder=\"./mlflow_artifacts\",\n",
    "    )"
   ]
  },
  {
   "cell_type": "markdown",
   "id": "7209dca5",
   "metadata": {},
   "source": [
    "Now, you can find the trained model in ./mlflow_trained_models, along with reports on the training process. Below the Predictor0.25 and Predictor47.0 plots are shown, as well as the weight plot. The predictor plots show the prediction of the train, test and validation data. The weight plot shows the importance and weight of every feature."
   ]
  },
  {
   "cell_type": "code",
   "execution_count": null,
   "id": "31d29013",
   "metadata": {
    "ExecuteTime": {
     "end_time": "2022-02-09T16:34:36.372856Z",
     "start_time": "2022-02-09T16:34:36.351854Z"
    }
   },
   "outputs": [],
   "source": [
    "# Inspect local files\n",
    "display(IFrame('./mlflow_artifacts/{}/Predictor0.25.html'.format(pj['id']), width=900, height=400))\n",
    "display(IFrame('./mlflow_artifacts/{}/Predictor47.0.html'.format(pj['id']), width=800, height=400))\n",
    "display(IFrame('./mlflow_artifacts/{}/weight_plot.html'.format(pj['id']), width=800, height=400))\n",
    "\n",
    "\n",
    "## Visual Studio Code has difficulties with displaying htmls. If you are working with VSC and are not able to inspect the plots, uncomment the code below\n",
    "## to open the plots in your browser.\n",
    "# import webbrowser\n",
    "# webbrowser.open(r'.\\mlflow_artifacts\\{}\\Predictor0.25.html'.format(pj['id']))\n",
    "# webbrowser.open(r'.\\mlflow_artifacts\\{}\\Predictor47.0.html'.format(pj['id']))\n",
    "# webbrowser.open(r'.\\mlflow_artifacts\\{}\\weight_plot.html'.format(pj['id']))"
   ]
  }
 ],
 "metadata": {
  "kernelspec": {
   "display_name": "Python 3 (ipykernel)",
   "language": "python",
   "name": "python3"
  },
  "language_info": {
   "codemirror_mode": {
    "name": "ipython",
    "version": 3
   },
   "file_extension": ".py",
   "mimetype": "text/x-python",
   "name": "python",
   "nbconvert_exporter": "python",
   "pygments_lexer": "ipython3",
   "version": "3.10.13"
  },
  "toc": {
   "base_numbering": 1,
   "nav_menu": {},
   "number_sections": true,
   "sideBar": true,
   "skip_h1_title": false,
   "title_cell": "Table of Contents",
   "title_sidebar": "Contents",
   "toc_cell": false,
   "toc_position": {},
   "toc_section_display": true,
   "toc_window_display": false
  }
 },
 "nbformat": 4,
 "nbformat_minor": 5
}
