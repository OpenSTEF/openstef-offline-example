{
 "cells": [
  {
   "cell_type": "markdown",
   "id": "86f4286a",
   "metadata": {
    "ExecuteTime": {
     "end_time": "2021-08-25T08:05:09.191375Z",
     "start_time": "2021-08-25T08:05:09.185368Z"
    }
   },
   "source": [
    "# Train a model\n",
    "In this example notebook, a model is trained for a location with id '287'. The data for this location can be found in the 'data' folder. \n",
    "First, the prediction job will be defined, which contains the properties of the training and prediction. Thereafter, the model can be trained by the ```train_model_pipeline()```. "
   ]
  },
  {
   "cell_type": "code",
   "execution_count": null,
   "id": "b58cb655",
   "metadata": {
    "ExecuteTime": {
     "end_time": "2022-02-09T16:32:13.735781Z",
     "start_time": "2022-02-09T16:32:07.431216Z"
    }
   },
   "outputs": [],
   "source": [
    "import pandas as pd\n",
    "import IPython\n",
    "from openstef.pipeline.train_model import train_model_pipeline\n",
    "from openstef.pipeline.create_forecast import create_forecast_pipeline\n",
    "from openstef.data_classes.prediction_job import PredictionJobDataClass\n",
    "\n"
   ]
  },
  {
   "cell_type": "code",
   "execution_count": null,
   "id": "6a062d66",
   "metadata": {
    "ExecuteTime": {
     "end_time": "2022-02-09T16:32:17.007177Z",
     "start_time": "2022-02-09T16:32:16.772982Z"
    }
   },
   "outputs": [],
   "source": [
    "# Define properties of training/prediction. We call this a 'prediction_job'\n",
    "pj = dict(id=287,\n",
    "        model='xgb', \n",
    "        quantiles=[10,30,50,70,90],\n",
    "        forecast_type=\"demand\",\n",
    "        lat=52.0,\n",
    "        lon=5.0,\n",
    "        horizon_minutes=47*60,\n",
    "        resolution_minutes=15,\n",
    "        name=\"Example\",          \n",
    "        hyper_params={}, # Note, this should become optional\n",
    "        feature_names=None, # Note, this should become optional\n",
    "        default_modelspecs=None,\n",
    "       )\n",
    "pj=PredictionJobDataClass(**pj)\n",
    "\n",
    "# Load input data\n",
    "input_data = pd.read_csv('data/get_model_input_pid_287.csv', index_col='index', parse_dates=True)\n",
    "\n",
    "# Split in training and forecasting data\n",
    "train_data = input_data.iloc[:-200,:] # everything except last 200 rows (~ 48 hours)\n",
    "to_forecast_data = input_data.iloc[:-200,:] # last 200 rows\n"
   ]
  },
  {
   "cell_type": "code",
   "execution_count": null,
   "id": "7b44f2c5",
   "metadata": {
    "ExecuteTime": {
     "end_time": "2022-02-09T16:32:17.957518Z",
     "start_time": "2022-02-09T16:32:17.911765Z"
    }
   },
   "outputs": [],
   "source": [
    "# Print the train data. \n",
    "# For every timestamp, bot the load as well as feature data is available. \n",
    "train_data.head()"
   ]
  },
  {
   "cell_type": "code",
   "execution_count": null,
   "id": "09f197a0",
   "metadata": {
    "ExecuteTime": {
     "end_time": "2022-02-09T16:32:18.774539Z",
     "start_time": "2022-02-09T16:32:18.740534Z"
    }
   },
   "outputs": [],
   "source": [
    "to_forecast_data.head()"
   ]
  },
  {
   "cell_type": "markdown",
   "id": "e0d17724",
   "metadata": {},
   "source": [
    "# Train a model\n",
    "Train the model by using the high-level pipelin ```train_model_pipeline```. Store the model and reports on training proces in ./trained_models by setting mlflow_tracking_uri and artifact_folder to this path. "
   ]
  },
  {
   "cell_type": "code",
   "execution_count": null,
   "id": "a40f7676",
   "metadata": {
    "ExecuteTime": {
     "end_time": "2022-02-09T16:32:45.902929Z",
     "start_time": "2022-02-09T16:32:30.668780Z"
    },
    "scrolled": false
   },
   "outputs": [],
   "source": [
    "train_model_pipeline(\n",
    "    pj,\n",
    "    train_data,\n",
    "    check_old_model_age=False,\n",
    "    mlflow_tracking_uri=\"./mlflow_trained_models\",\n",
    "    artifact_folder=\"./mlflow_artifacts\",\n",
    "    )"
   ]
  },
  {
   "cell_type": "markdown",
   "id": "7209dca5",
   "metadata": {},
   "source": [
    "You can find the trained model in ./trained_models, along with reports on the training process. Below the Predictor0.25 and Predictor47.0 plots are shown, as well as the weight plot. The predictor plots show {nog invullen}.\n",
    "The weight plot shows the importance and weight of every feature."
   ]
  },
  {
   "cell_type": "code",
   "execution_count": null,
   "id": "31d29013",
   "metadata": {
    "ExecuteTime": {
     "end_time": "2022-02-09T16:34:36.372856Z",
     "start_time": "2022-02-09T16:34:36.351854Z"
    }
   },
   "outputs": [],
   "source": [
    "## Inspect local files\n",
    "IPython.display.HTML(f\"<iframe src=./trained_models/{pj['id']}/Predictor0.25.html width=800 height=400></iframe>\"\n",
    "                     f\"<iframe src=./trained_models/{pj['id']}/Predictor47.0.html width=800 height=400></iframe>\"\n",
    "                     f\"<iframe src=./trained_models/{pj['id']}/weight_plot.html width=800 height=400></iframe>\")"
   ]
  },
  {
   "cell_type": "code",
   "execution_count": null,
   "id": "990f046f",
   "metadata": {},
   "outputs": [],
   "source": [
    "html_file_path=\"examples\\\\mlflow_artifacts\\*\"\n",
    "with open(html_file_path, 'r') as f:\n",
    "    html_content = f.read()\n",
    "\n",
    "import plotly.io as pio\n",
    "\n",
    "# This ensures Plotly output works in multiple places:\n",
    "# plotly_mimetype: VS Code notebook UI\n",
    "# notebook: \"Jupyter: Export to HTML\" command in VS Code\n",
    "# See https://plotly.com/python/renderers/#multiple-renderers\n",
    "pio.renderers.default = \"plotly_mimetype+notebook\"\n",
    "\n",
    "fig= go.Figure(data=html_content)"
   ]
  }
 ],
 "metadata": {
  "kernelspec": {
   "display_name": "Python 3 (ipykernel)",
   "language": "python",
   "name": "python3"
  },
  "language_info": {
   "codemirror_mode": {
    "name": "ipython",
    "version": 3
   },
   "file_extension": ".py",
   "mimetype": "text/x-python",
   "name": "python",
   "nbconvert_exporter": "python",
   "pygments_lexer": "ipython3",
   "version": "3.10.13"
  },
  "toc": {
   "base_numbering": 1,
   "nav_menu": {},
   "number_sections": true,
   "sideBar": true,
   "skip_h1_title": false,
   "title_cell": "Table of Contents",
   "title_sidebar": "Contents",
   "toc_cell": false,
   "toc_position": {},
   "toc_section_display": true,
   "toc_window_display": false
  }
 },
 "nbformat": 4,
 "nbformat_minor": 5
}
