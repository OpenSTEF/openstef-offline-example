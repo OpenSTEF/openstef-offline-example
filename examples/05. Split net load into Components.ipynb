{
 "cells": [
  {
   "cell_type": "markdown",
   "id": "64765210",
   "metadata": {},
   "source": [
    "## Dazls model\n",
    "\n",
    "Energy splitting method in openSTEF\n",
    "\n",
    "It trains one splitting model which can be used for every prediction job. As input it uses data from multiple substations with known components and it outputs the prediction of solar and wind power for unkown target substations.\n",
    "\n",
    "The model contains 2-steps which are deployed in sequence:\n",
    "1. Domain model (any data-driven model can be used)\n",
    "2. Adaptation model (any data-driven model can be used)\n",
    "\n",
    "For reference, see: [dazls.rst](https://github.com/OpenSTEF/openstef/tree/main/docs/dazls.rst)"
   ]
  },
  {
   "cell_type": "markdown",
   "id": "69f0a54a",
   "metadata": {},
   "source": [
    "This notebook contains the code to train and save the model. The dazls_stored.sav file is being produced and is being used in openstef for the components forecast in the file: create_component_forecast, function: create_components_forecast_pipeline. Moreover, the notebook uses the model to generate a prediction for 1 out-of-sample csv file\n",
    "\n"
   ]
  },
  {
   "cell_type": "code",
   "execution_count": 1,
   "id": "8ed44aa2",
   "metadata": {},
   "outputs": [
    {
     "name": "stdout",
     "output_type": "stream",
     "text": [
      "Testing station: HAL\n"
     ]
    }
   ],
   "source": [
    "import pandas as pd\n",
    "import os\n",
    "import joblib\n",
    "import glob\n",
    "from openstef.model.regressors.dazls import Dazls\n",
    "\n",
    "\n",
    "path = \"C:\\\\Users\\\\AL25802\\\\new energy splitting\"\n",
    "folder = ['\\\\prep_data\\\\']\n",
    "combined_data = []\n",
    "station_name = []\n",
    "\n",
    "\n",
    "# Read prepared data\n",
    "for file_name in glob.glob(path + folder[0] + '*.csv'):\n",
    "    x = pd.read_csv(file_name, low_memory=False, parse_dates=[\"datetime\"])\n",
    "    x[\"datetime\"] = pd.to_datetime(x[\"datetime\"])\n",
    "    x = x.set_index('datetime')\n",
    "    x.columns=[x.lower() for x in x.columns]\n",
    "    combined_data.append(x)\n",
    "    sn = os.path.basename(file_name)\n",
    "    station_name.append(sn[:len(sn) - 4])\n",
    "\n",
    "\n",
    "# Split data in train and test (the first substation is being used for the testing)\n",
    "training_data = pd.concat(combined_data[1:])\n",
    "test_data = combined_data[0]\n",
    "target_columns =['total_solar_part', 'total_wind_part']\n",
    "feature_columns = [x for x in test_data.columns if x not in target_columns]\n",
    "print('Testing station:',station_name[0])"
   ]
  },
  {
   "cell_type": "code",
   "execution_count": 2,
   "id": "375a8b47",
   "metadata": {},
   "outputs": [],
   "source": [
    "# Initialize DAZLS model\n",
    "model = Dazls()\n",
    "# Fit model\n",
    "model.fit(training_data.loc[:,feature_columns], training_data.loc[:,target_columns])"
   ]
  },
  {
   "cell_type": "code",
   "execution_count": 3,
   "id": "66e7dcdc",
   "metadata": {},
   "outputs": [
    {
     "data": {
      "text/plain": [
       "(1.5145981403632442, -0.3705595044428144)"
      ]
     },
     "execution_count": 3,
     "metadata": {},
     "output_type": "execute_result"
    }
   ],
   "source": [
    "# get predicted y\n",
    "y = model.predict(test_data.loc[:,feature_columns])\n",
    "# print prediction performance\n",
    "model.score(test_data.loc[:,target_columns], y)"
   ]
  },
  {
   "cell_type": "code",
   "execution_count": 4,
   "id": "d53da56c",
   "metadata": {},
   "outputs": [
    {
     "data": {
      "text/html": [
       "<div>\n",
       "<style scoped>\n",
       "    .dataframe tbody tr th:only-of-type {\n",
       "        vertical-align: middle;\n",
       "    }\n",
       "\n",
       "    .dataframe tbody tr th {\n",
       "        vertical-align: top;\n",
       "    }\n",
       "\n",
       "    .dataframe thead th {\n",
       "        text-align: right;\n",
       "    }\n",
       "</style>\n",
       "<table border=\"1\" class=\"dataframe\">\n",
       "  <thead>\n",
       "    <tr style=\"text-align: right;\">\n",
       "      <th></th>\n",
       "      <th>total_solar_part</th>\n",
       "      <th>total_wind_part</th>\n",
       "      <th>wind_split</th>\n",
       "      <th>solar_split</th>\n",
       "    </tr>\n",
       "    <tr>\n",
       "      <th>datetime</th>\n",
       "      <th></th>\n",
       "      <th></th>\n",
       "      <th></th>\n",
       "      <th></th>\n",
       "    </tr>\n",
       "  </thead>\n",
       "  <tbody>\n",
       "    <tr>\n",
       "      <th>2021-07-31 15:15:00+00:00</th>\n",
       "      <td>0</td>\n",
       "      <td>-2.09</td>\n",
       "      <td>-2.7220</td>\n",
       "      <td>1.829648e-14</td>\n",
       "    </tr>\n",
       "    <tr>\n",
       "      <th>2021-07-31 15:30:00+00:00</th>\n",
       "      <td>0</td>\n",
       "      <td>-1.63</td>\n",
       "      <td>-2.9870</td>\n",
       "      <td>1.829648e-14</td>\n",
       "    </tr>\n",
       "    <tr>\n",
       "      <th>2021-07-31 15:45:00+00:00</th>\n",
       "      <td>0</td>\n",
       "      <td>-1.54</td>\n",
       "      <td>-2.9660</td>\n",
       "      <td>1.829648e-14</td>\n",
       "    </tr>\n",
       "    <tr>\n",
       "      <th>2021-07-31 16:00:00+00:00</th>\n",
       "      <td>0</td>\n",
       "      <td>-1.47</td>\n",
       "      <td>-2.7985</td>\n",
       "      <td>1.829648e-14</td>\n",
       "    </tr>\n",
       "    <tr>\n",
       "      <th>2021-07-31 16:15:00+00:00</th>\n",
       "      <td>0</td>\n",
       "      <td>-1.43</td>\n",
       "      <td>-2.0330</td>\n",
       "      <td>1.829648e-14</td>\n",
       "    </tr>\n",
       "    <tr>\n",
       "      <th>...</th>\n",
       "      <td>...</td>\n",
       "      <td>...</td>\n",
       "      <td>...</td>\n",
       "      <td>...</td>\n",
       "    </tr>\n",
       "    <tr>\n",
       "      <th>2021-10-30 23:00:00+00:00</th>\n",
       "      <td>0</td>\n",
       "      <td>-0.43</td>\n",
       "      <td>-1.1175</td>\n",
       "      <td>1.829648e-14</td>\n",
       "    </tr>\n",
       "    <tr>\n",
       "      <th>2021-10-30 23:15:00+00:00</th>\n",
       "      <td>0</td>\n",
       "      <td>-0.40</td>\n",
       "      <td>-1.1945</td>\n",
       "      <td>1.829648e-14</td>\n",
       "    </tr>\n",
       "    <tr>\n",
       "      <th>2021-10-30 23:30:00+00:00</th>\n",
       "      <td>0</td>\n",
       "      <td>-0.44</td>\n",
       "      <td>-1.3020</td>\n",
       "      <td>1.829648e-14</td>\n",
       "    </tr>\n",
       "    <tr>\n",
       "      <th>2021-10-30 23:45:00+00:00</th>\n",
       "      <td>0</td>\n",
       "      <td>-0.42</td>\n",
       "      <td>-1.2155</td>\n",
       "      <td>1.829648e-14</td>\n",
       "    </tr>\n",
       "    <tr>\n",
       "      <th>2021-10-31 00:00:00+00:00</th>\n",
       "      <td>0</td>\n",
       "      <td>-0.49</td>\n",
       "      <td>-1.0230</td>\n",
       "      <td>1.829648e-14</td>\n",
       "    </tr>\n",
       "  </tbody>\n",
       "</table>\n",
       "<p>8772 rows × 4 columns</p>\n",
       "</div>"
      ],
      "text/plain": [
       "                           total_solar_part  total_wind_part  wind_split  \\\n",
       "datetime                                                                   \n",
       "2021-07-31 15:15:00+00:00                 0            -2.09     -2.7220   \n",
       "2021-07-31 15:30:00+00:00                 0            -1.63     -2.9870   \n",
       "2021-07-31 15:45:00+00:00                 0            -1.54     -2.9660   \n",
       "2021-07-31 16:00:00+00:00                 0            -1.47     -2.7985   \n",
       "2021-07-31 16:15:00+00:00                 0            -1.43     -2.0330   \n",
       "...                                     ...              ...         ...   \n",
       "2021-10-30 23:00:00+00:00                 0            -0.43     -1.1175   \n",
       "2021-10-30 23:15:00+00:00                 0            -0.40     -1.1945   \n",
       "2021-10-30 23:30:00+00:00                 0            -0.44     -1.3020   \n",
       "2021-10-30 23:45:00+00:00                 0            -0.42     -1.2155   \n",
       "2021-10-31 00:00:00+00:00                 0            -0.49     -1.0230   \n",
       "\n",
       "                            solar_split  \n",
       "datetime                                 \n",
       "2021-07-31 15:15:00+00:00  1.829648e-14  \n",
       "2021-07-31 15:30:00+00:00  1.829648e-14  \n",
       "2021-07-31 15:45:00+00:00  1.829648e-14  \n",
       "2021-07-31 16:00:00+00:00  1.829648e-14  \n",
       "2021-07-31 16:15:00+00:00  1.829648e-14  \n",
       "...                                 ...  \n",
       "2021-10-30 23:00:00+00:00  1.829648e-14  \n",
       "2021-10-30 23:15:00+00:00  1.829648e-14  \n",
       "2021-10-30 23:30:00+00:00  1.829648e-14  \n",
       "2021-10-30 23:45:00+00:00  1.829648e-14  \n",
       "2021-10-31 00:00:00+00:00  1.829648e-14  \n",
       "\n",
       "[8772 rows x 4 columns]"
      ]
     },
     "execution_count": 4,
     "metadata": {},
     "output_type": "execute_result"
    }
   ],
   "source": [
    "result = test_data.loc[:,target_columns].copy()\n",
    "result['wind_split'] = y[:,0]\n",
    "result['solar_split'] = y[:,1]\n",
    "result.iloc[60:]"
   ]
  },
  {
   "cell_type": "code",
   "execution_count": 5,
   "id": "4ac275ad",
   "metadata": {},
   "outputs": [
    {
     "data": {
      "text/plain": [
       "['dazls_stored.sav']"
      ]
     },
     "execution_count": 5,
     "metadata": {},
     "output_type": "execute_result"
    }
   ],
   "source": [
    "# Load and store the model\n",
    "filename = 'dazls_stored.sav'\n",
    "joblib.dump(model, filename)"
   ]
  },
  {
   "cell_type": "code",
   "execution_count": null,
   "id": "401ed0fb",
   "metadata": {},
   "outputs": [],
   "source": []
  }
 ],
 "metadata": {
  "kernelspec": {
   "display_name": "Python 3 (ipykernel)",
   "language": "python",
   "name": "python3"
  },
  "language_info": {
   "codemirror_mode": {
    "name": "ipython",
    "version": 3
   },
   "file_extension": ".py",
   "mimetype": "text/x-python",
   "name": "python",
   "nbconvert_exporter": "python",
   "pygments_lexer": "ipython3",
   "version": "3.10.4"
  }
 },
 "nbformat": 4,
 "nbformat_minor": 5
}
