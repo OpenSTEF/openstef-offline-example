{
 "cells": [
  {
   "cell_type": "markdown",
   "metadata": {},
   "source": [
    "\n",
    "# Obtaining derived features from the input data\n",
    "\n"
   ]
  },
  {
   "cell_type": "markdown",
   "metadata": {},
   "source": [
    "In this notebook, the derived features will be obtained from the input data. Subsequently, the dataframe of the derived features is exported to a csv file."
   ]
  },
  {
   "cell_type": "code",
   "execution_count": 13,
   "metadata": {},
   "outputs": [],
   "source": [
    "import pandas as pd \n",
    "\n",
    "from openstef.data_classes.prediction_job import PredictionJobDataClass\n",
    "from openstef.feature_engineering.historic_features import (\n",
    "    add_historic_load_as_a_feature,\n",
    ")\n",
    "from openstef.feature_engineering.holiday_features import (\n",
    "    generate_holiday_feature_functions,\n",
    ")\n",
    "from openstef.feature_engineering.lag_features import generate_lag_feature_functions\n",
    "from openstef.feature_engineering.weather_features import (\n",
    "    add_additional_solar_features,\n",
    "    add_additional_wind_features,\n",
    "    add_humidity_features,\n",
    ")\n",
    "\n",
    "from openstef.data_classes.model_specifications import ModelSpecificationDataClass\n",
    "from openstef.feature_engineering.apply_features import apply_features\n"
   ]
  },
  {
   "cell_type": "code",
   "execution_count": 14,
   "metadata": {},
   "outputs": [],
   "source": [
    "# load input data - containing load data and external predictors\n",
    "input_data = pd.read_csv('data/get_model_input_pid_438.csv', index_col='index', parse_dates=True)\n",
    "\n",
    "# define the predication job \n",
    "pj=PredictionJobDataClass(id=438,\n",
    "        model='xgb',\n",
    "        quantiles=[0.10,0.30,0.50,0.70,0.90],\n",
    "        horizon_minutes=48*60,\n",
    "        resolution_minutes=15,\n",
    "        lat = 1, #should become optional\n",
    "        lon = 1, #should become optional\n",
    "        train_components=False,\n",
    "        name='TestPrediction',\n",
    "        model_type_group=None, # Note, this should become optional\n",
    "        hyper_params={}, # Note, this should become optional\n",
    "        feature_names=None, # Note, this should become optional\n",
    "        forecast_type=\"demand\", # Note, this should become optional\n",
    "                  )\n",
    "\n",
    "modelspecs = ModelSpecificationDataClass(id=pj['id'])\n"
   ]
  },
  {
   "cell_type": "code",
   "execution_count": 15,
   "metadata": {},
   "outputs": [],
   "source": [
    "# obtain derived features \n",
    "\n",
    "derived_features=apply_features(\n",
    "    input_data,\n",
    "    pj,\n",
    ")"
   ]
  },
  {
   "cell_type": "code",
   "execution_count": 16,
   "metadata": {},
   "outputs": [],
   "source": [
    "# store derived features in csv file\n",
    "\n",
    "file_path=r'C:\\repos\\openstef-offline-example\\examples\\derived_feature_data\\derived_features_pid_%d' %pj['id']\n",
    "derived_features.to_csv(file_path)"
   ]
  }
 ],
 "metadata": {
  "kernelspec": {
   "display_name": "openstef-offline-example",
   "language": "python",
   "name": "python3"
  },
  "language_info": {
   "codemirror_mode": {
    "name": "ipython",
    "version": 3
   },
   "file_extension": ".py",
   "mimetype": "text/x-python",
   "name": "python",
   "nbconvert_exporter": "python",
   "pygments_lexer": "ipython3",
   "version": "3.10.13"
  }
 },
 "nbformat": 4,
 "nbformat_minor": 2
}
