{
 "cells": [
  {
   "cell_type": "code",
   "execution_count": null,
   "id": "initial_id",
   "metadata": {
    "collapsed": true
   },
   "outputs": [],
   "source": [
    "import pandas as pd\n",
    "\n",
    "# Set plotly as the default pandas plotting backend\n",
    "pd.options.plotting.backend = \"plotly\"\n",
    "import plotly.io as pio\n",
    "\n",
    "pio.renderers.default = \"plotly_mimetype+notebook\""
   ]
  },
  {
   "cell_type": "code",
   "execution_count": null,
   "id": "9ceb2fee4eabd231",
   "metadata": {},
   "outputs": [],
   "source": [
    "# Load experiment\n",
    "def get_experiments(difficult_location_number: int = 1, n_days: int = 10):\n",
    "    \"\"\"\n",
    "    Returns a list of dicts, with each dict being an experiment with:\n",
    "    - name\n",
    "    - dataset\n",
    "    - test_length # length counted from the end of the data that will be considered the Test period\n",
    "    -\"\"\"\n",
    "    complete_data = pd.read_csv(\n",
    "        f\"data/model_input_difficult_location_{difficult_location_number}.csv\",\n",
    "        parse_dates=True,\n",
    "        index_col=0,\n",
    "    )[:-3]\n",
    "\n",
    "    def create_dataset(i: int):\n",
    "        dataset = complete_data.iloc[0 * 24 * 4: (120 + i) * 24 * 4 + 24 * 4]\n",
    "        dataset = dataset[~dataset[\"load\"].isna()]\n",
    "        return dataset\n",
    "\n",
    "    # Generate the experiments where we forecast for 1 day each time\n",
    "    # Dataset contains both the 120 days of training data + the 1 day of test data\n",
    "    result = [\n",
    "        dict(  # Predict day 1\n",
    "            name=f\"N{i + 1}_loc{difficult_location_number}\",\n",
    "            dataset=create_dataset(i),\n",
    "            test_length=24 * 4 if i != n_days - 1 else 24 * 4 - 3,\n",
    "        )\n",
    "        for i in range(n_days)\n",
    "    ]\n",
    "    return result\n"
   ]
  },
  {
   "cell_type": "code",
   "execution_count": null,
   "id": "9e94b576319ec9c4",
   "metadata": {},
   "outputs": [],
   "source": [
    "experiments = get_experiments(1)\n",
    "\n",
    "experiment = experiments[0]"
   ]
  },
  {
   "cell_type": "code",
   "outputs": [],
   "source": [
    "import openstef.feature_engineering.apply_features\n",
    "\n",
    "# df_dataset = experiment[\"dataset\"].copy()\n",
    "df_dataset = openstef.feature_engineering.apply_features.apply_features(\n",
    "    experiment[\"dataset\"].copy()\n",
    ")\n",
    "\n",
    "df_dataset = df_dataset.dropna()\n",
    "df_dataset = df_dataset * 1.0\n",
    "df_dataset = df_dataset.resample(\"15min\").fillna(\"backfill\")\n",
    "df_dataset"
   ],
   "metadata": {
    "collapsed": false
   },
   "id": "a664d31927584610",
   "execution_count": null
  },
  {
   "cell_type": "code",
   "execution_count": null,
   "id": "78db7b14312b6936",
   "metadata": {},
   "outputs": [],
   "source": [
    "# Prepare data\n",
    "df_train = df_dataset.iloc[: -experiment[\"test_length\"]]\n",
    "df_test = df_dataset.iloc[-experiment[\"test_length\"]:]"
   ]
  },
  {
   "cell_type": "code",
   "execution_count": null,
   "id": "bd2d4b73bdca6882",
   "metadata": {},
   "outputs": [],
   "source": [
    "import scipy.fft as sf\n",
    "\n",
    "load = df_train['load'].values\n",
    "N = load.shape[0]\n",
    "X = sf.rfft(load) / N\n",
    "freqs = sf.rfftfreq(n=N, d=1/12)"
   ]
  },
  {
   "cell_type": "code",
   "execution_count": null,
   "id": "c4cba140e1f2c1af",
   "metadata": {},
   "outputs": [],
   "source": [
    "import numpy as np\n",
    "import matplotlib.pyplot as plt\n",
    "\n",
    "\n",
    "# Define parameters\n",
    "measurement_interval_minutes = 15\n",
    "# window_size_days = 7\n",
    "window_size_days = 7\n",
    "\n",
    "# Calculate window size\n",
    "window_size_minutes = window_size_days * 24 * 60\n",
    "window_size_samples = int(window_size_minutes / measurement_interval_minutes)\n",
    "N = window_size_samples\n",
    "\n",
    "W_start = 0\n",
    "W_end = W_start + N\n",
    "\n",
    "# Generate frequency list using rfftfreq\n",
    "freqs = np.fft.rfftfreq(N, d=1.0)\n",
    "\n",
    "# Print the frequency list\n",
    "print(\"Frequency List:\")\n",
    "print(f'Shape: {freqs.shape}')"
   ]
  },
  {
   "cell_type": "code",
   "execution_count": null,
   "id": "bf54621337b994de",
   "metadata": {},
   "outputs": [],
   "source": [
    "X = sf.rfft(load[W_start:W_end]) / N\n",
    "print(f'Shape: {X.shape}')"
   ]
  },
  {
   "cell_type": "code",
   "execution_count": null,
   "id": "275c24e40ed42f1b",
   "metadata": {},
   "outputs": [],
   "source": [
    "# Plot DFT\n",
    "ax = plt.stem(freqs[:100], abs(X[:100]))"
   ]
  },
  {
   "cell_type": "code",
   "execution_count": null,
   "id": "314f5e9b69562fb7",
   "metadata": {},
   "outputs": [],
   "source": [
    "plt.plot(sf.irfft(X))"
   ]
  },
  {
   "cell_type": "code",
   "execution_count": null,
   "id": "a83d40a53900bf8a",
   "metadata": {},
   "outputs": [],
   "source": [
    "X_new = np.copy(X)\n",
    "X_new[abs(X) < 0.4*1e6] = 0\n",
    "\n",
    "plt.stem(freqs[:100], abs(X_new[:100]))\n",
    "plt.show()\n",
    "Y = sf.irfft(X_new, n=N)\n",
    "Y = (Y / abs(Y).max()) * load[W_start:W_end].max()\n",
    "\n",
    "plt.plot(Y)\n",
    "plt.plot(load[W_start:W_end])\n",
    "plt.show()"
   ]
  },
  {
   "cell_type": "code",
   "execution_count": null,
   "id": "7ac84d98999bed09",
   "metadata": {},
   "outputs": [],
   "source": [
    "def fourierExtrapolation(X, n, n_predict):\n",
    "    f = np.fft.rfftfreq(n, d=1.0)              # frequencies\n",
    " \n",
    "    t = np.arange(0, n + n_predict)\n",
    "    restored_sig = np.zeros(t.size)\n",
    "    for i in range(len(X)):\n",
    "        ampli = np.absolute(X[i]) / n   # amplitude\n",
    "        phase = np.angle(X[i])          # phase\n",
    "        restored_sig += ampli * np.cos(2 * np.pi * f[i] * t + phase)\n",
    "    return restored_sig"
   ]
  },
  {
   "cell_type": "code",
   "execution_count": null,
   "id": "8b327b22a7659532",
   "metadata": {},
   "outputs": [],
   "source": [
    "forecast_N = 192 # 2 days\n",
    "preview_N = 672 # 7 days\n",
    "\n",
    "Y = fourierExtrapolation(X_new, N, forecast_N)\n",
    "Y = (Y / abs(Y).max()) * load[W_start:W_end].max()\n",
    "\n",
    "plt.plot(Y[-(preview_N + forecast_N):])\n",
    "plt.plot(load[W_end - preview_N:W_end + forecast_N])\n",
    "# Add a vertical line\n",
    "plt.axvline(x=preview_N, color='r', linestyle='--')\n",
    "\n",
    "plt.show()"
   ]
  },
  {
   "cell_type": "code",
   "execution_count": null,
   "id": "d3c1421205ef32fd",
   "metadata": {},
   "outputs": [],
   "source": [
    "N"
   ]
  },
  {
   "cell_type": "code",
   "execution_count": null,
   "id": "a6d6d45adace678b",
   "metadata": {},
   "outputs": [],
   "source": [
    "from typing import List\n",
    "import scipy.fft as sf\n",
    "import numpy as np\n",
    "\n",
    "def fourier_forecast(\n",
    "        signal: np.ndarray,\n",
    "        top_K: int = 5,\n",
    "        forecast_N: int = 192,\n",
    "):\n",
    "    N = signal.shape[0]\n",
    "    X = sf.rfft(signal) / N\n",
    "    X_thresholded = np.copy(X)\n",
    "    top_indices = np.argsort(abs(X_thresholded))[::-1][top_K:]\n",
    "    X_thresholded[top_indices] = 0\n",
    "    \n",
    "    # Generate restored signal\n",
    "    frequencies = np.fft.rfftfreq(N, d=1.0)\n",
    "    t = np.arange(0, N + forecast_N)\n",
    "    signal_restored = np.zeros(t.size)\n",
    "    for i in range(len(X_thresholded)):\n",
    "        amplitude = np.absolute(X_thresholded[i]) / N\n",
    "        phase = np.angle(X_thresholded[i])\n",
    "        signal_restored += amplitude * np.cos(2 * np.pi * frequencies[i] * t + phase)\n",
    "    \n",
    "    # Normalize the signal\n",
    "    signal_restored = (signal_restored / abs(signal_restored).max()) * signal.max()\n",
    "    \n",
    "    return signal_restored\n",
    "\n",
    "# The following function adds a fourier forecast feature to the dataset\n",
    "# It takes an arbitrary long signal, a window size and forecast horizons\n",
    "# For each point in the signal, it calculates the fourier forecast using the previous window\n",
    "\n",
    "def fourier_forecast_feature(\n",
    "        signal: np.ndarray,\n",
    "        window_size: int,\n",
    "        horizons: List[int],\n",
    "        top_K: int = 5,\n",
    "):\n",
    "    N = signal.shape[0]\n",
    "    forecast_features = np.zeros((N, len(horizons)))\n",
    "    forecast_features[:, :] = np.nan\n",
    "    \n",
    "    for i in range(N):\n",
    "        if i < window_size:\n",
    "            continue\n",
    "            \n",
    "        signal_window = signal[i - window_size+1:i+1] # +1 to include the current point\n",
    "        forecast = fourier_forecast(signal_window, top_K=top_K, forecast_N=max(horizons) + 1)[window_size:]\n",
    "        \n",
    "        for j, horizon in enumerate(horizons):\n",
    "            forecast_features[i, j] = forecast[horizon]\n",
    "            \n",
    "    return forecast_features\n"
   ]
  },
  {
   "cell_type": "code",
   "execution_count": null,
   "id": "3281d8ece91782b2",
   "metadata": {},
   "outputs": [],
   "source": [
    "# Define parameters\n",
    "measurement_interval_minutes = 15\n",
    "# window_size_days = 7\n",
    "window_size_days = 7\n",
    "\n",
    "# Calculate window size\n",
    "window_size_minutes = window_size_days * 24 * 60\n",
    "window_size_samples = int(window_size_minutes / measurement_interval_minutes)\n",
    "N = window_size_samples\n",
    "\n",
    "forecast_N = 192 # 2 days\n",
    "\n",
    "signal = load[0:N]\n",
    "Y = fourier_forecast(signal, top_K=5, forecast_N=forecast_N)\n",
    "\n",
    "plt.plot(Y[-(forecast_N + N):])\n",
    "plt.plot(load[0:N + forecast_N])\n",
    "# Add a vertical line\n",
    "plt.axvline(x=N, color='r', linestyle='--')\n",
    "\n",
    "plt.show()"
   ]
  },
  {
   "cell_type": "code",
   "execution_count": null,
   "id": "a1a699a14b661d49",
   "metadata": {},
   "outputs": [],
   "source": [
    "features = fourier_forecast_feature(\n",
    "    load[:2000],\n",
    "    window_size=window_size_samples,\n",
    "    horizons=[0, 96, 192],\n",
    "    top_K=10,\n",
    ")"
   ]
  },
  {
   "cell_type": "code",
   "execution_count": null,
   "id": "5dbd14161da3806",
   "metadata": {},
   "outputs": [],
   "source": [
    "plt.plot(load[window_size_samples:2000])\n",
    "plt.plot(features[window_size_samples:, 0]) # 15 min ahead\n",
    "plt.plot(features[window_size_samples:, 1])\n",
    "plt.plot(features[window_size_samples:, 2]) # 2 days ahead"
   ]
  },
  {
   "cell_type": "code",
   "execution_count": null,
   "id": "682f5ad23a012fde",
   "metadata": {},
   "outputs": [],
   "source": []
  }
 ],
 "metadata": {
  "kernelspec": {
   "display_name": "Python 3 (ipykernel)",
   "language": "python",
   "name": "python3"
  },
  "language_info": {
   "codemirror_mode": {
    "name": "ipython",
    "version": 3
   },
   "file_extension": ".py",
   "mimetype": "text/x-python",
   "name": "python",
   "nbconvert_exporter": "python",
   "pygments_lexer": "ipython3",
   "version": "3.11.8"
  }
 },
 "nbformat": 4,
 "nbformat_minor": 5
}
