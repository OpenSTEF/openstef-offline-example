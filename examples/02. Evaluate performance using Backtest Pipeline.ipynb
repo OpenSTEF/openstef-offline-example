{
 "cells": [
  {
   "cell_type": "markdown",
   "id": "a21f1771",
   "metadata": {
    "ExecuteTime": {
     "end_time": "2021-08-25T09:02:32.966305Z",
     "start_time": "2021-08-25T09:02:32.962311Z"
    }
   },
   "source": [
    "# Evaluate Performance of model using Backtest Pipeline"
   ]
  },
  {
   "cell_type": "code",
   "execution_count": null,
   "id": "066796c6",
   "metadata": {
    "ExecuteTime": {
     "end_time": "2022-02-09T16:41:59.248166Z",
     "start_time": "2022-02-09T16:41:59.231129Z"
    }
   },
   "outputs": [],
   "source": [
    "import pandas as pd\n",
    "from openstef.pipeline.train_create_forecast_backtest import train_model_and_forecast_back_test\n",
    "from openstef.metrics.figure import plot_feature_importance\n",
    "from openstef.data_classes.model_specifications import ModelSpecificationDataClass\n",
    "from openstef.data_classes.prediction_job import PredictionJobDataClass # TODO, import from openstef when availavle\n",
    "\n",
    "# Set plotly as the default pandas plotting backend\n",
    "pd.options.plotting.backend = 'plotly'\n",
    "import plotly.io as pio\n",
    "pio.renderers.default = \"plotly_mimetype+notebook\""
   ]
  },
  {
   "cell_type": "code",
   "execution_count": null,
   "id": "86ba5377",
   "metadata": {
    "ExecuteTime": {
     "end_time": "2022-02-09T16:43:47.845079Z",
     "start_time": "2022-02-09T16:43:47.631699Z"
    }
   },
   "outputs": [],
   "source": [
    "# define properties of training/prediction. We call this a 'prediction_job' \n",
    "pj=PredictionJobDataClass(id=287,\n",
    "        model='xgb',\n",
    "        quantiles=[0.10,0.30,0.50,0.70,0.90],\n",
    "        horizon_minutes=48*60,\n",
    "        resolution_minutes=15,\n",
    "        lat = 1, #should become optional\n",
    "        lon = 1, #should become optional\n",
    "        train_components=False,\n",
    "        name='TestPrediction',\n",
    "        model_type_group=None, # Note, this should become optional\n",
    "        hyper_params={}, # Note, this should become optional\n",
    "        feature_names=None, # Note, this should become optional\n",
    "        forecast_type=\"demand\", # Note, this should become optional\n",
    "                  )\n",
    "\n",
    "modelspecs = ModelSpecificationDataClass(id=pj['id'])\n",
    "\n",
    "# Load input data\n",
    "input_data = pd.read_csv('data/get_model_input_pid_287.csv', index_col='index', parse_dates=True)\n"
   ]
  },
  {
   "cell_type": "code",
   "execution_count": null,
   "id": "3695e036",
   "metadata": {
    "ExecuteTime": {
     "end_time": "2022-02-09T16:48:17.967356Z",
     "start_time": "2022-02-09T16:48:03.036309Z"
    }
   },
   "outputs": [],
   "source": [
    "# Perform the backtest\n",
    "n_folds = 2\n",
    "forecast, model, train_data, validation_data, test_data = train_model_and_forecast_back_test(\n",
    "    pj,\n",
    "    modelspecs = modelspecs,\n",
    "    input_data = input_data,\n",
    "    training_horizons=[0.25, 47.0],\n",
    "    n_folds=n_folds,\n",
    " )\n",
    "# If n_folds>1, model is a list of models. In that case, only use the first model\n",
    "if n_folds>1:\n",
    "    model=model[0]"
   ]
  },
  {
   "cell_type": "markdown",
   "id": "7080d8aa",
   "metadata": {
    "ExecuteTime": {
     "end_time": "2021-08-25T09:12:20.812338Z",
     "start_time": "2021-08-25T09:12:20.808341Z"
    }
   },
   "source": [
    "# Evaluate results"
   ]
  },
  {
   "cell_type": "code",
   "execution_count": null,
   "id": "4b0c71ae",
   "metadata": {
    "ExecuteTime": {
     "end_time": "2022-02-09T16:48:22.244769Z",
     "start_time": "2022-02-09T16:48:20.133250Z"
    }
   },
   "outputs": [],
   "source": [
    "for horizon in set(forecast.horizon):\n",
    "    fig = forecast.loc[forecast.horizon==0.25,['quantile_P10','quantile_P30',\n",
    "                    'quantile_P50','quantile_P70','quantile_P90','realised','forecast']].plot(asFigure=True,\n",
    "                                                                                   title=f\"Horizon: {horizon}\")\n",
    "    fig.update_traces(\n",
    "         line=dict(color=\"green\", width=1), fill='tonexty', fillcolor='rgba(0, 255, 0, 0.1)',\n",
    "         selector=lambda x: 'quantile' in x.name and x.name != 'quantile_P10')\n",
    "    fig.update_traces(\n",
    "         line=dict(color=\"green\", width=1),\n",
    "         selector=lambda x: 'quantile_P10' == x.name)\n",
    "    fig.update_traces(\n",
    "         line=dict(color=\"red\", width=2),\n",
    "         selector=lambda x: 'realised' in x.name)\n",
    "    fig.update_traces(\n",
    "         line=dict(color=\"blue\", width=2),\n",
    "         selector=lambda x: 'forecast' in x.name)\n",
    "    fig.show()"
   ]
  },
  {
   "cell_type": "code",
   "execution_count": null,
   "id": "54426833",
   "metadata": {
    "ExecuteTime": {
     "end_time": "2022-02-09T16:48:22.333170Z",
     "start_time": "2022-02-09T16:48:22.246296Z"
    },
    "scrolled": false
   },
   "outputs": [],
   "source": [
    "forecast['err']=forecast['realised']-forecast['forecast']\n",
    "mea = forecast.pivot_table(index='horizon', values=['err'], aggfunc=lambda x: x.abs().mean())\n",
    "mea.index=mea.index.astype(str)\n",
    "mea.plot(kind='bar',\n",
    "          layout=dict(title='MAE',\n",
    "                      xaxis=dict(title='horizon'),\n",
    "                      yaxis=dict(title='MAE [MW]')))"
   ]
  },
  {
   "cell_type": "code",
   "execution_count": null,
   "id": "e6cb2814",
   "metadata": {
    "ExecuteTime": {
     "end_time": "2022-02-09T16:48:31.314864Z",
     "start_time": "2022-02-09T16:48:31.281873Z"
    }
   },
   "outputs": [],
   "source": [
    "plot_feature_importance(model.feature_importance_dataframe)"
   ]
  }
 ],
 "metadata": {
  "kernelspec": {
   "display_name": "Python 3 (ipykernel)",
   "language": "python",
   "name": "python3"
  },
  "language_info": {
   "codemirror_mode": {
    "name": "ipython",
    "version": 3
   },
   "file_extension": ".py",
   "mimetype": "text/x-python",
   "name": "python",
   "nbconvert_exporter": "python",
   "pygments_lexer": "ipython3",
   "version": "3.9.7"
  },
  "toc": {
   "base_numbering": 1,
   "nav_menu": {},
   "number_sections": true,
   "sideBar": true,
   "skip_h1_title": false,
   "title_cell": "Table of Contents",
   "title_sidebar": "Contents",
   "toc_cell": false,
   "toc_position": {},
   "toc_section_display": true,
   "toc_window_display": false
  }
 },
 "nbformat": 4,
 "nbformat_minor": 5
}
