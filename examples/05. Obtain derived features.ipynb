{
 "cells": [
  {
   "cell_type": "markdown",
   "metadata": {},
   "source": [
    "\n",
    "# Obtaining derived features from the input data\n",
    "\n"
   ]
  },
  {
   "cell_type": "markdown",
   "metadata": {},
   "source": [
    "In this notebook, the derived features will be obtained from the input data."
   ]
  },
  {
   "cell_type": "code",
   "execution_count": null,
   "metadata": {},
   "outputs": [],
   "source": [
    "import pandas as pd \n",
    "\n",
    "from openstef.data_classes.prediction_job import PredictionJobDataClass\n",
    "from openstef.feature_engineering.historic_features import (\n",
    "    add_historic_load_as_a_feature,\n",
    ")\n",
    "from openstef.feature_engineering.holiday_features import (\n",
    "    generate_holiday_feature_functions,\n",
    ")\n",
    "from openstef.feature_engineering.lag_features import generate_lag_feature_functions\n",
    "from openstef.feature_engineering.weather_features import (\n",
    "    add_additional_solar_features,\n",
    "    add_additional_wind_features,\n",
    "    add_humidity_features,\n",
    ")\n",
    "\n",
    "from openstef.data_classes.model_specifications import ModelSpecificationDataClass\n",
    "from openstef.feature_engineering.apply_features import apply_features\n"
   ]
  },
  {
   "cell_type": "code",
   "execution_count": null,
   "metadata": {},
   "outputs": [],
   "source": [
    "# load input data - containing load data and external predictors\n",
    "input_data = pd.read_csv('data/get_model_input_pid_438.csv', index_col='index', parse_dates=True)\n",
    "\n",
    "# define the predication job \n",
    "pj=PredictionJobDataClass(id=438,\n",
    "        model='xgb',\n",
    "        quantiles=[0.10,0.30,0.50,0.70,0.90],\n",
    "        horizon_minutes=48*60,\n",
    "        resolution_minutes=15,\n",
    "        lat = 1, #should become optional\n",
    "        lon = 1, #should become optional\n",
    "        train_components=False,\n",
    "        name='TestPrediction',\n",
    "        model_type_group=None, # Note, this should become optional\n",
    "        hyper_params={}, # Note, this should become optional\n",
    "        feature_names=None, # Note, this should become optional\n",
    "        forecast_type=\"demand\", # Note, this should become optional\n",
    "                  )\n",
    "\n",
    "modelspecs = ModelSpecificationDataClass(id=pj['id'])\n"
   ]
  },
  {
   "cell_type": "code",
   "execution_count": null,
   "metadata": {},
   "outputs": [],
   "source": [
    "# Obtain the derived features. This DataFrame contains both the input data as well as the derived features.\n",
    "\n",
    "derived_features=apply_features(\n",
    "    input_data,\n",
    "    pj,\n",
    ")\n",
    "\n",
    "# Find which features have been derived\n",
    "derived_features_names=derived_features.columns.difference(input_data.columns)\n",
    "print(\"This features have been derived from the input data \" + derived_features_names)"
   ]
  }
 ],
 "metadata": {
  "kernelspec": {
   "display_name": "openstef-offline-example",
   "language": "python",
   "name": "python3"
  },
  "language_info": {
   "codemirror_mode": {
    "name": "ipython",
    "version": 3
   },
   "file_extension": ".py",
   "mimetype": "text/x-python",
   "name": "python",
   "nbconvert_exporter": "python",
   "pygments_lexer": "ipython3",
   "version": "3.10.13"
  }
 },
 "nbformat": 4,
 "nbformat_minor": 2
}
